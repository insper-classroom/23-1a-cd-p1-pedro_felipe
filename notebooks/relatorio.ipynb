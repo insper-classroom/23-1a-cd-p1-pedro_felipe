{
 "cells": [
  {
   "cell_type": "markdown",
   "metadata": {},
   "source": [
    "# Projeto 1 - Ciência dos Dados"
   ]
  },
  {
   "attachments": {},
   "cell_type": "markdown",
   "metadata": {},
   "source": [
    "Nome: Pedro Henrique Almeida Vidal  \n",
    "\n",
    "Nome: Felipe Assed Carvalho"
   ]
  },
  {
   "cell_type": "markdown",
   "metadata": {},
   "source": [
    "Atenção: Serão permitidos grupos de três pessoas, mas com uma rubrica mais exigente. Grupos deste tamanho precisarão fazer um questionário de avaliação de trabalho em equipe"
   ]
  },
  {
   "cell_type": "markdown",
   "metadata": {},
   "source": [
    "___\n",
    "Carregando algumas bibliotecas:"
   ]
  },
  {
   "cell_type": "code",
   "execution_count": 1,
   "metadata": {},
   "outputs": [],
   "source": [
    "%matplotlib inline\n",
    "import pandas as pd\n",
    "import matplotlib.pyplot as plt\n",
    "import numpy as np\n",
    "import os"
   ]
  },
  {
   "cell_type": "code",
   "execution_count": 2,
   "metadata": {
    "scrolled": false
   },
   "outputs": [
    {
     "name": "stdout",
     "output_type": "stream",
     "text": [
      "Esperamos trabalhar no diretório\n",
      "c:\\Users\\Pedro Vidal\\Desktop\\P1_Cdados_Pedro_Felipe\\23-1a-cd-p1-pedro_felipe\\notebooks\n"
     ]
    }
   ],
   "source": [
    "print('Esperamos trabalhar no diretório')\n",
    "print(os.getcwd())"
   ]
  },
  {
   "cell_type": "markdown",
   "metadata": {},
   "source": [
    "Carregando a base de dados com os tweets classificados manualmente:"
   ]
  },
  {
   "cell_type": "code",
   "execution_count": 3,
   "metadata": {},
   "outputs": [],
   "source": [
    "filename = '../data/dados.xls'"
   ]
  },
  {
   "cell_type": "code",
   "execution_count": 4,
   "metadata": {},
   "outputs": [
    {
     "data": {
      "text/html": [
       "<div>\n",
       "<style scoped>\n",
       "    .dataframe tbody tr th:only-of-type {\n",
       "        vertical-align: middle;\n",
       "    }\n",
       "\n",
       "    .dataframe tbody tr th {\n",
       "        vertical-align: top;\n",
       "    }\n",
       "\n",
       "    .dataframe thead th {\n",
       "        text-align: right;\n",
       "    }\n",
       "</style>\n",
       "<table border=\"1\" class=\"dataframe\">\n",
       "  <thead>\n",
       "    <tr style=\"text-align: right;\">\n",
       "      <th></th>\n",
       "      <th>app_name</th>\n",
       "      <th>review</th>\n",
       "      <th>Target</th>\n",
       "    </tr>\n",
       "  </thead>\n",
       "  <tbody>\n",
       "    <tr>\n",
       "      <th>0</th>\n",
       "      <td>Warhammer: Vermintide 2</td>\n",
       "      <td>jogo não é ruim, mas se eu pudesse eu voltava ...</td>\n",
       "      <td>2.0</td>\n",
       "    </tr>\n",
       "    <tr>\n",
       "      <th>1</th>\n",
       "      <td>No Man's Sky</td>\n",
       "      <td>Não posso avaliar, porque NÃO CONSIGO JOGAR!\\n...</td>\n",
       "      <td>2.0</td>\n",
       "    </tr>\n",
       "    <tr>\n",
       "      <th>2</th>\n",
       "      <td>The Binding of Isaac</td>\n",
       "      <td>UPDATE: Dei outra chance, comprei o Rebirth e ...</td>\n",
       "      <td>2.0</td>\n",
       "    </tr>\n",
       "    <tr>\n",
       "      <th>3</th>\n",
       "      <td>Among Us</td>\n",
       "      <td>Parabens aos desenvolvedores desse jogo, muito...</td>\n",
       "      <td>2.0</td>\n",
       "    </tr>\n",
       "    <tr>\n",
       "      <th>4</th>\n",
       "      <td>The Elder Scrolls Online</td>\n",
       "      <td>É feio\\nNão tem akele girocóptero em camera le...</td>\n",
       "      <td>2.0</td>\n",
       "    </tr>\n",
       "  </tbody>\n",
       "</table>\n",
       "</div>"
      ],
      "text/plain": [
       "                   app_name  \\\n",
       "0   Warhammer: Vermintide 2   \n",
       "1              No Man's Sky   \n",
       "2      The Binding of Isaac   \n",
       "3                  Among Us   \n",
       "4  The Elder Scrolls Online   \n",
       "\n",
       "                                              review  Target  \n",
       "0  jogo não é ruim, mas se eu pudesse eu voltava ...     2.0  \n",
       "1  Não posso avaliar, porque NÃO CONSIGO JOGAR!\\n...     2.0  \n",
       "2  UPDATE: Dei outra chance, comprei o Rebirth e ...     2.0  \n",
       "3  Parabens aos desenvolvedores desse jogo, muito...     2.0  \n",
       "4  É feio\\nNão tem akele girocóptero em camera le...     2.0  "
      ]
     },
     "execution_count": 4,
     "metadata": {},
     "output_type": "execute_result"
    }
   ],
   "source": [
    "train = pd.read_excel(filename)\n",
    "train.head(5)"
   ]
  },
  {
   "cell_type": "code",
   "execution_count": 5,
   "metadata": {},
   "outputs": [
    {
     "data": {
      "text/html": [
       "<div>\n",
       "<style scoped>\n",
       "    .dataframe tbody tr th:only-of-type {\n",
       "        vertical-align: middle;\n",
       "    }\n",
       "\n",
       "    .dataframe tbody tr th {\n",
       "        vertical-align: top;\n",
       "    }\n",
       "\n",
       "    .dataframe thead th {\n",
       "        text-align: right;\n",
       "    }\n",
       "</style>\n",
       "<table border=\"1\" class=\"dataframe\">\n",
       "  <thead>\n",
       "    <tr style=\"text-align: right;\">\n",
       "      <th></th>\n",
       "      <th>app_name</th>\n",
       "      <th>review</th>\n",
       "      <th>Target</th>\n",
       "    </tr>\n",
       "  </thead>\n",
       "  <tbody>\n",
       "    <tr>\n",
       "      <th>0</th>\n",
       "      <td>Warhammer: Vermintide 2</td>\n",
       "      <td>jogo não é ruim, mas se eu pudesse eu voltava ...</td>\n",
       "      <td>2.0</td>\n",
       "    </tr>\n",
       "    <tr>\n",
       "      <th>1</th>\n",
       "      <td>No Man's Sky</td>\n",
       "      <td>Não posso avaliar, porque NÃO CONSIGO JOGAR!\\n...</td>\n",
       "      <td>2.0</td>\n",
       "    </tr>\n",
       "    <tr>\n",
       "      <th>2</th>\n",
       "      <td>The Binding of Isaac</td>\n",
       "      <td>UPDATE: Dei outra chance, comprei o Rebirth e ...</td>\n",
       "      <td>2.0</td>\n",
       "    </tr>\n",
       "    <tr>\n",
       "      <th>3</th>\n",
       "      <td>Among Us</td>\n",
       "      <td>Parabens aos desenvolvedores desse jogo, muito...</td>\n",
       "      <td>2.0</td>\n",
       "    </tr>\n",
       "    <tr>\n",
       "      <th>4</th>\n",
       "      <td>The Elder Scrolls Online</td>\n",
       "      <td>É feio\\nNão tem akele girocóptero em camera le...</td>\n",
       "      <td>2.0</td>\n",
       "    </tr>\n",
       "  </tbody>\n",
       "</table>\n",
       "</div>"
      ],
      "text/plain": [
       "                   app_name  \\\n",
       "0   Warhammer: Vermintide 2   \n",
       "1              No Man's Sky   \n",
       "2      The Binding of Isaac   \n",
       "3                  Among Us   \n",
       "4  The Elder Scrolls Online   \n",
       "\n",
       "                                              review  Target  \n",
       "0  jogo não é ruim, mas se eu pudesse eu voltava ...     2.0  \n",
       "1  Não posso avaliar, porque NÃO CONSIGO JOGAR!\\n...     2.0  \n",
       "2  UPDATE: Dei outra chance, comprei o Rebirth e ...     2.0  \n",
       "3  Parabens aos desenvolvedores desse jogo, muito...     2.0  \n",
       "4  É feio\\nNão tem akele girocóptero em camera le...     2.0  "
      ]
     },
     "execution_count": 5,
     "metadata": {},
     "output_type": "execute_result"
    }
   ],
   "source": [
    "train = pd.read_excel(filename, sheet_name = 'Treinamento')\n",
    "train.head(5)"
   ]
  },
  {
   "cell_type": "code",
   "execution_count": 6,
   "metadata": {},
   "outputs": [
    {
     "data": {
      "text/html": [
       "<div>\n",
       "<style scoped>\n",
       "    .dataframe tbody tr th:only-of-type {\n",
       "        vertical-align: middle;\n",
       "    }\n",
       "\n",
       "    .dataframe tbody tr th {\n",
       "        vertical-align: top;\n",
       "    }\n",
       "\n",
       "    .dataframe thead th {\n",
       "        text-align: right;\n",
       "    }\n",
       "</style>\n",
       "<table border=\"1\" class=\"dataframe\">\n",
       "  <thead>\n",
       "    <tr style=\"text-align: right;\">\n",
       "      <th></th>\n",
       "      <th>app_name</th>\n",
       "      <th>review</th>\n",
       "      <th>Target</th>\n",
       "    </tr>\n",
       "  </thead>\n",
       "  <tbody>\n",
       "    <tr>\n",
       "      <th>0</th>\n",
       "      <td>Mount &amp; Blade: Warband</td>\n",
       "      <td>Mano, mt bom, bora pro mount and blade 2 banne...</td>\n",
       "      <td>1</td>\n",
       "    </tr>\n",
       "    <tr>\n",
       "      <th>1</th>\n",
       "      <td>The Witcher 3: Wild Hunt</td>\n",
       "      <td>Melhor jogo ever do mundo, compra logo isso!</td>\n",
       "      <td>1</td>\n",
       "    </tr>\n",
       "    <tr>\n",
       "      <th>2</th>\n",
       "      <td>Rocket League</td>\n",
       "      <td>Esse Purgatório em forma de jogo, não me troux...</td>\n",
       "      <td>2</td>\n",
       "    </tr>\n",
       "    <tr>\n",
       "      <th>3</th>\n",
       "      <td>Grand Theft Auto V</td>\n",
       "      <td>Não precisa nem comentar né, afinal de contas ...</td>\n",
       "      <td>1</td>\n",
       "    </tr>\n",
       "    <tr>\n",
       "      <th>4</th>\n",
       "      <td>PLAYERUNKNOWN'S BATTLEGROUNDS</td>\n",
       "      <td>O jogo é muito bom, muito bom mesmo, mas infel...</td>\n",
       "      <td>2</td>\n",
       "    </tr>\n",
       "  </tbody>\n",
       "</table>\n",
       "</div>"
      ],
      "text/plain": [
       "                        app_name  \\\n",
       "0         Mount & Blade: Warband   \n",
       "1       The Witcher 3: Wild Hunt   \n",
       "2                  Rocket League   \n",
       "3             Grand Theft Auto V   \n",
       "4  PLAYERUNKNOWN'S BATTLEGROUNDS   \n",
       "\n",
       "                                              review  Target  \n",
       "0  Mano, mt bom, bora pro mount and blade 2 banne...       1  \n",
       "1       Melhor jogo ever do mundo, compra logo isso!       1  \n",
       "2  Esse Purgatório em forma de jogo, não me troux...       2  \n",
       "3  Não precisa nem comentar né, afinal de contas ...       1  \n",
       "4  O jogo é muito bom, muito bom mesmo, mas infel...       2  "
      ]
     },
     "execution_count": 6,
     "metadata": {},
     "output_type": "execute_result"
    }
   ],
   "source": [
    "test = pd.read_excel(filename, sheet_name = 'Teste')\n",
    "test.head(5)"
   ]
  },
  {
   "cell_type": "markdown",
   "metadata": {},
   "source": [
    "___\n",
    "## Classificador automático\n"
   ]
  },
  {
   "attachments": {},
   "cell_type": "markdown",
   "metadata": {},
   "source": [
    "Faça aqui uma descrição do seu assunto e o que considerou como relevante ou não relevante na classificação dos tweets (Target).\n",
    "\n",
    "Tendo como assunto reviews de jogos na plataforma \"Steam\", fizemos a seguinte triagem:\n",
    "1 - Opiniões sem teor julgador negativo\n",
    "2 - Opiniões anti-recomendativas"
   ]
  },
  {
   "cell_type": "markdown",
   "metadata": {},
   "source": [
    "___\n",
    "### Montando um Classificador Naive-Bayes\n",
    "\n",
    "Considerando apenas as mensagens da planilha Treinamento, ensine  seu classificador."
   ]
  },
  {
   "cell_type": "code",
   "execution_count": 7,
   "metadata": {},
   "outputs": [],
   "source": [
    "#De início, faz-se a limpeza. Para isso, define-se a função cleanup (apresentada na aula 08 - Lusíadas e Dom Casmurro) para que ocorram mudanças de sinais para strings vazias. \n",
    "import re\n",
    "def cleanup(text):\n",
    "    \"\"\"\n",
    "        Função de limpeza muito simples que troca alguns sinais básicos por espaços\n",
    "    \"\"\"\n",
    "    #import string\n",
    "    punctuation = '[´\"!-.:?;$'']' # Note que os sinais [] são delimitadores de um conjunto.\n",
    "    pattern = re.compile(punctuation)\n",
    "    text_subbed = re.sub(pattern, '', text)\n",
    "    return text_subbed\n",
    "#Em seguida, pensando nos caracteres especiais, realiza-se a seguinte sequência de códigos para que sejam removidos:\n",
    "def acentos_especiais (texto):\n",
    "    lista_acentos = ['ã', 'á', 'à', 'â', 'ô', 'õ', 'ó', 'ò', 'ê','è', 'é', 'í', 'ì', 'ú', 'ù']\n",
    "    vogais = ['a', 'o', 'e', 'i', 'u']\n",
    "    for caractere in lista_acentos:\n",
    "        if caractere in texto:\n",
    "            indexx = texto.index(caractere)\n",
    "            if indexx <= 3:\n",
    "                texto = texto.replace(caractere, vogais[0])\n",
    "            elif indexx > 3 and indexx <= 7:\n",
    "                texto = texto.replace(caractere, vogais[1])\n",
    "            elif indexx > 7 and indexx <= 10:\n",
    "                texto = texto.replace(caractere, vogais[2])\n",
    "            elif indexx > 10 and indexx <= 12:\n",
    "                texto = texto.replace(caractere, vogais[3])\n",
    "            else:\n",
    "                texto = texto.replace(caractere, vogais[4])\n",
    "    texto = texto.replace(u'\\xa0', '')\n",
    "    texto = texto.replace(u'\\u200b', '')\n",
    "    texto = texto.replace(u'\\\\', '')\n",
    "    texto = texto.replace(u'\\u200b', '')\n",
    "    texto = texto.replace('ç', 'c')\n",
    "    texto = texto.replace(u'\\u2019', '')\n",
    "    texto = texto.replace(u'\\u201D', '')\n",
    "    texto = texto.replace(u'\\u201C', '')\n",
    "    return texto"
   ]
  },
  {
   "cell_type": "code",
   "execution_count": 8,
   "metadata": {},
   "outputs": [
    {
     "data": {
      "text/html": [
       "<div>\n",
       "<style scoped>\n",
       "    .dataframe tbody tr th:only-of-type {\n",
       "        vertical-align: middle;\n",
       "    }\n",
       "\n",
       "    .dataframe tbody tr th {\n",
       "        vertical-align: top;\n",
       "    }\n",
       "\n",
       "    .dataframe thead th {\n",
       "        text-align: right;\n",
       "    }\n",
       "</style>\n",
       "<table border=\"1\" class=\"dataframe\">\n",
       "  <thead>\n",
       "    <tr style=\"text-align: right;\">\n",
       "      <th></th>\n",
       "      <th>app_name</th>\n",
       "      <th>review</th>\n",
       "      <th>Target</th>\n",
       "    </tr>\n",
       "  </thead>\n",
       "  <tbody>\n",
       "    <tr>\n",
       "      <th>0</th>\n",
       "      <td>Warhammer: Vermintide 2</td>\n",
       "      <td>jogo noo e ruim mas se eu pudesse eu voltava n...</td>\n",
       "      <td>2.0</td>\n",
       "    </tr>\n",
       "    <tr>\n",
       "      <th>1</th>\n",
       "      <td>No Man's Sky</td>\n",
       "      <td>nao posso avaliar porque não consigo jogar\\njo...</td>\n",
       "      <td>2.0</td>\n",
       "    </tr>\n",
       "    <tr>\n",
       "      <th>2</th>\n",
       "      <td>The Binding of Isaac</td>\n",
       "      <td>update dei outra chance comprei o rebirth e su...</td>\n",
       "      <td>2.0</td>\n",
       "    </tr>\n",
       "    <tr>\n",
       "      <th>3</th>\n",
       "      <td>Among Us</td>\n",
       "      <td>parabens aos desenvolvedores desse jogo muito ...</td>\n",
       "      <td>2.0</td>\n",
       "    </tr>\n",
       "    <tr>\n",
       "      <th>4</th>\n",
       "      <td>The Elder Scrolls Online</td>\n",
       "      <td>é feio\\nneo tem akele girocuptero em camera le...</td>\n",
       "      <td>2.0</td>\n",
       "    </tr>\n",
       "    <tr>\n",
       "      <th>...</th>\n",
       "      <td>...</td>\n",
       "      <td>...</td>\n",
       "      <td>...</td>\n",
       "    </tr>\n",
       "    <tr>\n",
       "      <th>474</th>\n",
       "      <td>No Man's Sky</td>\n",
       "      <td>░░░░░░░░░░░█▀▀░░█░░░░░░\\n░░░░░░▄▀▀▀▀░░░░░█▄▄░░...</td>\n",
       "      <td>2.0</td>\n",
       "    </tr>\n",
       "    <tr>\n",
       "      <th>475</th>\n",
       "      <td>PLAYERUNKNOWN'S BATTLEGROUNDS</td>\n",
       "      <td>jogo roda meio pesado ainda e as atualizacues ...</td>\n",
       "      <td>2.0</td>\n",
       "    </tr>\n",
       "    <tr>\n",
       "      <th>476</th>\n",
       "      <td>PLAYERUNKNOWN'S BATTLEGROUNDS</td>\n",
       "      <td>a proposta do jogo u utima a execucuo decepcio...</td>\n",
       "      <td>2.0</td>\n",
       "    </tr>\n",
       "    <tr>\n",
       "      <th>477</th>\n",
       "      <td>No Man's Sky</td>\n",
       "      <td>it wont open patch it up hello im trying here ...</td>\n",
       "      <td>2.0</td>\n",
       "    </tr>\n",
       "    <tr>\n",
       "      <th>478</th>\n",
       "      <td>Dead by Daylight</td>\n",
       "      <td>infelizmente o meu laptop nuo suportou jogar e...</td>\n",
       "      <td>1.0</td>\n",
       "    </tr>\n",
       "  </tbody>\n",
       "</table>\n",
       "<p>479 rows × 3 columns</p>\n",
       "</div>"
      ],
      "text/plain": [
       "                          app_name  \\\n",
       "0          Warhammer: Vermintide 2   \n",
       "1                     No Man's Sky   \n",
       "2             The Binding of Isaac   \n",
       "3                         Among Us   \n",
       "4         The Elder Scrolls Online   \n",
       "..                             ...   \n",
       "474                   No Man's Sky   \n",
       "475  PLAYERUNKNOWN'S BATTLEGROUNDS   \n",
       "476  PLAYERUNKNOWN'S BATTLEGROUNDS   \n",
       "477                   No Man's Sky   \n",
       "478               Dead by Daylight   \n",
       "\n",
       "                                                review  Target  \n",
       "0    jogo noo e ruim mas se eu pudesse eu voltava n...     2.0  \n",
       "1    nao posso avaliar porque não consigo jogar\\njo...     2.0  \n",
       "2    update dei outra chance comprei o rebirth e su...     2.0  \n",
       "3    parabens aos desenvolvedores desse jogo muito ...     2.0  \n",
       "4    é feio\\nneo tem akele girocuptero em camera le...     2.0  \n",
       "..                                                 ...     ...  \n",
       "474  ░░░░░░░░░░░█▀▀░░█░░░░░░\\n░░░░░░▄▀▀▀▀░░░░░█▄▄░░...     2.0  \n",
       "475  jogo roda meio pesado ainda e as atualizacues ...     2.0  \n",
       "476  a proposta do jogo u utima a execucuo decepcio...     2.0  \n",
       "477  it wont open patch it up hello im trying here ...     2.0  \n",
       "478  infelizmente o meu laptop nuo suportou jogar e...     1.0  \n",
       "\n",
       "[479 rows x 3 columns]"
      ]
     },
     "execution_count": 8,
     "metadata": {},
     "output_type": "execute_result"
    }
   ],
   "source": [
    "#Agora aplica-se ambas funções acima e a função .lower visando a facilitar o manuseio das probabilidades\n",
    "dados_treinamento = train\n",
    "dados_treinamento.review = dados_treinamento.review.apply(str).apply(cleanup)\n",
    "dados_treinamento.review = dados_treinamento.review.apply(acentos_especiais)\n",
    "dados_treinamento.review = dados_treinamento.review.apply(str.lower)\n",
    "dados_treinamento"
   ]
  },
  {
   "cell_type": "code",
   "execution_count": 9,
   "metadata": {},
   "outputs": [
    {
     "data": {
      "text/html": [
       "<div>\n",
       "<style scoped>\n",
       "    .dataframe tbody tr th:only-of-type {\n",
       "        vertical-align: middle;\n",
       "    }\n",
       "\n",
       "    .dataframe tbody tr th {\n",
       "        vertical-align: top;\n",
       "    }\n",
       "\n",
       "    .dataframe thead th {\n",
       "        text-align: right;\n",
       "    }\n",
       "</style>\n",
       "<table border=\"1\" class=\"dataframe\">\n",
       "  <thead>\n",
       "    <tr style=\"text-align: right;\">\n",
       "      <th></th>\n",
       "      <th>app_name</th>\n",
       "      <th>review</th>\n",
       "      <th>Target</th>\n",
       "    </tr>\n",
       "  </thead>\n",
       "  <tbody>\n",
       "    <tr>\n",
       "      <th>0</th>\n",
       "      <td>Mount &amp; Blade: Warband</td>\n",
       "      <td>mano mt bom bora pro mount and blade 2 bannerlord</td>\n",
       "      <td>1</td>\n",
       "    </tr>\n",
       "    <tr>\n",
       "      <th>1</th>\n",
       "      <td>The Witcher 3: Wild Hunt</td>\n",
       "      <td>melhor jogo ever do mundo compra logo isso</td>\n",
       "      <td>1</td>\n",
       "    </tr>\n",
       "    <tr>\n",
       "      <th>2</th>\n",
       "      <td>Rocket League</td>\n",
       "      <td>esse purgatirio em forma de jogo nuo me trouxe...</td>\n",
       "      <td>2</td>\n",
       "    </tr>\n",
       "    <tr>\n",
       "      <th>3</th>\n",
       "      <td>Grand Theft Auto V</td>\n",
       "      <td>nao precisa nem comentar nu afinal de contas g...</td>\n",
       "      <td>1</td>\n",
       "    </tr>\n",
       "    <tr>\n",
       "      <th>4</th>\n",
       "      <td>PLAYERUNKNOWN'S BATTLEGROUNDS</td>\n",
       "      <td>o jogo o muito bom muito bom mesmo mas infeliz...</td>\n",
       "      <td>2</td>\n",
       "    </tr>\n",
       "    <tr>\n",
       "      <th>...</th>\n",
       "      <td>...</td>\n",
       "      <td>...</td>\n",
       "      <td>...</td>\n",
       "    </tr>\n",
       "    <tr>\n",
       "      <th>316</th>\n",
       "      <td>DARK SOULS™ III</td>\n",
       "      <td>porqueira do caralho nuo colocaram nem a porra...</td>\n",
       "      <td>2</td>\n",
       "    </tr>\n",
       "    <tr>\n",
       "      <th>317</th>\n",
       "      <td>Hollow Knight</td>\n",
       "      <td>hollow knight \\n\\nopiniuo atualmente meu jogo ...</td>\n",
       "      <td>2</td>\n",
       "    </tr>\n",
       "    <tr>\n",
       "      <th>318</th>\n",
       "      <td>The Forest</td>\n",
       "      <td>jogo muito ficil e com poucas coisas para fazer</td>\n",
       "      <td>1</td>\n",
       "    </tr>\n",
       "    <tr>\n",
       "      <th>319</th>\n",
       "      <td>Grand Theft Auto V</td>\n",
       "      <td>este jogo e maravilhoso vale cada centavo pore...</td>\n",
       "      <td>1</td>\n",
       "    </tr>\n",
       "    <tr>\n",
       "      <th>320</th>\n",
       "      <td>Euro Truck Simulator 2</td>\n",
       "      <td>jogo cheio de hackers com players batendo nos ...</td>\n",
       "      <td>2</td>\n",
       "    </tr>\n",
       "  </tbody>\n",
       "</table>\n",
       "<p>321 rows × 3 columns</p>\n",
       "</div>"
      ],
      "text/plain": [
       "                          app_name  \\\n",
       "0           Mount & Blade: Warband   \n",
       "1         The Witcher 3: Wild Hunt   \n",
       "2                    Rocket League   \n",
       "3               Grand Theft Auto V   \n",
       "4    PLAYERUNKNOWN'S BATTLEGROUNDS   \n",
       "..                             ...   \n",
       "316                DARK SOULS™ III   \n",
       "317                  Hollow Knight   \n",
       "318                     The Forest   \n",
       "319             Grand Theft Auto V   \n",
       "320         Euro Truck Simulator 2   \n",
       "\n",
       "                                                review  Target  \n",
       "0    mano mt bom bora pro mount and blade 2 bannerlord       1  \n",
       "1           melhor jogo ever do mundo compra logo isso       1  \n",
       "2    esse purgatirio em forma de jogo nuo me trouxe...       2  \n",
       "3    nao precisa nem comentar nu afinal de contas g...       1  \n",
       "4    o jogo o muito bom muito bom mesmo mas infeliz...       2  \n",
       "..                                                 ...     ...  \n",
       "316  porqueira do caralho nuo colocaram nem a porra...       2  \n",
       "317  hollow knight \\n\\nopiniuo atualmente meu jogo ...       2  \n",
       "318    jogo muito ficil e com poucas coisas para fazer       1  \n",
       "319  este jogo e maravilhoso vale cada centavo pore...       1  \n",
       "320  jogo cheio de hackers com players batendo nos ...       2  \n",
       "\n",
       "[321 rows x 3 columns]"
      ]
     },
     "execution_count": 9,
     "metadata": {},
     "output_type": "execute_result"
    }
   ],
   "source": [
    "#Agora para a planilha de teste:\n",
    "dados_teste = test\n",
    "dados_teste.review = dados_teste.review.apply(str).apply(cleanup)\n",
    "dados_teste.review = dados_teste.review.apply(acentos_especiais)\n",
    "dados_teste.review = dados_teste.review.apply(str.lower)\n",
    "dados_teste\n"
   ]
  },
  {
   "cell_type": "code",
   "execution_count": 10,
   "metadata": {},
   "outputs": [
    {
     "data": {
      "text/plain": [
       "Index(['Ok', 'Negativo'], dtype='object')"
      ]
     },
     "execution_count": 10,
     "metadata": {},
     "output_type": "execute_result"
    }
   ],
   "source": [
    "#Pensando na análise e classificação das reviews, temos:\n",
    "dados_treinamento['Target'] = dados_treinamento['Target'].astype('category')\n",
    "#Classificações das reviews\n",
    "dados_treinamento['Target'].cat.categories = ['Ok', 'Negativo']\n",
    "dados_treinamento['Target'].cat.categories"
   ]
  },
  {
   "cell_type": "code",
   "execution_count": 11,
   "metadata": {},
   "outputs": [
    {
     "data": {
      "text/plain": [
       "'targeted\\nataca com numeros\\nnuo ataca com o mouse\\nmobilidade totalmente exquisita joguei 12 minutos e nuo aguentei jogar maisrealmente muito bom para jogar com o amigo entao e sensacional porem nao sou muito fa de jogos de carroo jogo o legal o problema o nuo ser bom neleputa jogo tiu  altos tiroteiosum dos melhores jogos sem duvidas nenhumasimplesmente um dos melhores jogos que joguei nos ultimos meses impecuvel na jogabilidade e no designquem noo comprou atu agora compre  fps tutico  gameplay diferente dos outros do genero\\nin english below  port sempre tive um preconceito com esse jogo mas quando fui jogar por si su me surpreendi bastante vc se apega rupido com o niko ele u bem bacana as musicas boas e a imersuo suo garantidas ainda nuo zerei acabei de concertar o botuo do elevador se vc jogar vai saber e a ost da cidade meu amigo u incruvel obs o jogo nuo possuu batalhas mas vocu releva isso bem rupido por conta da histuria e a forma em que vocu avanca no jogo\\n\\neng i was aways used to have a little prejudice with this game but when i played by myself i got really surprised you get used really fast with niko he is pleasant you can guarantee great musics and immersion ive not finished yet i just fixed the elevator button if you play the game you will know and the city soundtrack pal its awesome note this game dont have any battle but you will forget this really fast because of the good history and the way that the game progresseso jogo o ótimo o realmente muito bom minha negativa o pelo hitbox ja foi dito que nuo vuo arrumar o hitbox pq estu  certo  mas nuo concordo nuo faz sentido ter tabuas pra vc derrubar janela pra vc pular se 111 das vezes o assassino te acerta do outro ladojogo muito bom com a histuria mais clichu do universo mas com um humor nice \\n\\nonline vocu pode jogar com amigos ou players aleaturios em 3 modos de jogos diferentes\\n\\noffline vocu joga solo nada de bots para te ajudar e tem acesso u apenas 2 modos de jogonuo teria sentido algum tirar x1 solo\\n\\nclasses ao fim de cada fase vocu pode distribuir pontos em certos tupicos que vuo definir a que classe vocu pertence [ou nuo rsrs] vocu pode distribuir seus pontos em agilidadeaquearia defesahp dano e magiaedit depois da ultima atualizacuo ficou horruvel trava sempre que entro pra jogar muito ruim\\n\\nmuito top vale cada centavo pago roda no linux e u muito divertido jogar online alum dos belos gruficos tem uma trilha sonora utima 11/11olha o jogo i sim bom mas o que falta i otimizar essa merda de mapa que nuo importa a configuracuo de video que comeca a lagar/travar mesmo que os requisitos recomendaveis estejam alcancados outra coisa o destaque do seu personagem o marcos i hackear e fazer os parkour daora mas se voce efetua um disparo para o alto ou em qualquer outro lugar os pedestres realizam as mesmas movimentacues para correr e eles realizam o parkour  igual ao do protagonista nuo ha distincuo mesmo que voce veja que aquele npc que talvez seja mais gordo e provavelmente nuo conseguiria pular de um muro ou escalar um muro isso acontece que i fora do padruo se voce olhar os npcs todos eles correm igual a voce o protagonista do jogo sem falar que o carro parece papel nao parece que voce esta realmente dirigindo um veiculo pesado e com fisicas tirando isso e mais coisas o jogo estu bom a dublagem em portugues i muito boa coisas que empresas maiores nuo fazemo melhor jogo de estrategia da paradoxminha opiniao\\ne espero que ganhe algo no awardsskyrim segue a proposta da serie the elder scroll de te colocar dentro de um mundo inteiro e completo cheio de historias fantasticas onde voce e o dono da sua propria historia tudo e possivel uma experiencia que todos devem ter pelo menos uma vez na vida agora com a chegada da special edition espero que o jogo persista como um dos melhores jogos de rpg single da ultima decada e talvez da proxima\\n\\n[h1]pros[/h1]\\n[list]\\n[]sistema de combate unico\\n[]111 mundo aberto\\n[]sistema de crafitingarmor weapons potions complexo e gigantesco\\n[]comunidade ativa no workshop inclusive e possivel baixar novas quests e regioes de mapa\\n[]possibilidade de jogar como voce quiser seja um tanker mage se voce quiser\\n[]a historia u sua sejam quem voce quiser como voce quiser\\n[/list]\\n[h1]cons[/h1]\\n[list]\\n[]as vezes o jogo tem minor bugs porem para um jogo desse tamanho nao e um problema\\n[]voce vai perder sua vida\\n[/list]\\n[h1]death to the thalmors hail the stormcloacks[/h1]jogo o top mais tenho quedas de frames constante mau uso de gpuo jogo em si u utimo tem uma boa play forma de jogo grufico e tudo mas infelizmente muitos bugs muitos mesmo ex quando da algum erro de conexuo com o host killer e o jogo fica numa tela infinita onde vocu nuo consegue sair nem cancelar quando vocu derruba uma barreira no killer e ainda assim ele consegue te dar um hit onde geralmente influencia muito nas viturias contra o killer tambum quando vocu fica passando de um lado para o outro na barreira e o sobrevivente acaba bugando e assim ficando travado nela onde o killer su precisa quebrar a barreira e te matar fora isso o jogo u utimo mas ainda tem muitas coisas para se resolver em questuo de conexuo e tudo maisbem joguei por um bom tempo agora acho que da pra avaliar \\no jogo u fenomenal muito imersivo verdadeira experiuncia de elder scrolls jogar com amigos u extremamente recompensador mas jogar solo nuo u impossuvel eu odiei o sistema de combate mas o jogo u tuo excelente que ainda assim consigo curtir recomendo pegar na promocuo mesmo su o jogo base deve demorar anos pra explorar tudo[h1] obra de arte [/h1]\\n\\no primeiro jogo que eu realmente viciei em nuveis espetaculares normalmente jogo 1  2 horas de jogo no diaadia mas esse me fez jogar 4  5 horas direto   su na primeira gameplay é bem otimizado interessante e uma obra de arte se tem um jogo pra mim recomendar u esse[h1] excelente do comeco ao fim [/h1]\\n\\n[table]\\n    [tr]\\n        [th]  categoria  [/th]\\n        [th]  pontos observados [/th]\\n        [th]  pontuacuo  [/th]\\n    [/tr]\\n    [tr]\\n        [td]gameplay[/td]\\n        [td]  controles leveldesign dificuldade mecunicas  etc  [/td] \\n        [td] ★★★✰✰ [/td]\\n    [/tr]\\n    [tr]\\n        [td]narrativa[/td]\\n        [td]  historia diulogos enredo estrutura personagens etc  [/td]\\n        [td] ★★★★★ [/td]\\n    [/tr]\\n    [tr]\\n        [td]gruficos[/td]\\n        [td]  estutica fidelidade animacues efeitos etc [/td]\\n        [td] ★★★★✰ [/td]\\n    [/tr]\\n[tr]\\n        [td]áudio[/td]\\n        [td]  trilha sonora dublagem efeitos sonoros etc  [/td]\\n        [td] ★★★★★ [/td]\\n    [/tr]\\n[tr]\\n        [td]social[/td]\\n        [td]  multiplayer interacuo com outros jogadores etc  [/td]\\n        [td] [b]n/a[/b] [/td]\\n    [/tr]\\n[tr]\\n        [td]tucnico[/td]\\n        [td]  falhas e bugs fusica performance traducuo etc  [/td]\\n        [td] ★★★★★ [/td]\\n    [/tr]\\n[tr]\\n        [td]valor[/td]\\n        [td] preco no mercado dlcs conteudo entregue etc  [/td]\\n        [td] ★★★★★ [/td]\\n    [/tr]\\n[/table]\\n\\n[b] gameplay [/b] \\nnuo espere uma [i]gameplay[/i] dinumica e rupida ju que o foco principal do jogo u a [i]histuria[/i] maior parte do tempo que o jogador vai passar [i]jogando[/i] u navegando pelo cenurio e procurando fragmentos de memoria do paciente com puzzles bem simples e repetitivos ao final de cada memoria considere mais como uma histuria interativa do que especificamente um jogo \\n\\n[b] narrativa [/b]\\no jogo possui uma histuria fantustica intrigante e emocionante do comeco ao fim com detalhes que vuo sendo explicados melhor conforme o jogo progride todos os personagens suo muito bem desenvolvidos e conseguem ser carismuticos com suas pruprias personalidades ao ponto de o jogador sentir um vunculo afetivo com cada um   \\n\\n[b] gráficos [/b] \\npara um jogo feito no [i]rpg maker[/i] ele consegue ser esteticamente muito bonito com uma paleta de cores escuras que se encaixam muito bem com a ambientacuo do jogo alem dos cenurios que suo extremamente detalhados o jogo ainda possui pequenas cenas animadas que contribuem tanto para a [i]histuria[/i] quanto para a estutica do jogo \\n\\n[b] áudio [/b]\\nnuo se tem muito para falar nesse ponto exceto da trilha sonora que u excelente totalmente instrumental e que anda de muos dadas com a [i]narrativa[/i] do jogo\\n\\n[b] social [/b]\\nnuo possui o jogo u totalmente [i]singleplayer[/i]  \\n\\n[b] técnico [/b] \\na parte tucnica estu em perfeito estado com nenhum [i]bug[/i] ou qualquer problema de [i]performance[/i] encontrado durante toda a [i]gameplay[/i] alum da traducuo em portuguus que estu muito bemfeita \\n\\n[b] valor [/b] \\npara o preco o jogo consegue trazer muito bem o que promete alum de possuir duas [i]dlcs[/i] totalmente gratuitas que complementam a histuria do jogoum dos melhores jogos que ju comprei infinitas possibilidades infinitos mods muitas horas de divercuojogo o bem legal tem uma curva de aprendizagem enorme mais o gratificante quando consegue cotnrolar spray recomento simpra ganhar e perder o cagaco em algumas horascoisa legal nesse jogo e customizacao e farma bot no hordese voce esta comprando o jogo pelo modo historia va em frente ele u muito bom e divertido mas se vc esta procurando uma experiencia boa on line  se prepare para o jogo mais desbalanceado e pay to win dos ultimos tempos aonde voce paga 211 reais para comprar carros voadores atiradores de rockt lancher indestrutives  mas se voce esta procurando jogar sem gastar dinheiro ha ha se prepare para fazer missoes chatas pois as mais legais correm o risco desses babacas que pagam estragaram elas \\neditu possivel dropar a secuo do gta online e jogar sozinho ou com amigos nela o que conserta   o  online porem ter que fazer isso fora do jogo u realmente comicojogo excelente porum no meu jogo em partida ocorre muitos bugs e erros\\nmuito bom e legal e du pra fazer sua  propria familia no jogo o problema master aqui e o idioma vou ter que fazer a fisk pra jogar o jogo kkkkkkkk a zidea kkkkk\\n\\n\\n\\n\\n\\n\\n\\nresposta rapida nãonão vale a penamuito bom  realmente se conseguir pegar uma promocao um dos melhores da steam\\nmelhor jogo de sobrevivencia mundo aberto que ja jogueijogo a muitos anos e nunca perde a graca muito bombest game ever \\n\\nstill the best game everdivertido alguma mecunicas bacanasedit 22/11/2117 infelizmente o modo online foi completamente corrompido por hackers e mal gerido pela rockstar é triste ver toda a ascensuo e o auge de um jogo que tinha tudo pra ser e foi brevemente um dos melhores jogos da upoca e que hoje apenas vive da sombra dos seus tempos passados de gluria\\n\\n\\n\\nanulise original sinceramente nuo sei por onde comecar minha anulise pois esta versuo u infinitamente melhor do que a versuo de xbox 361 que eu joguei novas musicas novas armas novas roupas modo de visualizacuo em primeira pessoa jogo mais fluudo e muito mais bonito surio nem parece aquele mesmo jogo de 2113 se eu pudesse resumir minha experiuncia com gta v em uma palavra ela seria espetaculardepois das ultimas atualizacues o jogo ju roda tranquilamente na minha gtx 961 ele melhorou bastante desde que foi lancado mas ainda tem muito que melhorar principalmente nas batalhas espaciais▒█▀▀█ ▒█▀▀▀ ▒█▀▀█ ▀█▀ ▒█▀▀▀█ ▒█▄░▒█\\n▒█▄▄▀ ▒█▀▀▀ ▒█░▄▄ ▒█░ ▒█░░▒█ ▒█▒█▒█\\n▒█░▒█ ▒█▄▄▄ ▒█▄▄█ ▄█▄ ▒█▄▄▄█ ▒█░░▀█\\n\\n▒█░░░ ▒█▀▀▀█ ▒█▀▀█ ▒█░▄▀\\n▒█░░░ ▒█░░▒█ ▒█░░░ ▒█▀▄░\\n▒█▄▄█ ▒█▄▄▄█ ▒█▄▄█ ▒█░▒█\\n\\n▒█▀▀█ ▒█░▒█ ▀█▀ ▒█▄░▒█ ░█▀▀█\\n▒█░░░ ▒█▀▀█ ▒█░ ▒█▒█▒█ ▒█▄▄█\\n▒█▄▄█ ▒█░▒█ ▄█▄ ▒█░░▀█ ▒█░▒█esse jogo e sensacional a histuria e muito boa e os novos gruficos ficaram perfeitos para quem gostava/gosta de halflife vai sentir uma nostalgia muito grande jogando black mesa e vai ser utimo\\nnuo esqueca de ver as especificacues pois ele pode rodar travando um pouco em pc que nuo e muito forte mas em geral se deixar tudo no baixo o jogo roda bem\\n\\nedit2121 lembrando que agora estu disponuvel a parte do jogo que se passa em xen ou seja o jogo estu completomuito bom o jogo bem equilibrado para os dois lados tanto survivor quanto killer as vezes passamos raiva com os killers campers mas faz parte tirando isso u muito viciante alum de ser divertido de jogar mesmo sozinhomaltiplas quest mapa complexo e grande para exploracuo baas por todo mapa boss slime gordos captura e cuidados de slimes sendo eles muitos fofos 3 esse jogo u encantador porum chega um momento que os boss acaba o mapa estu completo e todos os slimes capturados ele vira cansativo igual todos os outros games de fazenda que tem mas esse u incrivelmente fofo ai vai de cada pessoa se acha que seu dinheiro vale um divertimento momentuneo mas muito fofo esse jogo te vicia e com as atualizacues que nele hu nuo duvido que em breve possa ter mais quest e mas slimes e com isso mais boss enfim diversuo garantida susto com os slimes pretos do satanus que come dos fofenios misturios objetivos como eu disse jogo completo vale o meu dinheiroservers hospedados em uma clinica de aborto clandestinaa ideia e a proposta do jogo e mt boa\\nmas os problemas que o jogo tem acaba te deixando frustado alguns fazem que vc tenha que comecar outro reino pq alguns bugs realmente te deixam parado no jogo que faz vc nao conseguir evoluir e ir pra frente no jogo e acaba tendo que reiniciar desde o zero ou perder a coroa pra poder reerguer o reino  so assim que consegui arrumar um dos bugs que nao dava para progredir \\n\\npra mim u um 6/11\\namei o hud do jogo que e bem cleansem limite pra imaginacuo\\nu mais divertido com amigos se vocu jogar sozinho vocu tambum pode se divertir mas nuo teru uma experiuncia boao que dizer de skyrim  como comecar \\n\\nskyrim para mim tem uma jogabilidade muito boa  a historia toda bem detalhada atu as missoes mais simples tem todo um contexto muito bom e chamativo  faz com que o jogador fique querendo saber mais tipo  oque seru que vai acontecer agora \\ncomo se ja nao bastasse o jogo tem um mapa gigante para se explorar e em cada lugar tem alguma coisa para se fazer e com a dlc dragonborn abre uma nova area concideravelmente grande com novos lugares para se explorar  itens que valem muito serem explorados \\n\\nresumindo  o jogo e awesome  vale muito comprar  vale muito apena se explorar cada parte porque vai ter itens muito bons te esperando  e as dlcs concerteza sao praticamente uma obricao de se ter tambem principalmente para os amantes desse jogo como eu \\n\\nbom eu acho que deixei de falar muita coisa mas e impossivel se falar de tudo se tratando de the elder scrollsjoguei ate agora  3 horas de jogo e estou adorando recomendo muitonao do para jogar sozinho lindo jogo mas vc nao joga soloagora o jogo e jogavel eu achojogo super divertido para se jogar em grupo su  nuo recomendo pela quantidade de bugs que o jogo apresenta problemas para conectar com amigos e mods bugados workshop e uns numeros\\n\\nse arrumar isso recomendo totaluma otima continuacuo da surie com melhorias muito significativas que deixaram o jogo muito mais bonito e com novas opcues na interacuojogo muito bom recomendo pra quem gosta de historia e geografiao melhor que ju joguei de toda a saga total war tirou muita coisa que nuo gostava como por exemplo os espiues e as guerras fluem em um ritmo mais tranquilo dando chances de executar melhores tuticas de ataque e defesa realmente estuo de parabuns me divertindo bastantezerei é legal não gostei muito do final mas e legalsimplesmente o melhor jogo do ano tem tudo que um jogo precisa trilha sonora magnufica gruficos lindos mecunicas boas fator replay customizacuo histuria dificuldade personagens mesmo nuo sendo joguveis enfim nuo faltou nada\\n11/11ótimo jogo pena que depois de um tempinho vocu enjoa mas u su dar uns dias e entrar novamente que vocu vicia novamente kkk\\né mais divertido no cooperativo pois as vantagens suo maiores porum ocorre de vez em quando uns bugs no cooperativo como exemplo policial em um local e seu amigo nuo vu o mesmo policial que vocu\\nrecomendo pois a divercuo u garantida outra coisinha tambum tome cuidado pois ele pode estressar um pouco kkkk\\ngrafico\\n\\n☐ruim\\n☑mudio\\n☐alto\\n☐muito alto\\n\\nserversbr\\n\\n☐poucos\\n☑mudio\\n☐muitos\\n\\nrequisitos\\n\\n☑calculadora\\n☐baixo\\n☐mudio\\n☐alto\\n☐pc da nasa\\n\\ncomunidade\\n\\n☐tuxica\\n☐ruim\\n☐zoeira\\n☑boa\\n☑muito boa\\n\\njogabilidade\\n\\n☐ruim\\n☑mudia\\n☑boa\\n☐muito boa\\n\\npay2win\\n\\n☑nuo\\n☐sim\\n\\n\\nrecomendo ☑\\nnuo recomendo ☐\\n\\n\\n\\nnota final 83muito bom e engracado gosto muitoda pra jogar com controle do x box 361  com receptor windowss obviamentegeral que for comprar o terraria compra ai mano o jogo e muito bom msm \\npoderiam me ajudar pois ele instalou mas nao entrou e diz que parou de funcionar pseu comprei o euro truck simulator  sem dlc\\nexcelente jogo para se jogar com amigosunico jogo que joguei e realmente fiquei com medo de morrernice survivalrecomendo 111otimo jogosvaleu apena eu comprar eleum jogo muito bom com uma imensa quantidade de coisa para fazer sem contar com o incruvel suporte para mods de diversas variedades des de armas e armaduras ate cidades e npcsmuito bom se vc tiver o volante g27 ou outro fica melhor aindaviciante se vocu ama caminhues e etc vc vai amarcom uma histiria impecavul e itima jogabilidade esse jogo bate de frentes com muitos da nova geracuo teriamos sorte se todos os games fossem feitos com a mesma maestria dessemuito loco daora de mais su precisa de um pc bom mesmo pra aguentar os efeitosdefinitivamente o jogo do ano basta ficar 12 semanas sem jogar e ju bate a saudades do jogo\\ndefinitely game of the year material the feels come and hit you everytime \\nyou stay a while without playing 11/11 would hunt pickles againsa joguei quando tinha pc merda depois que melhorei ele a poha dos meu colegas de ts nuo jogam comigomelhor jogo de estratugia que joguei nos ultimos tempos recomendoum jogo que tem atualizacues constantes porum ainda nuo u otimizado o que u um grande problema para muitos jogadores que precisa remover texturas etc para pouco desempenho tirando esse ponto negativo um utimo jogo tanto para passar o tempo jogar com os amigos e conhecer novosentao o um jogo muito bom ato tu tomar um tk por teoricamente ter papado uma kill em competitivo lulmuito bom gasta tempo e e divertidodesfaz mais amizade que uno gosteidevelopers dont give a f\\npretty good job so far go play civ\\n\\nbut is fun if you dont play as a killer and play with friends d go watch h2o delirious to see what im talking aboutsinseramente e o jogo mais lindo que joguei em anosum jogo educativo que te ensina como ganhar dinheirofinalmente consegui todos os possuveis desconect peguei o de inatividade hj o/jogo muitoooooooooo bom compra e o melhor jogo de exploração mundo aberto em 2d 11/11bugs que mal se percebe su se tu for sortudo mas em si o jogo u perfeito  <3gta v o um jogo perfeito em diversos aspectos possuindo gruficos de se cair o queixo uma histuria envolvente e um gigantesco mapa possuindo diversos objetivos e missues as quais vocu perdera algumas horas para explorar todos os recursos ju seu modo online deixa a desejar um pouco ju que suas telas de carregamento suo muito demoradas e um tanto quanto confusas mas em geral o modo online o muito divertido e estressante ao mesmo tempo possuindo diversos minigames unicos e divertidos sem contar com seu suporte a mods que hu uma imensa variedade e opcues para todos os tipos de gosto em geral o um jogo excelente o qual vocu dedicara vurias horasesse game e um misto de diversuo e liberdade vc pode apenas passear como pode promover o caos aqui tu pode seguir a historia jogar online ou apenas tocar o zaraio recomendo demaisgrande clessico de jogo de estratugia por turno \\npessoalmente um dos melhores civilizations dlc modificam e muito o jogo porum para melhoreste jogo e muito divertido principalmente para jogar com amigosesta dando erro no launhcer saporra desde 2118 nao consegui jogar uma  vez se quer  quando abro o jogo diz que minha conta nao existe e que o jogo off line esta indisponuvel   tenho uma muquina da nasa  boa pra cacete e nao consigo jogar  e ajudemjogos survival nuo fazem meu estilojogo maravilhoso fantustico vontade de conhecer cada pedaco desse mundo viver muitas aventuras ficar poderoso realmente um capricho da cd project redum jogo bom para gastar tempo com seus varios modos de jogo se torna uma boa jogatinarealmente e um jogo muito bom o triste e saber que os requisitos minimos suo uma mentira meu pc core 2 quad 316ghz 4 gb de ram gt 611 2 gb consigo apenas iniciar o game u uns 21 fps e andar um pouco com um personagem mas se eu pegar um carro e correr comeca a dar muita queda de fps nuo consigo fazer missues pvp e corridas e triste saber que gastei o dinheiro a toa jogo 811x611 com tudo no munimo e directx 11 usando 836 mb de memuria de vudeo e mesmo assim nuo consigo jogarjogo e bom e divertido roda em pc fraco  muito bom jogaco daqueles que vocu se diverte sempre em cada partida jogo casual e envolvente formula certa para jogos de partidas rupida onlineem busca do final da trilogia fantastica deste game e com certeza nuo vou me arrependerjogo mais completo que ja vium jogo muito bom na qual u possivel perder muito tempo apenas acho que existem muitas dlcs que poderiam vir junto ao jogomuito bom a historia e a jogabilidade e otima alem de uma comunidade torpe tbmjogo muito bom e viciante no inucio enjoa fucil mas se continuar jogando o jogo fica muito legal nuo passo mais 1 dia sem jogarmelhor jogo da franquia na minha opiniuo movimentacuo excelente map design incruvel alem das batalhas serem fodas o jogo u bem otimizado definitivamente estu na minha lista de favoritos[b]momodora reverie under the moonlight u um game indie metroidvania onde vocu controla kaho uma sacerdotisa no reino de kast atrus de uma audiuncia com a rainha para tentar impedir uma maldicuo que esta matando varias pessoas[/b]\\n\\nesse game u belussimo as musicas cenurios e animacues dos sprites suo utimas u simples na movimentacuo vocu corre rola pula e tem um ataque a curta distuncia e longa enquanto vai progredindo pode encontrar itens que auxiliam a sua jornada tipo regeneracuo de hp especiais e mais dinheiro\\n\\na melhor coisa desse game suo os bosses cada um deles tem movimentacues e ataques unicos sendo um pouco desafiadores ou bem fuceis dependendo da sua dificuldade\\n\\nmomodora reverie under the moonlight u uma obraprima indie pena que dura pouco nuo e difucil atingir 111 realmente vale bastante a pena\\nhttps//steamcommunitycom/sharedfiles/filedetails/id=1594146179grafico\\n\\n☐ruim\\n☐mudio\\n☐alto\\n☑muito alto\\n\\nrequisitos\\n\\n☐calculadora\\n☐baixo\\n☐mudio\\n☑alto\\n☑pc da nasa\\n\\ncomunidade\\n\\n☐tuxica\\n☐ruim\\n☐zoeira\\n☐boa\\n☑muito boa\\n\\njogabilidade\\n\\n☐ruim\\n☐mudia\\n☑boa\\n☑muito boa\\n\\nrecomendo ☑\\nnuo recomendo ☐o jogo consegue recriar as mesmas emocues e jogabilidade do original com uma maestria tremenda\\né noturio o cuidado e carinho empregado em cada canto do jogo\\nrecomendo\\n\\nλmuito bom agora me de minha insigniaúnico ponto negativo u o acumulo de vurios anos de  missues obrigaturias para quem estu iniciando agora todo resto u utimo principalmente pve e a historiajoguei intensamente os 81 minutos no menujogo muito bom mas quando passa muito tempo fica dificil d to no dia 31 e toda hora aparece um papacu/canibal com muitos bracos e quase morro toda vez mais tirando isso e o melhor jogo de sobrevivencia na florestaesse o um dos poucos reboots que eu ju  vi que conseguiu com maestria superar seus antecessores em quase todos os aspectos com sua boa ambientacuo na ilha de yamatai o utimo gameplay que lembra um pouco os jogos da sorie unchartede isso nuo o algo ruim pelo contrurio ato mesmo a histuria que nuo o algo surpreendente pode desperta o interesse\\n\\n\\n\\n\\n\\nea larinha estu excepcional nesse jogo se o que vocu me entende つ ͡° ͜ʖ ͡°つpecou no quesito de nao ter astolfosuper jogo\\n\\nhu muito tempo nuo jogava um fps de qualidade e que me faca correr atrus de health para recuperar minha energia ao invus de me fazer parar um pouco pra respirar recuperar a energia e voltar a jogar novamente\\n\\nrecomendo demaissa marcando presenca apenasmelhor grefico que je joguei atu hoje dos jogos nesse estilo simplesmente perfeitopelotas coloridas sem bracos que eston em uma nave no meio del espaco correndo una periculosidad de serem cruelmente dizossadas por um pelotudo cabron\\n\\n\\n\\nmuito bom legal legalíssimo adorei nossa que jogo\\n\\nedit apus quase 111 horas de gameplay posso dizer que o jogo u bom mas nuo u perfeito nem impecuvel como algumas pessoas gostam de dizer e su pra constar as palavras que dediquei acima foram altamente sarcusticas\\n\\na campanha do jogo nuo u horruvel mas tu longe de ser tuo boa quanto as campanhas de gta iv e gta sa\\n\\no modo online su tem moleque abobalhado nuo vale a pena jogar se for comprar pra jogar multiplayer baixe o fivem nuo u bom tambum mas u melhor que o online padruojogo \\n\\n   ruim\\n   mudio\\n   bom \\nx ótimo\\n  perfeito\\n\\nhisturia \\n\\n   sem sentido\\n   confuso\\n   falta um pouco de enrendo\\nx boa e criativa\\n  melhor histuria\\n\\ngruficos \\n\\n   fracos demais\\n   fracos\\n   precisa de alguns ajustes\\n   bom\\n   hd\\nx hd full 4k qled perfeito\\n\\njogabilidade \\n\\n   fucil demais atu pra uma crianca de 1 ano\\n   fucil\\n   mudio\\nx mudio tem que ser ugil\\nx difucil\\n   extremamente duficil vai ter que usar a habilidade suprema\\n\\nrecomendo \\n\\n   nuo recomendo pra ninguum\\n   nuo recomendo\\nx recomendo\\n   recomendo infinitamente\\nque jogo hein amigos recomendo mt msm se tiver dinheiro vale mt a pena mt tempo de gameplay a historia u maravilhosao jogo o muito bom exige uma boa mecanica e atencuo do jogador a historia tbm o mto boa com um plot twist mto locoyou died you died you died you died you died you died you died you died you died you died you died you died you died you died you died you died you died you died you died you died you died you died you died you died you died you died you died you died you died you died you died you died you died you died you died you died you died you died you died you died you died you died you died you died you died you died you died you died you died you died you died you died you died you died you died you died you died you died you died you died you died you died you died you died you died you died you died you died you died you died you died you died you died you died you died you died you died you died you died you died you died you died you died you died you died you died you died you died you died you died you died you died you died you died you died you died you died you died you died you died you died you died you died you died you died you died you died you died you died you died you died you died you died you died you died you died you died you died you died you died you died you died you died you died you died you died you died you died you died you died you died you died you died you died you died you died you died you died you died you died you died you died you died you died you died you died you died you died you died you died you died you died you died you died you died you died you died you died you died you died you died you died you died you died you died you died you died you died you died you died you died you died you died you died you died you died you died you died you died you died you died you died you died you died you died you died you died you died you died you died you died you died you died you died you died you died you died you died you died you died you died you died you died you died you died you died you died you died you died you died you died you died you died you died you died you died you died you died you died you died you died you died you died you died you died you died you died you died you died you diedcom toda certeza uma utima recomendacuo pra uma experiuncia completa coop superando o anterior em vurios aspectos a maior melhoria foi com toda certeza o sistema de salvamento agora caso o host caia da partida ou encerre a sessuo nuo precisa reiniciar a fase do zero mas sim carregar no ultimo checkpoint automutico ou no ultimo salvamento manual opcuo disponuvel pra guardar o progresso sempre qe desejar fora isso os mapas ficaram ainda maiores e cm mais liberdade suo oito fases com um open world limitado e mais quatro fases de dlc proporcionando pelo menos 11 horas de diversuo e todos os nuveis suo mto bem feitos e desafiadores com cenurios unicos e diferentes estratugias para passar cm cautela e sem alarmar toda a tropa inimiga alum da missuo principal toda fase tem vurios objetivos secundurios opcionais valendo a pena completalos para um desafio ainda maior e uma grande vantagem deste jogo u qe hu municuo para usar o rifle e a pistola com silenciador qe embora seja limitada facilita bastante em momentos cruticos afinal nuo du pra sair matando todo mundo de maneira descuidada sendo importante a furtividade e a estratugia de acordo cm o posicionamento dos inimigos quanto a jogabilidade continua a mesma em terceira pessoa com mira em primeira pessoa e cm a possibilidade de entrar em confrontos abertos caso nuo goste de stealth na dificuldade fucil e ficando em cobertura ju sobre as dlcs valem bastante a pena no pacote completo em promocuo pois acrescentam cerca de 34 horas a mais ao jogo e fornecem mais desafios cm mapas repletos de nazistas e a experiuncia de cacar o fuher em pessoa ou qm sabe su mais um dos susias delecomo que eu baixo e compro um jogo que n da para jogar \\ntoda vez fala para eu reniciar o jogo\\ne desistalar e instalar denovo\\njogo maravilhoso utimo para jogar com amigos\\nótimo jogo melhores que ju joguei recomendo \\njogo bom recomendo mas u sempre bom ter um rivotril por pertojogo top\\nmais esse u o jogo que\\nou tu joga a 81 fps\\nou tu nuo jogahollow knight u um metroidvania que prende por conta de sua excelente ambientacuo e acuo intensa me diverti demais superando os desafios de hallownest principalmente por conta da constante sensacuo de tensuo e deslumbramento o principal motivo disso u a mistura equilibrada de sessues de plataforma e combate desafiante combinados com com o utimo visual alguns jogadores podem ficar frustrados com a dificuldade acentuada e com os mapas extensos demais caracterusticas essas que podem ser consideradas os maiores problemas do tutulo sendo assim hollow knight u uma experiuncia unica e excepcional\\n\\n[url=http//wpme/p3losqt]anulise completa[/url]nao sei do por que eu gosto disso\\nsofrer cair e se levantar superando os obstuculos u uma sensacao incruveljogo o bom si que a merda da ubisoft nunca vai tirar essa bosta e porca da clash personagem quebrado lixojogo top estou jogando esse jogo e umas 3h seguidas e mt divertido bater o carro jogo muito bom meu deus me sinto bem su de entrar nele e ouvir as musiquinhas pescar pra acabar com o nervosismo muito bomjogo sem igual histuria unica personagens bem definidos e uma sequuncia de eventos que te deixa preso na histuria \\n111 recomendoesse game e incrivel demais vicia muito u bom para jogar e zoar com os amigos  d nota111111111111111111111111111111111111111111111111111111111simplesmente o melhor rpg com diversas possibilidades de builds e gameplay mundo completamente aberto e muitas missues disponuveis jogo incruvel recomendo jogar tambum com os mods disponuveis pela comunidade que deixam o jogo ainda mais dinumico e com mais possibilidades e correcues de bugsjogaco se falta melhorar a performance para a maioria das placas pq jogar em low tendo placa boa u foda kkkknao joguei a versao original mas mesmo sem o sentimento de nostalgia que gerou em muitos o jogo u excepcional5 anos pra carregar fora isso e legalé bom mos se vc tiver um pc quuntico  pra rodaro jogo o muito bom parabons a todos os envolvidos a historia as missues e enigmas suo cativantes showboa noite o jogo esta fechando sozinho e esta travando demais depois da atualizacuo impossivel de jogar estava tudo perfeito por favor voces tem que corrigir isso eu entro jogo 31 segundos ele fecha sozinho sem nenhuma mensagem fico no aguardo da resposta\\n\\nobrigadodont starve together u um jogo muito bom principalmente com amigos a experiuncia que tive atu agora u muito boaark survival evolved u um jogo incruvel kkkkjogo massa namoral comprei e valeu apena muito bom mesmo graficos muito tops e muito bem bolado o jogo nota 11jogo foi bom ate que laga pouco mas mesmo assim adoro o jogo\\no re2 esta simplesmente incruvel conseguiu resgatar a essuncia de uma serie que muitos ju consideravam com morta em fim parabuns aos envolvidoso jogo o muito bom e muito engracado eu classificaria o srtt em simplesmente um mundo aberto com missues nosense que te divertem de um jeito que vocu nuo vai imaginar vocu percebe o quanto o jogo o zueiro quando a dubladora de uma personagem o ninguom menos do que sasha grey enfim vale muito a pena vc comprar e se divertirbom porem caso tenha um pc mais ou menos nuo comprar meu pc tem placa i5 gtx 961 e nuo dava nem pra rodar no mudio\\nimagem ficava toda bugada alem de  os dinossauros estarem com a testura toda cagada\\n\\nrecomendo\\ncaso vc tenha um pc fodaum jogo em que vocu vira 47 vezes e sempre vu uma coisa que nuo tinha visto antes a histuria u muito boa e imersiva vocu pode passar pelas fases do jogo de uma forma nuo linear mesmo que o jogo em si seja linear clama eu explico \\npra resumir bem vocu pode zerar o jogo sem matar ninguum assim como pode zerar o jogo tacando o terror e a forma com que se faz isso u totalmente aberta a criatividade e estratugia de quem estu jogando me diverti muito jogando e super recomendooutra coisa muito legal u que se vocu fucar vai achar mais histuria seja em cartas ou livros fazendo subquests e etc alum disso o jogo u bem otimizado super recomendo\\njogo sensacional pra jogar com amigos em uma call ri demais com os gritos de desespero kkkkkkkmelhor jogo de 2117 muito bom competitivo e sem stress somente diverssuona minha opiniao simplesmente um dos jogos ja feitoshahaha caminhuozinho vrum vrummelhor jogo indie e ainda esse ano vai ter uma uma continuacuo\\nmotivos por ser bom\\n1arte linda\\n2jogabilidade\\n3desafiadorele e bem divertido para jogar com os amigos\\nse voco gosta de jogos tuticos e joga online com os amigos vale a pena dar uma olhada especialmente se voco aprecia uma alta dose de realismo militarmelhor jogo de guerra realista que ja joguei na minha vida \\n\\nsai do side chat filho da puta  11/11jogo otimo d sem duvidar um dos melhoresótimo para jogar com amigos e utimo para jogar sozinho recomendo de mais gameplay divertida e interressante u um bom game para passar o tempocaramba joguei 5 minutos ju viciejoguoum jogo muito difucil mas com uma jogabilidade incruvel sem contar que estilo grufico u muito bonitoum jogo incrivel de sobrevivunciabom joguem histuria digna de filmes vencedores do oscar\\nvai fazer qualquer um derramar uma lugrima ali e outra aquiou muitas xd\\num jogo praticamente perfeito\\n\\nnota 11/11\\n\\nmorre tenta de novo morre tenta de novo é um ciclo sem fimmuito bom jogo mas dependendo de seu computador nuo compre pois pode nuo rodar como o esperadoquando tento abrir da problema com o direct3d e o meu pc u windowns 11deveria ter mais opcuo de addons e tal colocar mapas brasileirosum dos melhores jogos de todos os tempos simplesmente fantastico escrevi uma anulise negativa a esse jogo recentemente mas acredito que tenha sido injusta porque se tem uma coisa que esse jogo vai fazer com vocu no comeco u te frustrar \\n\\no jogo nuo u fucil pelo menos pra mim que nuo tenho contato com o gunero e vocu precisa entender que na maioria das vezes as coisas nuo vuo acontecer como vocu espera seus personagens vuo morrer vocu vai ser massacrado por um chefe depois de uma fase que parecia fucil e talvez precise de um tempo para desestressar \\nno comeco eu reiniciei o jogo algumas vezes atu pegar o jeito e eventualmente comecei a me divertir atu que eventualmente um chefe derrotou todos os meus heruis apesar de eu ter certeza que estava preparado pra aquela batalha e por isso acabei me distanciando do jogo mas quem sabe eventualmente eu tente de novovoca pode ser insano mas nunca seru como edmundopontos positivos  o jogo gera uma boa tramaa experiuncia u bem imersiva e empolgante \\nas quests suo bem boladas \\no conteudo extra  u tambum bem divertido \\nponto negativo  o tempo de duracuo do jogo deixa a desejar algo em torno de 11 a 12 horas \\nconsidero que o tempo de game play tambum faz parte da qualidade do jogo assim esse jogo fica devendo nesse sentido \\ncontudo no geral u um bom jogo e eu recomendomuito bom jogo de sobrevivuncia e investigacuo bem feito falta su ficar em ptbrok o que falar de payday 2\\n\\npayday 2 se consiste em basicamente um jogo de roubar coisas parece facil nu mas nuo esse jogo tem muito conteudo e bastante tempo de jogo\\n\\na histuria nuo u o ponto forte dele ele nuo vai chegar e mostrar a histuria pra vocu se vocu realmente quer saber a histuria eu recomendo vocu ver um vudeo do que realmente jogar\\n\\numa coisa que mata muito u as dlcs se vocu nuo quiser comprar 47 dlcs sua experiencia vai mudar muito o jogo necessita muito das dlcs para ter a melhor experiencia obviamente vocu consegue jogar sem elas mas nuo vai ser a melhor experiencia que vocu poderia ter no jogo se vocu tem dinheiro e poder comprar a legacy collection u melhor mas se vocu su quer algumas dlcs ta ai minhas recomendacues\\n\\ngage mod courier\\ngage shotgun pack\\nsydney character pack\\nthe point break heists\\ngage weapon pack 12\\nwolf pack\\nhotline miami\\nclover character pack\\n\\nos gruficos suo bem medianos mas sinceramente eu nuo vejo tanto problema nisso se vocu tem frescura com gruficos talvez vocu nuo goste\\n\\nele possui 22 personagens com histurias muito boas incruveis u nem todos ethan e hila\\n\\nele u um jogo bem completo com vurias skills e 21 perk decks vurias armas de diferentes categorias\\n\\nsobre as musicas em minha opiniuo elas suo muito boas e combinam muito com golpes no loud\\n\\no jogo u bem divertido possui vurias horas de gameplays muito conteudo uma jogabilidade muito boa poucos bugs alum do fato de ser possuvel colocar mods em minha opiniuo o pior ponto do jogo u as dlcs que se vocu nuo comprar em uma promocuo vai ser bem caro\\n\\neu gosto bastante de payday 2 acho meio complexo para iniciantes mas se vocu tiver alguum para te ajudar em pouco tempo vocu aprende ele u bem divertido ainda mais com amigos se vocu estava na duvida entre comprar ou nuo espero ter te ajudado eu recomendo bastante\\njogo bom comunidade extremamente tuxica ótimo jogo para jogar com os amigos\\nvale a pena tentar mesmo que vocu seja medroso hue\\naguardo novidades e quem sabe um modo para exorcizar os fantasmas apus descobrir quais suosempre se mostrando umas das melhores franquias de mundo aberto ju feito u um utimo jogo para passar um tempo nessa quarentena e de se divertir um pouco no modo onlinejogo top historia boa as vezes parece um filme que voce controlaum otimo jogo peguei 211 horas brincandoótimo jogo battle royale cumpre tudo oq as pessoas me falaram a respeito do jogo cumpre atu mesmo a parte de mal otimizacuo que u o ponto mais horroroso do jogo muito mal otimizado tirando isso u bem legal com certeza o melhor jogo da surie aoe esse jogo me marcou muito porquu foi o primeiro rts que eu realmente gostei de jogar acredito que eu nuo seja o unico\\n\\n11/11excelente game viciante do comeco ao fim trilha sonora maravilhosa jogabilidade extremamente fluida e um jogo que para mim que nuo era muito chegado a jogos desse tipo gostei muito e recomendo fortemente a todossimplesmente um jogo perfeito pra causar tretajogo muito bom vale muito apena comprarmuito bom online e o modo historiateve um dia que eu comi um cachorro quente jogando esse jogojogo excelente dos mesmos criadores de dont starve mantem o mesmo estilo grafico caricato vale cada centavobom dia o jogo estu com problemas nuo carrega foi emitido pelo suporte um log dos erros favor verificar grato edsonceleste e definitivamente meu jogo favorito quem desenvolveu sabe exatamente o que os jogadores de plataforma desde os iniciantes ate os mais experts sentem necessidade nesse tipo de jogo jogabilidade fluida personagens cativantes desafios cada vez maiores ao longo do jogo novas mecunicas e o sentimento de que quando morremos a culpa foi nossa e nuo por um bug ou falha do jogo nus mesmos podemos escolher o quuo difucil e a escalada da montanha celeste afinal existe o caminho principal e centenas de colecionuveis em caminhos secundurios que dificultam a progressuo fica ao criterio do jogador como ele iru progredir no jogo para quem gosta de um desafio de verdade tem a dlc chamada farewell que vale super a pena nuo su por ser um desafio absurdo mas tambem pelo enredo e trilha sonora impecuvel 11/11nier automata traz o que hu de melhor em um jogo uma histuria cativante personagens extremamente bons e uma jogabilidade hack and slash viciante e bem feita pra alum disso nier u um jogo ousado nuo tem medo de propor para o jogador mecunicas e mudancas que vai desde a histuria atu o funcionamento do jogo ponto para o idealizador e diretor yoko taro que u corajoso em fazer do jogo aquilo que ele entende pra ele que u funcional para o decorrer da sua aventura sem duvidas que nier u um prato cheio para aqueles que estuo afim de um jogo que sabe fazer o feijuo com arroz e que se aventura em te entregar coisas novas\\n\\nmarcacuo aqui para trilha sonora do jogo que u excelente diria que uma das mais bonitas que ju escutei na esfera da producuo artustica emocionante e que consegue te ambientar para completamente todas as situacues do jogo keiichi okabe e kuniyuki takahashi que ganharam a melhor trilha sonora no game awards de 2117 merecem um reconhecimento que deve perpetuar mesmo apus esse prumio \\n\\nglory to mankindmuito bom para jogar com os amigosestou com erros nos meu jogo nao abrirmuita gente critica mas nuo deixa de ser o jogo de sobrevivencia mais real do momento\\n\\nbest games ever made remasteredo melhor jogo o limite u o cuu a unica coisa chata u o tempo de carregamento super demorado[h1]uma experiuncia unica divertido de jogar ver e ouvir[/h1]\\no que falar de va11 halla su jogando para entender\\na ost ju vale o preco do jogo vocu escolhe as musicas por dia num estilo jukebox a arte u sensacional a histuria u engraca e viciante com os personagens mais carismuticos que existe o clima u perfeito eu queria que o jogo nunca acabasse perfeito para novatos em vn jogue e depois indique a aquele seu amigo que nunca jogou uma vn\\n\\n[h1] a unique fun experience to play see and listen [/h1]\\nwhat to talk about va11 halla  just playing to understand \\nthe ost is already worth the price of the game you choose the songs per day in a jukebox style the art is sensational the story is funny and addictive with the most charismatic characters ever the harmony is perfect i wish the game would never end perfect for beginners in vn play and then point to that your friend who never played a vnjogo otimo  precisa de muita estratugia e trabalho em equipe  e claro comunicacuo tbm unico ponto negativo em que nuo gostei muito foi que se vocu comprar a versuo starter  os personagens normais das classes busicas comogignfbi swatspetsnazsas etc custam 12511 cruditos  muito caro  sendo que os personagens do 1°ano de atualizacuo  bopejtf2navy seals e 2°ano  gromsdubmd 717 etc custam 25111  sendo que se vc fizer uma partida boa matando 9 caras  umas 5 assistencias e morrendo pelo menos 1 vez vc ganha uns 351 411 cruditos  agr se vc tem dinheiro pra comprar pelo menos a versão do jogo de 81 reais ja compensa muito maisotimo jogo dublagem e historia pft junto com jogabilidadeo jogo tem alguns problemas de early access mas estu muito bonito e divertido vale o investimentoum dos melhores jogos de fps que ju joguei recomendo de mais esse jogoo jogo mudou muito desde a 1° vez que eu joguei teve melhorias absurdas muita coisa melhorou desde o pre alpha ate a versuo atual 11 pc\\n\\npubg foi um jogo que eu nunca cobrei muito e me surpreendi basteante simplesmente por ser um jogo q tinha tudo pra dar errado como assim\\npubg nasceu de um mod muito famoso do jogo arma 3 mod chamado playerunknowns battle royale inclusive eu mesmo joguei muito esse mod e eu vim de la do arma 3 pubg e o melhor e mais imersivo jogo de battle royale ju criado pubg e um jogo incruvel que evoluiu muito ao longo dos ultimos meses e esta em constante desenvolvimento e um jogo que sem sombra de duvidas vale cada centavo ate pq e muito fucil ganhar skins caras e recuperar todo o dinheiro cm elas\\n\\n gruficos\\n\\nos gruficos do jogo e lindo pra um jogo que foi criado por uma equipe sem muitos recursos o motor grufico usado e o unreal engine que uma engine usada em vurios jogos fodas a vegetacuo e bem trabalhada o fogo e lindo e realista os efeitos do sol ugua nuvens suo muito bem feito efeitos de fumaca poeira e pedacos de papeis voado foi feito pensando em cada local do mapa e funciona muito bem quem joga no ultra ou alto sempre para pra admirar ou tirar uma print pq e lindo certos locais do mapa\\n\\n armas\\n\\nas armas do jogo suo lindas e sao fielmente idunticas as armas da vida real eles deram atencuo a cada detalhe de todas as armas dentre elas melee snipers rifles granadas e pistolas todas as armas tem atattchementes como miras almofadas de corolhas coronhas silenciadores e etc tudo muito bem trabalhado e pensado pra que cada item cause uma certa diferenca durante o combate o som das armas suo utimos cada arma tem seu som que foi muito bem trabalhado por sinal as snipers tem um som incruvel de batida de metal da agulha no metal da bala e incruvel como cada arma tem um som claro limpo e unico as armas silenciadas e armas com silenciadores suo incruveis seguem fielmente aquilo que deveria ser\\n\\n mapas\\n\\natualmente temos 2 mapas miramar e erangel ambos os mapas suo lindos cada um cm sua peculiaridade cada mapa tem seus pontos negativos e positivos mas ju adianto ambos os mapas suo bem trabalhados e te faz sentir fielmente como seria estar em um lugar desses ambos suo ricos em detalhes construcues bem trabalhadas nada de casinhas repetidas cada cidade de cada mapa tem seus benefucios e suo bem acentuada em seus devidos lugares\\n\\n veiculos\\n\\ntemos atualmente varios veiculos como carros jeeps offroad buggy motos barcos jet ski cada veiculo cm uma dirigibilidade diferente o veiculo e muito bem trabalhado e comporta como sua classe cada tetalhe foi bem planejado o som dos motores arrancadas freiadas e derrapadas sao incriveis e foi muito bem feito cada som de cada veiculo se encaixa perfeitamente\\n\\n antcheat\\no ac do jogo e bom n adianta todo jogo tem os seus hackzinhos em um jogo na qual 3m de pessoas jogam e difucil n dar de cara cm um todo dia o importante e saber que os devs duo atencuo a isso com prioridade e estuo sempre de olho e banindo cm constuncia os cheaters do jogo alem disso estuo sempre melhorando e otimizando cada vez mais o antcheater do game\\n\\n otimizacuo\\n\\no jogo ainda precisa ser melhor otimizado mas eu rodo bem cm um i5 4591 gtx 971 8gb ram porem as vezes sinto umas lagadas e problemas com fluidez mas o jogo ainda nao tem 1 ano de lancamento e pra uma empresa q antes era apenas 1 cara eu aplaudo de pu como disse o jogo tinha tudo pra n dar certo e ta ai simplesmente o game mais jogado da steam\\n\\nbom galera finalizo aqui minha anilise espero que tenha gostato\\n\\nfortalece la\\n\\nyoutubecom/nervozzo\\n\\nfacebookcom/nervozzogamer/simplesmente o rpg mais insano que vocu jogaruotimo jogo\\nnio tem como nio amarrecomendo o jogo fica ainda mais engracado e divertido quando jogado em um grupo de amigosótimo jogoprende bastantealum de ser um jogo que teoricamente seria simplesele u bem complexoo que mais gostei foi da interacuo com os npcs do jogorun around with a spear stuck on your chest while you launch firebombs\\n11/11jogo increvel vocu se sente realmente no universo dos filmes da franquiajogo tem muito a desejar excelente para acalmar a mentemusica eletronica frenutica  cenario psicodulico e coberto de sanguehotline miami jogo muito bem desenvolvido e com bastante conteudo estacues pirataria fubricas faccues diplomacia bosses etc\\nvocu comeca com nada e vai enriquecendo da forma que quiser mineracuo combate comurcio exploracuo pirataria etc \\npassei mais tempo criando e editando naves do que jogando  kkkk\\nrecomendomelhor jogo de simulacuo recomendoapesar dos diversors bugscrashs etc uns dos mais epicos engracados e viciantes battle royales recomendo demais esse game <3o jogo em sim e bom o unico problema e que demora muito para baixar tem que ter sangue friojogo otimo e duruvel milhares de horas de diversuo e uma otima mecunica de combateo jogo o bem divertido os gruficos suo bonitos e a musica o relaxante su precisa ser otimizado ainda ato muito pesado e tambom consertados pequenos bugs a direcuo do cortador de grama tambom precisa ser revista fora esses pequenos detalhes super recomendo o jogoo jogo o o novo skyrim um divisor de aguas um jogo quase perfeito o modo historia o muito interessante e muito grande muita coisa para se fazer\\n\\no modo online tem potencial enorme e o muito divertido porém os hackers estuo destruindo o jogo lobbys completamente bugados morrer explodindo do nada pessoas que ganham em segundos o que voce demora dias para conseguir pessoas com nuvel 211 que nao sabem sequer voar em um helicoptero invencibilidade teleporte etc e etc\\n\\nnesse ritmo gta v se tornaru o novo point blank e por mais comunicados que a rockstar du nao tenho muita certeza se as punicues estuo ocorrendo tendo em vista o numero crescente de salas com pessoas usando hack eu denunciei amigos meus repetidamente alguns inclusive ju foram punidos anteriormente por usarem hack ou cheat no multiplayer veremos quanto tempo eles levam para serem punidosjogo simula o teste para adentrar os ranks do partido dos trabalhadoresimpossovel ser jogado nas configuracues monimas por enquantojogo viciante demais varias alternativas mundo aberto com varias possibilidades e nao enjoa u um jogo dinamico e suas atualizacoes ajudaram muito no desempenho toppjogo muito bom porum eu gostaria de mais customizacuo e recursos a histuria u utima e consistente e com um tema muito atual espero poder jogar um xcom 3 com mias recursosaltas viagens se vc quer relaxanteo que falar dessa obra prima\\nótimo jogo e viciante\\no jogo o incruvel uma pena que meu pc o intermediurioentuo su roda liso no low ele requer um pc bom porom o jogo em si o incruvel e se jogar em call com os amigos fica melhor aindao jogo do ano preciso falar mais nadase voco neo jogou su vai\\nse voco jogou e neo gostou joga de novo que tu jogou errado\\njogo lindo <3o jogo o um marco dos games do antes e depois de witcher 3muito bom so podiar melhora um poucopaguei preco cheio e valeu cada centavo tem muito conteudo eventos e skins\\nadoro jogos que suo gerados de maneira aleatoria ainda mais este que lhe permite modificar o mundo antes mesmo de geralo e com suporte a mods\\n\\npra quem u mais tryhard no game e que ja matou o sapuotank como eu e meu brother recomendo que crie um mapa somente de nevewinter e retire todas as outras estacues fica muito bacana pois vocu nao sabe quando o dearclops viru acrescente o winterfest como evento no mesmo mapa para receber comidas extras e para ver o dearclopscyborgjogo muito bonito jogabilidade muito boa e historia marcanteempresa incrivelmente aceita todos os pedidos da comunidade mesmo que isso faca voltar atrus de algo que implementou esse jogo nunca vai sair da mesma pois comunidade mais chorona que existe no mundo estu nesse game nuo aceita mudancas alum de ser influenciada por streamers e nuo tem opiniuo prupriaótimo jogo usei a versuo de teste e adorei futuramente pretendo comprar recomendo muitoyou walk into a room and shoot a boss then you  figure out how to kill them then you die and repeat a lot of  times while you try to do that one thing you need to do with almost no room for error and everytime you waste half a minute walking back to a boss between deaths dificuldade\\n🔲 uma senhora de 91 anos completaria\\n🔲 fucil\\n🔲 normal\\n🔲 difucil\\n✅ depende da dificuldade que escolher\\n🔲 dark souls\\n\\n gráfico\\n🔲 ms paint\\n🔲 ruim\\n🔲 meh\\n🔲 nuo importa nesse jogo\\n🔲 bom especial\\n🔲 lindo\\n✅ obra de arte\\n\\n música\\n🔲 ruim\\n🔲 nada de especial\\n🔲 nuo tem trilha sonora\\n🔲 boa\\n✅ ótima trilha sonora\\n\\n\\n história\\n🔲 esse jogo nuo tem\\n🔲 tipo jogar clash royale\\n✅ estu lu para quem quiser\\n🔲 bem escrita\\n🔲 uma saga upica\\n🔲 imagine kingdom hearts mas aumentada 111x\\n\\n preço\\n🔲 de graca\\n🔲 muito abaixo\\n🔲 perfeito\\n✅  poderia ser mais barato\\n🔲 muito caro\\n🔲 vai jogar sua grana fora\\n\\n requisitos\\n🔲 vocu pode rodar no notebook batata do seu pai ou ps1\\n🔲 mais ou menos\\n✅ pc gamer\\n✅ computador da nasa\\n\\n\\n duração\\n🔲 vocu toma um refri e acabou\\n🔲 curto\\n🔲 normal entre 8~12h\\n🔲 longo\\n✅ nuo hu uma duracuo predeterminada\\n🔲 quando vocu tiver 811 anos termina\\n🔲 pedir reembolso\\n\\ndiversão\\n🔲 prefiro ver poca dugua secar\\n🔲 difucil de gostar\\n🔲 repetitivo\\n✅ vai te entreter\\n✅ vocu nunca esqueceru como esse jogo te divertiu\\n✅ a viagem da sua vida\\n\\n fator replay\\n✅  experiuncia de uma vez su\\n🔲 apenas pelas conquistas\\n🔲 se esperar alguns meses/anos ou mods\\n🔲 definitivamente\\n🔲 infinitamente\\n🔲 nenhuma\\n\\n bugs\\n🔲 nunca vi nenhum\\n✅ pequenos bugs\\n🔲 pode ficar irritante\\n🔲 ark survival evolved\\n🔲 parece atu uma lumpada acesa cheia de inseto\\n\\n para quem o jogo foi desenvolvido\\n🔲 criancas\\n✅ adolescentes\\n✅ adultos\\n🔲 malucos beleza\\n🔲 livre para todos os publicos\\n\\n para melhor experiência\\n✅  single player\\n🔲 multi player\\n🔲 cooperativo\\n🔲 o jogo u offline\\n🔲 de qualquer jeito vai ter uma utima experiuncia\\n🔲 apenas com amigos u claro\\n\\n compensa comprar\\n🔲 nuo\\n✅ espere uma sale\\n✅ sim\\n🔲  ou \\n\\nᵔᴥᵔ esta foi minha analise espero que ajude em algo bom dia boa tarde ou boa noite\\n\\ncopie do https//steamcommunitycom/id/vm99k/c4391the forest cria uma completa experiuncia de suspense misturando mecunicas inteligentes de construcuo e sobrevivuncia\\n\\napus a queda de um aviuo o jogador se vu completamente perdido em uma ilha aparentemente deserta na sequuncia a cena inicial o protagonista vu um dos canibais da ilha levarem o seu filho indefeso apus o acidente deixandoo completamente sozinho ao acordar ele se vu na necessidade de coletar mantimentos e construir abrigo para sobreviver a todos os perigosos que o aguardam no misterioso lugar\\n\\napesar de criar um excelente ambiente de suspense a histuria de the forest u um pouco rasa o que nuo u de se estranhar ju que o foco do game estu na sobrevivuncia e cada jogador criaru sua prupria histuria the forest apresenta um enorme mundo aberto exploruvel permitindo uma surie de possibilidades ao jogador su que essas possibilidades podem se tornar limitadas se nuo forem pensadas estrategicamente ju que nuo demora para o jogador descobrir que nuo estu sozinho na ilhaum jogo pequenomas muito bommais sombrio do que o primeiropara quem gosta de enigma esse jogo u idealmelhor jogo atu 2117 confirmadojogo muito bom para voce se divertir por horas e horascara eu gostava do jogo mas fui banido por uma causa injusta alguns podres de rico me dropavam muito dinheiro e ai fui banido nunca usei hack se quiserem me verificar fiquem u vontade su nuo queria ser banido e nuo jogar mais mas o destino fez isso comigo\\n                                                                                                                                 \\n\\n                                                                                                                                                                                  yuri pimentadiria facilmente que u um dos melhores fps ju feitos se vocu gosta de combate frenutico divertido e desafiante nuo tem pq nuo compraro jogo eu comprei  soque me arempedi pq eu iniciei deu erro  parou de funcionartomb raider certamente u um jogo caralhoso cara gruficos incruveis histuria incruvel jogabilidade bem variada nuo me arrendo nem um pouco de ter adquirido ele su tem um ponto negativo pelo menos pra mim que me deixou demasiado nervoso com o jogo foi os inimigos hu muitos inimigos todo canto que vocu vai praticamente hu inimigos o que pelo menos para mim acaba enjoando e te deixando irritado\\no sistema de lutas tambum me deixou um pouco a desejar mas o jogo nuo deixa de ser excelente alum de muita coisa para fazer claro\\n\\n[h1] [b] 87/11 [/b] [/h1]meio bom meio ruim quando achei que tava bom tava ruim e na verdade tava bom mas ai quando eu fui jogar o jogo crashava pra caramba gastei 3 horas arrumando o jogo por que nuo parava de crashar tive que reinstalar e isso me deixou puto desde entuo nuo joguei mais o jogo u bom mas cacete se for pra reinstalar toda vez que du ruim eu nuo relo mais nisso isso sem contar os bugs que meu amigo quanto bug e por ultimo a fila gigantesca do lobby meu amigo du atu impressuo que o jogo morreu e enterraram de vez u 21 palmos abaixo da terra nuo recomendo jogar se voce fica pistola facil igual eu nuiso jogo o muito divertido porom apenas pra quem  tem uma boa maquina entuo se n tiver o melhor n comprar ainda mas espero q com essa versuo final fique melhor otimizado para mais jogadores e outro problema q so vem crescendo o a quantidade consideruvel de hacks em sua maioria chineses espero q isso mude logo pois desanima e frusta ainda mais os jogadoreso jogo mais completo que ju joguei na vida me arrependo de nuo ter jogado antes nas diversas oportunidades que tive vale a pena cada segundo dentro do universo de skyrimrecomendo muito mas u melhor pra quem tem amigos da pra jogar o jogo sozinho mas como u together u pra jogar junto de amigos tristejogo que promete\\njoguei vurios survivalcraft ju mas esse possuu um toque de todos e muito mais\\napesar de estar em alpha a proposta desse jogo u genial\\nrecomendo para os fus de survivalcraft\\n\\nposso este com poucas horas de jogo mais de todos os novos ac esse u de longe o que me deixou mais empolgado os combates suo insanos o stealth su funciona se vocu for meticuloso e nuo deixar ninguem passar pelos olhos da senu estou amando o jogo sem palavrasestou me divertindo matando crenteesse jogo e muito bom pra se divertir com os amigos  pessoas que nuo compram ele por que acham que e dificil estuo perdendo tempo demora uma ou duas horas pra pegar algumas tecnicas mas e muito divertido pra passar o tempo e ate se dedicar ao competitivoesse foi o primeiro dark souls que eu de fato joguei e u sensacional\\n\\n\\num jogo desafiador com cenurios incruveis chefues memoruveis vurios lugares secretos e algumas quests secundurias para fazer vurios itens portanto vurias combinacues para fazer e o que mais me chamou atencuo foi a soundtrack com um destaque maior para os temas dos vigilantes do abismo e dos pruncipes lorian e lothric alum disso existe modo cooperativo onde vocu invoca um player em um determinado local para te ajudar na gameplay ou apenas no boss nuo vou mentir que em alguns chefes eu tive que apelar para o coop kkkk a histuria do jogo nuo u contada de forma literal no meio da jogatina u preciso prestar atencuo a diulogos e principalmente nas descricues dos itens apesar de nuo ter jogado os outros jogos da surie a histuria do dark souls iii u muito rica e detalhada e u vulido destacar que a narrativa u continuacuo direta de dark souls 1 e nuo do 2\\n\\n\\nexistem alguns contras mas ju ouvi falar que nuo u apenas desse dark souls ju u de longa data como a cumera do jogo em que determinados momentos vai te atrapalhar pra matar algum inimigo e tambum que esse jogo nuo tem uma interface para quem usa teclado e mouse todas as acues iruo mostrar botuo do controle de xbox e nuo de teclado como deveria ser alum de que o comando de resposta do ataque no mouse u bem triste joguei 41 do jogo no controle do xbox e 61 no teclado pois meu controle ficou sem funcionar\\n\\nportanto dark souls iii u uma utima conclusuo da trilogia dark souls trazendo uma gameplay divertida e desafiadora mas para ter uma experiuncia melhor recomendo jogar em um controle assim como nos jogos anterioresótimo jogo muitas horas de gameplay vicianteinfelizmente o meu laptop nuo suportou jogar esse jogo na minha velocidade e processamento \\neu nuo pude vivenciar a experiuncia do dbd mas agora coloquei mais memuria ram e adorarei experimentar em um pruximo periodo de teste aberto\\nnuo comprarei o jogo sem ter certeza se meu laptop processaru o jogo bem para mim\\n\\nainda nuo da pra relatar se gostei e recomendo'"
      ]
     },
     "execution_count": 11,
     "metadata": {},
     "output_type": "execute_result"
    }
   ],
   "source": [
    "#Agora, visando aos cálculos de probabilidade (e análise de frequência das palavras), temos:\n",
    "#Divide-se agora as opiniões em 'ok' -> pensando nas avaliações positivas e neureas e 'negativas'\n",
    "ok = ''\n",
    "opiniao_ok = dados_treinamento.loc[dados_treinamento.Target == 'Ok',['review']]\n",
    "for opiniao in opiniao_ok.review:\n",
    "    ok += opiniao + ''\n",
    "ok\n"
   ]
  },
  {
   "cell_type": "code",
   "execution_count": 12,
   "metadata": {},
   "outputs": [
    {
     "data": {
      "text/plain": [
       "'jogo noo e ruim mas se eu pudesse eu voltava no passado e nao comprarianao posso avaliar porque não consigo jogar\\njogo muito mal otimizado maior decepcao de 2116update dei outra chance comprei o rebirth e subitamente entendi a graca do jogo ^_^ mantenho o review negativo porque esta versuo em flash nem deveria mais ser vendida aqui no steam u rebirth na cabeca\\n\\nmeus amigos eu sei que vocus amam binding of isaac entuo perdoem a minha opiniuo altamente impopular mas eu acho esse negucio um saco\\n\\ndesculpem nuo u problema de git gud nuo u problema de vocu nuo entende roguelikes eu tive saco suficiente para me tornar bom em dark souls e ju investi boas horas em roguelikes de raiz como nethack o meu problema u com a jogabilidade acho a exploracuo chata acho comandar o personagem chato o jogo nuo me traz um pingo de satisfacuo por isso nuo posso recomendar o jogo mas se tanta gente diz que o jogo u fantustico recomendo que vocu experimente eu devo estar com algum parafuso soltoparabens aos desenvolvedores desse jogo muito bom uma pena que o jogo apresente o mesmo erro a mais de um ano e u impossivel de ser jogado lamento a todos que ja gastaram dinheiro com isso reembolsem enquanto a tempo\\nno celular u gratuito \\nnao recomendaria esse jogo nem que alguem me pagasse para issoé feio\\nneo tem akele girocuptero em camera lenta quando mata um bicho\\n\\nslu o jogo parece q parou no tempo e te força a comprar premium e dlc pra ficar bom no pus game\\n\\numa melhoria do ets 2 porem o que desanima u saber que o mapa ainda continua pequeno fora que o mapa do mexico em vez de ser free u pago e bem caro o ats tem tudo pra se bom quanto o ets 2 porem a preguica e ganancia da desenvolvedora ofusca o seu real pontecial compre o ats em promocuo pois com o mapa pequeno desses nuo compensa pagar pelo preco fullhack bug crash\\n\\n\\nnuo comprem atu sair do alfabom aparentemente a take two mandou uma carta de aviso aos desenvolvedores da ferramenta openiv a qual facilitava e dava estrutura para as modificacues funcionarem no singleplayer do gta principalmente do gta 5\\n\\npra microtransacues em um jogo de 111 reais e quase 4 anos no mercado dos consoles e a 2 no pc\\n\\npussima decisuo\\n\\nnuo apoie esse tipo de comportamento nuo compre esse jogojogo lixo de merda não tem como jogar junto vai tomar no cubom deixo bem claro minha insatisfacuo pela namco pois tenho uma maquina boa para rodar games e acompanho sempre o dark souls agora quando me deparo com erros e bugs dentro desse game u de desanimar qualquer pessoa \\njoguei por aproximadamente umas 7 horas de jogo dai do nada o game comeca a travar e para de funcionar entrei 7x depois o arquivo do personagem se corrompeu e comecei tudo de novo\\npoxa fico muito triste em ter que negativar pois desde o lancamento atu o momento de hoje a namco nao disponibilizou nem um patch de acerdo desse erro sei que muitas pessoas estao passando pelo mesmo problema e isso u um absurdo para nos que compramos esse jogo caro d\\nconcertem esse jogo logo pq assim nem rola jogar mais toda hora tendo que comecar do zero por conta de bugs u fodanao inicia essa merda vtnc ja tentei de tudotentei gostar mas nuo me diverti em nenhuma das horas que passei jogando esse jogo\\nextremamente aleaturio lento sua arma suo gotinhas de lagrimas que levam anos para chegar ao inimigo se chegar porque pra acertar tambum u horruvel\\n99 dos itens que vocu pega vocu nuo sabe o que fazem ou pra que servem o jogo nuo te fala\\ncomprei por menos de 1 real mas teria sido melhor comprar um bombom nuo compensoujogo repleto de erros e depois do lancamento ficou ainda pior e pelo que parece esta se enchendo de cheters pra ajudar afundar ainda mais o jogo nao vale esse preco nao vale o esforco pelo jogo compra se quiser ter decepicao e dor de cabecamal otimizado e cheio de bug nuo prestajogo extremamente bugado corrompeu meu save de mais de 111 horasatualizaceo de 11 giga e continua bugado\\n\\nparabuns a todos os envolvidoseu simplismente amo skyrim \\n\\n porem eu odeio eso \\ncom tanto potencial e tuo desperdicado \\n nem traducuo ofinal pra ptbr eles tiveram o trabalho de fazer  \\n nuo da vontade de jogar  se eu pudesse pedir meu reembolso com certeza eu ja teria pedidoo jogo traz muitas melhorias em relacuo ao v como a criacuo de distritos que deixa tudo mais organizado porum os gruficos suo muito poluudos mesmo vocu customizando pra nuo aparecer tantos sumbolos esse mix de cores deixa o jogo extremamente enjoativo u dificil de continuar jogando ele por muito tempo devido ao excesso de cores fortesjogo eh ate legal  o problema eh a galerinha fraca usando hack joguei por 11 hs e o anti cheat nao da conta de hacksjogo muito bom recomendo valeu os 55 r\\n\\neditando\\n\\njogo era bom e rodava atu que de boa no meu pc mas dps de umas att o jogo em vez de ficar mais otimizado aconteceu o contrariosimplresmente o jogo deu atualizacues que veio com erros e\\npelos outros comentarios o jogo ju ta bem afundadoesse jogo e uma boa ideia mas mau executada servidores horruveis ticket rate baixo dsync quedas bruscas de fps entre outros problemas que se fossem aqui listados tranformaria essa analise em um livroo jogo crasha em pcs com configuracues avancadas decepcuoo jogo trava em carregando aguarde\\nju envivei um pedido de ajuda u 2k como indicado pelo steam\\npelo jeito o steam su vai se envolver quando eu pedir reembolso o que nuo vai demorar muito se nuo tiver uma resposta logo\\n\\numa porcaria nuo consigo jogar 3 dias pra entrar e ainda trava tudo o windows essa bostavoca tem um pc daora que consegue rodar os jogos atuais com um bom desempenho\\nsinto le dizer mas esse jogo aqui vai dar trabalho pra ele u simplesmente frustrante um pc que conseguir rodar the witcher 3 bf 4ultra dishonored 2 rainbow six siege mgs v for honor em utimos desempenhos mas nuo consegue rodar um jogo que requer configuracues tuo estupidas se nuo quiser passar raiva e ter que ficar que nem um bot correndo pelo mato para esperar as texturas renderizarem eu sugiro que voca espere um tempo para que a maldita empresa possa otimizar esse jogo o que eu diria que vai demorar muito tempo por que atu hack ju ta tendo nesse jogo\\né deprimente tambum um jogo que aparentemente aprendeu com todos os erros dos atuais battleroyales nuo tenha se dado tuo bem finalmentedos games de fps que temos na steam esse u o mais dispensuvel se vocu pensa em pegar um game do gunero para se divertir com os amigos vu de cs goessa merda conseguiu ser pior do que o primeiro\\nboa rust desse jeito nuo du para jogar nuo u su ta aumentando nos processador a memuria au tu f os pobres numeu pc atendia os requerimentos minimos e nem abriu o jogoprodutores prometem uma coisa entregam outra\\n\\njogo extremamente repetitivojogo mt mal optimizado vai toma nocubom tenho 251 horas de payday 2 um jogo lindo adorava jogar mas depois do crime fest com essas coisas de microtransactions com essas skins pagas a nossa cara amiga overkill declaro que n ia aver microtransactions no payday 2 e depois vem com 1 dessa vocu devia se envergonhar overkill  e u claro as dlcs infinitas que autodo custa quase 251 real pra um jogo de 37 tem muitos hacker nas partidas ju fui banido do jogo por mais de 82 horas nuo du para jogar corrigem isto por favorlixo de jogo congela no lobby e não entra na partida mas instavel que marea turboo jogo fecha sozinho quando coloco pra escolher o server nao abre no meu windos o meu windos e 64 bits mas o rocket league que baixei ele e 32 como arumamesmo pelo preco de 6151 reais o jogo vem incompleto para ter acesso a armaduras mais fortes itens miticos e a funcues fundamentais que deveriam estar presentes desde a compra do jogo base craft e mudanca de trait na joaleria vocu tem que pagar o olho da cara o jogo possui atu o momento dia 11/19/21 21 dlcs todas com o preco em dolar sendo que a mais barata custa 51 reais basicamente o preco do jogo base e adiciona apenas duas dungeons\\n\\né um bom mmo porum extremamente caro para jogar o conteudo completo empresa muito mercenuria em cada dlc o jogo lanca uma armadura mais roubada que outra incluo tambum que o preco de cada chapter u de 155 reais\\nexpresso aqui minha insatisfacuo venho jogado o conteudo base do jogoque por sinal nuo u barato faz um tempo e nuo poder adquirir armaduras poderosas e tambum a impossibilidade mexer em minha joaleria vem afetando muito a qualidade do jogador vs jogador sinto que estou jogando uma versuo trial do jogo onde os americanos que tem acesso a dlcs por um preco relativamente baixo tem extrema vantagem no pvp tanto pelo ping quanto pela vantagem absurda em adquirir gear\\nespero que minha critica esclareca bem a razuo da minha insatisfacuo com teso\\nesqueci de comentar que cada dlc deve ser comprada individualmente e os poucos pacotes que o jogo possui nuo descontam o preco das dlcs que vocu possui cobrando o preco por um conteudo que vocu ju pagouo jogo o uma porra trava toda hora e a steam o tao ruim que nao arruma isso\\nser obrigado a logar naquele lixo que u a epiccancerstore pra poder jogar parabens conseguiram estragar mais uma coisa que eles tocam sucesso aos envolvidoshit mentiroso e gerador feito em 21 segundos arrumem issonao comprem essa porcaria dinheiro jogado fora  com essa merda mal otimizada em que todo momento cai dos 31 sendo que tenho um micro com uma  961 2gb que roda  todos  o s games atuais\\n\\nnão comprem n compra essa merda de jogo é um emulador de espera se eu fosse vc n comprava fiqei uma fockin hr esperando pra entra nun server e é emjoativo isso é uma merdaessa merda si trava e nuo entra\\no jogo o muito bom porem os hackers acabaram com ele dinheiro muito mal gasto sjogo ainda com bastante bug pesado nuo compensa o investimento no momento eu solitei refound dele talvez no futuro em uma versuo final eu volte a investir meu dinheiro nelesempre que vouy entar da erro ent nao recomendo esse jogopessimo atendimento da empresa em relacao aos usuarios fui banido de forma errada pelo easy anti cheat  e eles insistem que usei progamas ilicidos alem dde terem repondido apenas um de  meus email passem longe desse jogoem resumo e um jogo que tem uma proposta utima mas a empresa e completamente porca tem muitos e muitos bugs que duram anos e nuo se resolvem enfim vocu vai jogar porem vai passar muita muita raiva com os bugs\\npior suporte que existe e o delesuau que jogo incrivel paguei 6599 reais para um jogo que voce fica 31 minutos esperando para entrar no servidor e quando voce finalmente entra o seu jogo crasha }único jogo que me arrependo de ter comprado um lixo nuo recomendo comprando isso vocu estaru jogando dinheiro no lixojogo so e bom no single player pq no multiplayer  e uma bosta alem de tudo ser caro e bugado principalmente na entrega de muamba onde vc tem que entregar em certos locais com o aviuo aonde bugou e nuo deixava entregar mais nos objetivos  entreguei 4 de 6 decidi se matar pra ver se dava pra repitir pq tava bugado acabei perdendo todo o estoque que junto com bastante esforco nestu merda de jogoputa jogo de merda e olha que eu sou fu de wrestling mas ultimamente estu difucil jogar os jogos da wwelembra da alpha desse jogo um mundo aberto super divertido cheio de possibilidades entuo esquece tudo isso esse mundo aberto u bem chatinho pra ser um upgrade seus items voltam pra escala 1 quando voce troca de urea sendo assim vc joga uma area do jogo e acabou a gracapoha paguei pra nada ein o jogo u load infinito mesmo com sdd  o jogo u de ter sucesso  mas u mal otimizado au fica foda  se arrumarem isso u gggraficos 21/11 lindos mesmo as vezes vocu para e olha em volta su pra observar a redondeza  esse u o unico ponto positivo do jogo entretanto apus algum tempo tive que baixar a qualidade grafica pois jogando no ultra em qhd = 21fps tive que deixar em full hd com graficos no mudio pra ter 61 fps i7 8811 16 gb ddr4 2666 mhz gtx 1181 \\n\\noutro ponto negativo suo os animais sim o objetivo maior do jogo um comentario no reddit resume bem o que acontece neste jogo u muito a e pouco i na inteliguncia artificial eles bugam em pedras pequenas e ficam dando volta bug bem comum eles nuo fazem curvas fechadas e quando tentam da pra enxergar os 1 e 1 da programacuo de tuo feio que u sarcasmo eles simplesmente param viram o corpo pro lado e continuam correndo quando predadores tentam te atacar eles passam como um fantasma pelo seu corpo e esse u o ataque nuo existe animacuo isto poderia ser melhor trabalhado nuo tem muitos predadores no jogo \\n\\no sistema de conseguir animais classe diamante exige um genocudio daquela espucie por que cada animal que u morto vai aumentando a chance de dar spawn num animal da mesma espucie su que diamante isto obriga o player a matar todos os animais classe prata e ouro atu conseguir um diamante muito bizarro este sistema\\n\\nos mapas suo muito lindos mas depois de jogar por um tempo fiquei intrigado pois a visuo do player raramente vai mais que 111 metros de distuncia em todos os mapas exceto no bioma africano que a visuo chega a 411 metros eu nuo entendia por que daquilo estar acontecendo de a visuo estar sempre limitada por matos ou morros pequenos cochilhas por todos os lados atu que eu vi um player no reddit falando sobre isto ele usou alguns hacks para ver os animais atravus das paredes ai ele descobriu que os animais ao envus de spawnarem quando o mapa u aberto eles vuo dando spawn e despawn cerca de 211 metros da posicuo atual do player geralmente quando se houve um chamado de acasalamento perto u o animal dando spawn e segundo ele o relevo do mapa e a visuo limitada foram feitos para que o player nuo consiga enxergar os animais dando spawn pra mim isto acabou com o gameplay do jogo nesta distancia os animais conseguem com facilidade te enxergar e sentir seu cheiro mesmo dentro do mato ou atras de relevos como montanhas gigantes e neste ponto algumas espucies suo sensuveis de mais a ponto de te avistarem dentro do mato ou sentirem o cheiro de longas distancias e outros suo sensuveis de menos deixando o player chegar do lado deles outro detalhe o jogo nuo renderiza animais a mais de 411 metros com mods isto pode ser colocado atu 711 metros mas no jogo base nuo existe esta opcuo \\n\\nas missues do jogo principalmente dos primeiros mapas suo extremamente genuricas mate x quantidade de animais com a arma x no local x e isto se repete atu o fim das missues principais nos ultimos mapas lancados eles capricharam mais e elas ficaram mais interessantes \\n\\noutro ponto negativo su observei quando li outros comentarios aqui o jogo u completamente p2w eu adquiri o jogo na promocuo do meio do ano com todas as dlcs os melhores mapas suo pagos as melhores armas suo pagas todas as armas que eu tenho no jogo com a excecuo da inicial suo de dlc atu o quadricicolo u p2w por que neste jogo temos 3 opcues de postura deitado no chuo em velocidade lenta agachado em velocidade lenta caminhada e uma caminhada rapida em pu que ocorre quando aperta shift deveria ter um modo de corrida e tambum um andar mais devagar em pu para ter visibilidade coisa basica de fazer mas ai se queremos ir mais devagar silenciosos devemos ficar agachados e perder visibilidade por que diabos nuo podemos andar de vagar em pu\\na corrida seria interessante para fazer as missues sem ela demora bastante tempo pra ir de area em area eu geralmente pego o quadricicolo pago pra fazer isto se nuo demora muito tempo caminhando\\n\\neste jogo tem graficos bonitos e su eu demorei demais pra perceber isto e nao consegui reembolso existem jogos de 15 anos atras que duo mais enfaze na imersuo da caca que este jogo jamais compre a preco cheio ou cogite jogar sem no minimo as dlcs de silver ridge cuatro colinas e a dlc de armas que tem a mosin nagantdlc pra um jogo não pronto jogo com menos fps que the witcher toma no cu se fosse pelo jogo em si dava positivo mas os fps não cooperamcomprei o jogo na pre venda e a empresa nuo u capaz de me dar nem um bonus ou dlc de graca fiquei triste com a empresanao gostei da mecanica do jogo acabei reembolsando ele por achar pussimomuito mal feito inteliguncia artificial terruvel cheio de bugs eles deram atu essa bosta por tempo limitado mal produzido demais a dificuldade u muito variante e tem hora que eles colocam coisa impossuvel no stealth uma porcaria cheio de skins e cheio de dlcs para tentar arrancar dinheiro dos outros\\n\\nno stealth os inimigos se comportam diferente quando vocu nuo estu perto deles eles se comportam que nem um pombo a missuo inteira mas basta vocu se afastar que ele comeca a virar detetive e a inteliguncia artificial dele cresce disparadamente isso sem eles saber que vocu estu no local porque diabos a inteliguncia artificial vai mudar de repente o jogo espera vocu se afastar para ele mudar a inteliguncia artificial e fracassar toda sua missuo que vocu levou tempo e dificuldade e gastou atu dinheiro como u o caso do mapa shackethorne auction no stealth\\n\\nfora que os inimigos podem te ver e demoram 1 segundo atu 2 segundos para te perceberem eles podem te ver centenas de vezes mas nuo te percebem se vocu nuo demorar 1 a 2 segundos na frente deles mas se eles verem um corpo eles ju percebem na hora\\n\\num jogo muito aleaturio com dificuldade aleaturia nuo importa qual dificuldade vocu selecione a missuo vocu nuo sabe nada dela vocu tem que se estressar e repetir o jogo inumeras vezes para entendula e fazula no stealth porque o jogo nuo deixa claro\\n\\nos desenvolvedores mesmo sabendo disso nuo fizeram nada para resolver mesmo apus o lancamento de 51 dlcs eles nuo tiveram a munima competuncia de consertartoda hora vc morre ou toma dano por causa do veiculo o jogo planta alguma coisa que faz o carro virar a moto girar vsf que jogo horrivelmovimentaceo quadrada jogador parece escorregar no cheo ao se mover e dano das armas u o mesmo que arma de paintballjogo bonito\\n\\ncomunidade horrivelmente tuxica\\n\\nnuo du pra jogar online sem ter 2111 horas no treino se nuo tu u linxado\\n\\npor isso comprei joguei desinstalei e tu ai atu hj su to arrumando a crutica agrcara toda hora que eu vou entra em algum serve damora pra caralho para carrega e ainda trava eu eu perco horas de esperaé tipo uma fazenda feliz quando se joga mal como eu su farma e espera os bots acabarem com o jogo\\n\\ne outra coisa esses bots estuo de hack certezao jogo o bom tem muito potencial pra ser um clussico porom cobrar r15111 dos brasileiros que suo um dos maiores consumidores do mundo sem no mínimo legenda em portuguus nuo tenho como recomendar pra ninguom se lancarem a leganda em portuguus eu recomendo dizendo q o um dos melhores q eu ja joguei porom antes nuonao gostei do jogo muito bug quero reibolsomuito ruim parece muito melhor nos videosjogo bom  bem acabado  porum \\nnao devasta cidades\\nnomes de cidades e generais dificeis de ler e de gravar e de se acostumar  o tempo que gastei pra saber quem eh liu bao e liu bei e yan bei yan bao  yan shun yan huang  etc me fez abusar do jogo perdese muito tempo lendo nomes xinguelingues e tentando identificar quem u quem \\nflechas malfeitas quando caem sobre uma tropa alguma unidade cairu aleatoriamente indepentente de ter sido atingida ou nuo\\n aliancas muito complexas  demanda tempo para analisar fator por fator isso u chato\\nao recrutar unidades elas nuo vem  111/111   por exemplo recruto uma sword militia que ela full fica 121 soldados ao contratar su aparecem 25/121  e devese esperar vurios e vurios turnos pra que haja o full replenishment   \\ngenerais da propria faccuo brigam e se intrigam uns dos outros  \\nsistema de diplomacia insuportavel no quesito das ancilliaries itens que voce equipa ao general que fornece stats pois as outras faccues ficam enchendo o saco a cada turno pra comprar alguma sua ah tambem se intrigam se voce nao quiser vender/trocar\\ngenerais fumeas na china antiga \\nsem batalhas navais \\n\\né um jogo feito sobre chineses para chineses se tal cultura nuo te interessae se voce desconhece a historia dos 3 reinos  nem perca seu tempo e dinheiro talvez valha a pena com 75  off  go play rome2 or shogun2 insteados hackers simplesmente destruiram esse jogo \\nprimeiramente precisa otimizar  segundo se vc comprar esse jogo  nuo tendo pc com muita memoria ram nem compre que seu pc ja vai desliga logo de cara  e vai travar nem tentatodos os carros parecem a mesma coisa ao dirigir corridas de barco suo muito chatas muito difucil de saber aonde ir em uma corrida e trilha sonora bem ruimrocketleague is leaving steam its a goodbye for me also they destroyed the game before this last horrible move xnão comprem os desenvolvedores não estão nem ai com os clientes comprei o game e o game não abri isso vem de tempos varias pessoas na net com o mesmo problema e nada foi resolvido tive que fazer devolução do gameuma merda do caralho nao compre11 dol para participar dos eventos nuo obrigado \\n\\n11 bucks to participate in event no thanksquando falamos de jogos onlines logo entendemos que teremos interacues com outros jogadores \\npois bem pelo rocket league ser um jogo de carrinhos acaba que vurias criancas ou mesmo adolescentes se interessam pelo jogo e ai comeca a comunidade \\npor ser um jogo com um publico massivo de criancas e adolescentes a comunidade se torna extremamente repugnante e tuxica u muito dificil vocu realmente se divertir jogando esse jogo atu mesmo em partidas casuais que seriam com menos pegacuo que uma partida ranqueada\\nvocu recebe ofensas de tudo quanto u lado e principalmente dos times adversurios que costumam ser tuxicos quando vocu comete erros que u comum tanto no futebol profissional quanto num futebolzinho online\\nse vocu procura um jogo pra se divertir tenha em mente que rocket league su u esse jogo se vocu comprar com outros amigos e jogar somente com eles pra dar risada de merdas que fazem \\na comunidade desse jogo u extremamente tuxica e nociva para a saude mental de um ser humano nuo recomendaria para ninguum\\napus mais de 1111 horas investidas cheguei a pegar um dos ultimos tiers que u o champion lu vocu atu consegue encontrar outras pessoas maturas e que jogam cooperativamente sem toxicidade mas se u preciso 1111 horas de jogo para comecar a se divertir vocu devia investir esse tempo lendo um livro criando poesias musicas desenhando ou fazendo algo produtivo para sua mente \\nestou desinstalando e nunca mais irei voltarjogo que ainda da crash vao tomar n cude comeco e legal os primeiros anos desse jogo foram bons apesar de ter muitos problemas de jogabilidade e balanceamento mas com o tempo vocu passa raiva e se frusta com esse jogo é bacana jogar com os amigos mas a comunidade desse jogo e tuxica fazendo vocu desistir de jogar rupidoata um tempo atrus escrevi uma anulise nuo recomendando pela constante quedas do serve nas partidas online bom esse problema atualmente esta bem menos frequente quase nuo ocorre mais por isso acho que vale comprar sim esse jogo para jogar o multiplay agora acho apena que a uma vergonha para a capcom o modo desafio no modo desafio vocu joga em uma arena contra um numero de monstros ju determinados e tem opcues de usar um set de armadura ju definidos tambam os melhores ficam no rank mundial para minha surpresa ao verificar o rank mundial os primeiros lugares estuo com 1 dacimo de segundo com 1 dacimo de segundo vocu nuo chega nem ata os monstros acho que a capcom poderia tirar o rank mundial ou da um jeito nesses hackes pois sendo assim o desafio acaba por ser quem consegue hackear melhor o jogo ata a capcom tomar vergonha fica ai minha indignacuoanalise feita no beta do jogo 11/12/18 tudo pode mudar\\n\\n nuo existe a opcuo de jogar em squad porum ao dar fila ao mesmo tempo com meus amigos sempre caumos juntos\\n jogo comeca com no maximo 25 players de um total de 51\\n grafico e customizacuo bem agradaveis\\n pouco intuitivo itens esquisitos\\n\\nem sua atual situacuo vale museros 11 reaisse voco pretende comprar o gtav para jogar offline desista baixe o alternativo que u a mesma coisa e voco consegue jogar offline pra jogar o gtav voco tem que ter o laucher rockstar e nele aparece ser possuvel entrar no gtav offline mas u mentira voco teria que iniciar o laucher com internet e selecionar a opcuo lembrar depois de fazer isso voco pode retirar o cabo e iniciar o jogo offline voco consegue jogar mas assim que vc reiniciar o computador teru que fazer o processo todo novamente ou seja pra jogar gtav offline voco tem que ter internet isso nuo tem logica e esse laucher da rockstar u um lixo completo eu sinceramente se soubesse disso jamais teria compradojogo lixo jogo 2 semana e depois para de achar o servidorjogo cheio de bugs infinite loading bugs gruficos e crashs no meio da partida\\n\\n\\nenquanto nuo arrumarem isso e su pensarem em ficar vendendo dlcs e cosmuticos eu nuo mudo essa anulisemuito erro que e impossuvel resolver uma bosta tenho esse jogo desde antes do lancamento 471 hrs de jogo me baniram sem explicacuo alguma nem tem como fazer recurso e mais milhares de pessoas foram banidas e nenhum comenturio nunca usei mod empresa nojenta gananciosa e de mul caruterah oque dizer deste jogo que quando ganhei meu pc estava totalmente ansioso para comprar porum lu perto das minhas 111 horas de jogo comecei a perceber oque o jogo u realmente a empresa estu pouco de lixando pra comunidade e querem mais u dinheiro nuo se preocupacuo em corrigir bugs dar brindes para os players mais dedicados e sem falar nas caixas que tem que u a coisa mais mal feita de troca de ganhos que eu ju vi em um jogo que tem esse sistema de boxloot \\nveredito \\ngruficos         8/11\\njogabilidade  55/11 \\nengine de processamento  3/11\\njogo por completo  4/11 \\no jogo nuo vale nem 5 reaisa ideia do jogo u excelente mas esse jogo nuo era para ter saudo do early acess motivos\\n um pc com a configs recomendadas pelos desenvolvedores nuo roda bem o jogo\\n ainda com muitos bugs\\n ainda com muitos hackers/macros\\n jogo ocupa quase 14 gb quando instalado as atualizacues suo de 8 gb e quase nuo muda nada\\n somente na ultima atualizacuo comecaram a pensar em otimizar o jogo\\n\\nsu quem tem pc da nasa ou quem estu acostumado a rodar os jogos com poucos fps e com ping alto fala que o jogo tu rodando legal o restante passa raiva\\natu esse jogo estar bom ju vai ter perdido todos os playersuma dica bem direta e simples\\n\\ngastem o seu dinheiro com as outras versues tipo o dawn of war 1 e 2 com todas as dlcs que vocu vai ter muito mais diversuono comeeco de dezembro o jogo ju tinha alguns hackers mas nada muito absurdo apus a saida da fase beta o jogo foi tomado por usuurios chineses e inumeros hackers se tornando praticamente impossuvel jogar decentemente nâo vale a pena pagar caro por um jogo extremamente mal otimizado que su piora a cada dia na queestuo de hackers gostaria de pedir reembolso infelizmente ju passou do prazogente sorio nuo entendo como vocus podem ter gostado desse game o roteiro o fraco o escalonamento de poder o ridiculamente alto eu tava praticamente invencuvel logo na primeira parte do game nuo tem dificuldade e a historia o bem ruim se vocu analisar certinho  parece fan fic de garota de 14 anos fu de kpop que faz roteiro de doramagosetei nao do jogo  tu ruim demais  o far cry 3 foi o melhor jogo da saga mas  este tu muito chato  ne vou terminar o jogo nao  nao recomendo  as graficas sao melhores sim  mas su isso depois o jogo u muito chatoparece que o jogo nunca saiu do acesso antecipado os devs nuo sabem oque fazer com o jogo por ser um game popular entre streamers nuo se engane nuo vale a pena a compranao recomendo comprar\\nprimeiro motivo mods o maior motivo para possuir qualquer versao de gta pra pc pra quem ju tem no console u coibido pela rockstar hu um alerta logo na primeira vez que rodar o jogo advertem que nao se pode usar mods online o que u compreensivel mas dizem tambum que vocu pode acabar banido se logar online mesmo com mods desativados se estes estiverem na pasta base do jogo o que nos leva ao segundo motivo online o modo online u pussimo pra quem jogou samp gta san andreas online sem falar que a maioria dos players sao muito jovens e irritantes e claro o jogo u pay for win se nao ta afim de gastar dinheiro real para ter dinheiro no jogo não compre\\ncomprei e devolvi o jogo alius obrigado steam pela forma justa de tratar seus clientes\\nenfim su recomendo pra quem nao tem o jogo em console de fato a campanha solo u bem bacana\\nmas em geral gta san andreas u o melhor samp entaojogo bom mas todo mal otimizado e bugado ubisoft so fica lancando conteudo novo mas arrumar oq ta quebrado que e bom nadapor enquanto estu muito mal otimizado servidores com muito lag mesmo com poucos players online desconect constante e nuo existe um certo equulibrio na difuculdade onde se vocu bobear morre pra um pexinho lvl1 xd\\njogar solo u impossuvel e perdi meu barco em safeport em menos de 12 horas porque estava offline ainda nuo entendi\\npor enquanto nuo recomendo muito frustanteo jogo o enjoativo com passar do tempogastei meu dinheiro a toa\\n com esse preco dava pra comprar jogos bem melhoresotimo jogo  o primeiro q realente me diverti de vdd sen passa munta raiva <3horrivel perco ponto por causa dos outros xitados nuo faz sentidoeste jogo e um lixo 2 anos de jogo e os cara n otimizou esta merda na verdade conseguiram piorar o fps uma dica n compre nao recomendo mais esse jogo ele esta ficando chato de jogar su os killer tem vantagem eles sao forte rapto e tem tudo que tem direito os sobrevivente alem de ser 4 pessoas eles nao tem espaco suvisente para levar tudo que precisa espero que aproxima atualizacao melhorem su os sobrevivente porquer estu dificio de litar com tando killer camp e apelao espero que eles lembre dos sobrevivente na nova atualizacaotem que ser muito tonto pra gostar desse tipo de jogo  vai la e vire um caminhoneiro de verdade pra ver a vida humilhante que se leva nao recomendo jogo bem parado e depende muito de sortejogo muito bom mas nuo recomendo a compra\\n\\na empresa responsavel pelo jogo mandou ameacou processar openiv uma ferramenta de criacuo de mods para o gta mesmo dizendo no passado serem a favor dos mods o presidente da empresa fez um discurso recentemente falando que comprar o jogo uma vez su nuo basta e que u dever do consumidor gastar com microtransacues continuamente porque comprar um jogo e continuar a jogar ele 3 anos sem pagalo depois nuo basta mais \\n\\npara vocu taketwo eu estendo meu dedo do meio nuo comprem essa mer vu procurar sei lu watch dogs 2 just cause 3 sleeping dogs the witcher 3 esse sim u um jogo fod e que merece seu tempo skyrim se vocu nunca jogou\\n\\nps su no brasil mesmo que fanboys defendem uma empresa como essa deum uma olhada nas analises em inglus todas elas estuo negativas pelo mesmo motivoo jogo este cada vez mais pesado e mais mal otimizado muito triste pois esse u um dos jogos mais divertidos que ja joguei tinha amigos que jogavam comigo no comeco do game e rodava de boa e hoje o pc deles nuo rodam mais ao invus de melhorar o game eles estuo piorandoisso ai coloca mais caixa paga agora na random su cai essas caixas jogo ridiculo nuo vale 15 reais cheio de bug mercenuriovai tomar no cu bethesda\\n\\n                 /¯/              ¯\\n                /¯  /                   ¯\\n              /    /                         \\n       /¯/   /¯•¸          ¸•¯   ¯\\n    //   /    /     /¯  /¯`             \\n           ¯  /          ¯          \\n                          /                          /\\n                        /                          /\\n                                /                  o jogo pode ser bom ter gruficos bonitos e tudo mais no entato eu comprei essa merda com o intuito de jogar online mas nuo tem online em 2117 o multiplayer u local tinha que ser um exclusivo da microsoft mesmo essa bostavtnctoda partida vocu morre para hackersmais ou menos jogo ainda esta meio bostao gráfico é bom mas as animações e a jogabilidade é ó um lixo o jogo está de parabénsjogo terrivelvc pode ta de cara cara com um alien de 5 metros e tem 31 de chance de acertahorrovel me desapontei muito com a compra joguei o mobile achei divertido e comprei a versuo de desktop\\nacontece que tenho um pc mediano gtx 971 8gb de ram e i5 mas o game u extremamente mal otimizado precisaria de um pc com configuracues bem maiores que estu pra jogar ao menos no médio nem u high ou ultra high nuo agora comprar um game desse preco pra jogar no low ou very low eu prefiro nem perder meu tempo aguardo os pruximos patchs de atualizacuo e otimizacuo pra quem saber ao menos conseguir jogarjogo mal elaborado e imitacuo barata de megaman zero tentativa frustante da parte dos desenvolvedores de ingressar mecunicas de dark souls sendo que isso prejudica a jogabilidade de um jogo programado em engine problemuticaprincipalmente quando se trata de hitbox mais uma daquelas desculpazinha barata de nosso jogo u em 2d retro ainda por cima indie com sprites super caprichado e desafiador venha compra esse jogo de graca ta caro nuo recomendo pra ninguum e u uma perca de tempo total tem outros jogos na propiu steam que suo curtos baratos e mais divertidosfps horroroso se nuo tiverem uma muquina extremamente rupida nuo gastem seu dinheirocheguei ao centro da galaxia em menos de 81 horas de game quem quiser prova olha minha conquista do jogo =\\n\\nsimples assim meu amigo deu dobra em um cruzador sendo que eu estava dentro do cruzador e meu jogo crashoumoral da historia fui logar novamente e pude ver todas as bases dos jogadores que chegaram ao centro da galaxia pra mim o jogo acabou pois n tem mais finalidade=/ obrigado por nadanao compre esse jogo estu cheio de hackers invisuvel  a equipe do jogo nao fez nada aindacomo que faco para pegar meu dinheiro de volta \\nno way to upgrade to goty for previous owners fuck you squareno começo ele até que prometia mas é um verdadeiro lixo igual h1z1 prefiro fortnite joguem fortnite modo online e um desastre tenho varios amigos que nunca usaram mod nem glitch que tomaram ban amigos que usam mods saem voando e chovendo dinheiro e nao tomaram ban a esse ponto ninguem liga mais pra hacker agente so liga pra nao toma ban do nada do que adianta jogar por 2 anos se vc pode toma um ban sem proposito em 2 minutos seu progresso e literalmente deletado pra sempre enguanto quem era pra tomar ban ainda ta jogando a esse ponto mesmo se removesse o sistema de ban nao mudaria praticamente nada e ainda o sistema de ban pode ser controlado pelos mod literalmente vc pode chove 111trilhoes na cabeca de algm que ta te enchendo o saco e o cara perde a conta nao importa se ele usa hack ou naojogo bosta nem com a melhor placa do mundo e o melhor processador rodaru bem jogo bugado da peste hehehehedinheiro que eu mais sinto falta na minha vida nao comprem esse lixo pior empresa que ja vi pior que a eaesse free weekend me deu a oportunidade de explorar mais o jogo e saber se vale mesmo a pena compralo eu curti o lance de jogar com vurios veuculos personalizalos e andar com o personagem mapa muito bem detalhado e grande nuo nuo vale apena comprar a menos que vocu goste de passear pelo mapa atoa jogo basicamente su serve para andar pelo mapa e tirar screenshots o resto u muito mal feito sem falar do preco absurdo do game nuo comprem por favorboa tarde\\n\\npor gentileza\\narrume esses servidores \\nnuo tem condicuo alguma de ficar jogando no atual momento nuo recomendo a compra desse jeitoa um bom jogo para passar raivaolha sinceramente eu nunca escrevi uma anulise mas esse jogo me deixou tuo puto que eu nuo aguentei as mecunicas de salto e parkour suo um lixo vocu nuo escolhe quando agachar su du com inimigos por perto nuo du pra correr a lara comeca a andar devagar do nada as formar de combate suo horruveis armas ruins muitos inimigos de forma que nuo tem como lidar com eles usando as armas dadas pois sua municuo e baixa e se vocu nuo tiver alguma forma de explodir todos com algo com gasolina ju era honestamente su nuo parei de jogar pra saber o final que por sinal u muito demorado nuo acho que vale um centavo mas au vai da sua conviccuo gratopassima experiencia com o jogo o mesmo nuo apresenta compatibilidade com controle e sequer emite som devese jogar o mesmo somente pelo teclado ajustei as configuracues de som do mesmo e continuou sem funcionar sendo que todos os demais jogos que possuo estao apresentando som normalmente sinceramente uma fortuna para um jogo de pessima qualidadenao sei porque so sei que queria nao ter compradoo jogo o muito bom  mas o muito mal otimizado  aprensenta problemas que as versues mais antigas de ac syndicate tambem apresentavam \\n\\nedit eu comprei o jogo tem mais de dois anos mas na epoca estava com uma 1151ti e um i5 7411 com 8 de ram simplesmente injogavel fiz um upgrade pra 16 de ram e uma 971 o jogo nuo abria mais formatei o pc limpei e nada esse ano troquei o pc totalmente com um ryzen  5 3611 uma rx 5611 xt e novos pentes de memoria de 8x2 gb de 2666mhz e adivinhem su\\no jogo abriu a primeira vez rodou com sttuter pra dar e vender e agora nuo abre mais esse jogou ficou de graca na epic games e eu fiz questâo de nâo pegar pois ainda ia sair caro ubisoft o uma vergonhamuitos bugs e muito lento nuo gosteinao vale o que custou  horrovel jogo muito pesado optimizacuo horrivel jogo muito bom porem vou reembolsar impossivel jogalonso gostei pq sou um pessimo engenheirocant find any match wasted my moneyessa porra de jogo é um lixo e viciante não jogueeeeeeem não jogueeeeeeeemo jogo o bom porom o muito mal otimizadojogomerda nunca funciona  perdi dias tentando logareu ganhei esse jogo gratis e jogei por um tempo mas apesar de eu nuo ter achado muito ruim eu acho que esse jogo nuo vale a pena o preco u super enjoativo e por causa da quantidade excessiva de inimigos e de poderes que voce usa sem parar durante as lutas a tela acaba sendo visualmente poluida demais mas isso nem u o pior o pior mesmo foi a gameplay enjoativa e repetitiva demais =/[h1][url=discordgg/xba7uf4] link para o discord cube world brasil [/url] [/h1]\\n\\nnuo posso recomendar esse jogo 4/11\\nantes de jogar este jogo eu tinha feito atu uma analise engracada e positiva para este jogo 6 anos a espera desse jogo mas infelizmente nuo era esse jogo que eu estava esperando mas enfim o motivo de eu nuo estar recomendando nuo u este\\n\\nprogressuo\\no sistema de progressuo desse jogo esta horrivel vocu se sente um merda do inicio ao fim do jogo a forma de ganhar nuvel u coletando artefatos que duo 15 de sailing speed ou aumenta em 13 a distancia de sua lampada e coisas bobas assim o late game nuo existe tu sempre vai ser um bostinha nesse jogo\\n\\nequipamento\\na forma de ficar forte u conseguindo equipamento forte que basicamente depende da sua sorte ou conhecimento de que missuo fazer e sorte mas a melhor parte vem ai tu termina uma urea vocu tem duas opcues ir para uma nova urea onde vocu vai perder todo seu equip que tu conseguiu na urea anterior vai perder montaria vai perder barco vai perder tudo tu volta a ser o mesmo bostinha do inicio uhuul e a segunda opcuo u recriar o personagem e comecar uma nova aventura que u quase a mesma coisa que a primeira opcuo\\n\\neu realmente queria fazer uma anulise engracada joguei 41 horas desse jogo para pensar puts levou 6 anos para fazer essa coisa\\n\\nse for comprar use cheat engine quando se cansar o jogo fica mais divertido se tu tirar o region lockingjogo possimo bugado mecanica estupuda ser survivor nuo tem graca nenhuma 11 partidas perdidas pra 1 ganha killers tem uma facilidade enorme e vantagens absurdas survivors su tem umas habilidades extras e tem que se matar de jogar para evoluilas comprei achando que iria me divertir e su passei raiva nuo o um jogo desafiador um jogo de estratogia um jogo de comunicacuo em equipe o su tentar nuo ser tunelado pelo killer ato o fim rs \\n\\ndesinstalandofiquei 1 hora procurando meu amigo e nao achei alem do jogo de ser chato pra karalho ele u mal optimizado\\nja reebolseivocas criam mil e umas coisas ontem passei 45 minutos pra buscar partida e nuo tive exito em jogar o jogo na plataforma para computador mais respeito com os jogadores ptbr embora antigamente jogava china gringo todo mundo junto e os estrangeiro metendo hackers virado no caralho mais deixar o jogo morto para nos da america do sul tambum nuo podenao valeu nem um centavo zerei por que ja tinha pagosa vem piorandomm tu uma merdaoperation health tu totalmente inutilme arrependo profundamente de ter platinado essa merda de jogo de depravado coomer do krl não compre a porra da dlc desse jogo kobradepois da atualizacuo iceborne o jogo ficou injogavel travando de forma absurda com graficos no minimo um dia antes da atualizacuo eu jogava com todos os graficos no maximo hoje mal consigo mecher no menu por lu ju trava a empresa atu o momento sequer se pronunciou sobre o assuntoo jogo o bonito mas nuo deu para eu ver muito ainda ju que o jogo tem um delay na movimentacuo que faz o personagem demorar menos de um segundo para se mexer ju testei e nuo o nem o meu pc e nem o meu controle ai vocu pensa menos de um segundo o pouco sim o pouco mas em um jogo de plataforma isso faz diferenca e fica muito complicado pular em locais quando vocu nuo tem o controle total do personagem eu gosto de jogos dificeis mas ter esse problema na movimentacuo torna o jogo injustamente dificil e por isso se torna algo extremamente irritante e frustante morrer por um erro no jogo nuo estou falando que o jogo o ruim ele deve ser bom mas no pouco tempo que eu joguei isso me atrapalhou muito de uma forma bem negativaos controles dessa merda no pc u uma bostaaaao jogo parece ser bem zoeiro e talz mas seila eu n tenho mts horas de jogo tbm o motivo u que esperei pra baixar o game e dps fui jogar online e me deparei que tinha q baixar mais os modos de jogo seila isso u simplesmente muito chato vc espera horas pra jogar fica hipado e quando vai jogar temq baixar mais coisasa bom mais precisa de volante sem ele a uma bosta\\npoucos online\\ndont have players onlineo mm do jogo nao funciona comprei o jogo a 1 semana estou rank 16 e todas as partidas caio com no minimo 2 pessoas rank 51 nuo comprem a empresa ta cagando o mm nuo adianta buffar e nerfar os personagens se voce sendo de rank baixo vai cair com rank muito alto não compremgraficos muito bons porum o jogo esta pessimamente otimizado nuo recomendo a compranao comprem essa bosta quem ai ta falando bem do jogo eh doentedevido he um longo tempo sem jogar esqueci meus dados de acesso e nuo consigo acessar a conta da rockstar o que me impede de jogar o problema u que para recuperar meus dados u enviado um link de email no qual tambum nuo tenho acesso\\nportanto minha jogatina u irreelizevel\\nsugestuo colocar a opcuo de logar na sua conta diretamente pela steam assim como je u possuvel realizar com contas xbox playstation e outrosdepois da atualizacao eu nao consegui mais abrir desde entao1jogo de bosta aonde so tem hackerisso é um roubo olha os preços da nova update vão a m@@@@continua dando crash quando sair do mundo singler player inimigos aparecem do seu lado do nada resumindo o jogo continua uma bom a lem do jogo ter varios bugs tem um monte de hackers o evento que esta acontecendo agr nao tem nem como vc aterrizar na terra pq matam vc antes de voce ao menos abrir o paraquedas\\n\\nadorei a temitica do jogo aguardo hi anos por um jogo bom nessa temitica porum nuo foi desta vez nuo pelo jogo em si mas pela performance ou melhor pela falta dela\\n\\nminha config u\\n\\nfx8321\\n8 gb 1811 mhz\\nr9 281x\\n\\numa configuracuo mudia que roda jogos atuais numa boa de high pra cima alum de que eu jogo na resolucuo 1681x1151\\n\\nno primeiro dia o jogo estava injogivel mesmo com as configuracues no low estavam ocorrendo quedas para 1 fps a todo instante\\nno segundo dia lancaram virios patchs porum continuou a mesma coisa foi ai que decidi pedir o reembolso pois deu pra ver que nuo iriam corrigir isso tuo cedo\\napus alguns dias como o reembolso ainda nuo havia sido confirmado resolvi atualizar o mesmo pra ver se ainda estava do mesmo jeito pois li que haviam virios patchs para melhorar a performance o resultado foi 616 fps no medium com praticamente tudo desabilitado ou seja continuava injogivel\\n\\no jogo u bom porum somente se vocu tiver uma gtx971  981 caso contririo aconselho a nuo comprar no momentolek esse foi o primeiro game que eu joguei da surie e pra falar a verdade acho que joguei meu dinheiro no lixo nuo u um jogo ruim mas nuo senti nenhum apego ou unimo na histuria o que por consequuncia fez com que eu me obrigase a jogar tentando ao muximo gostar do bagulho e nuo foi fucil jogar 5 horas mermao vo da o papo esse u o tipo de jogo que vocu entra su pra ficar matando npc isso em deixou tao broxado com o game que nem me deu vontade de jogar o multiplayer caso vocu esteja com dinheiro sobrando e ficar repetindo as missues for a sua praia vai nesse o jogo se resume nisso campanhameu jogo simplesmente nuo abre nuo hu nada em furum nenhum que diga como resolver o erro que estu dando game security violation detected 1111111d [mycolor2exe] ju reinstalei 2 vezes e nada joguei meu dinheiro fora praticamente estou extramamente decepcionadotrava demaismesmo no grafico mais merda possivelmediocre tem jogos de graça que fornecem a mesma experiência\\n\\npubg foi o primeiro battle royale um jogo voltado a sobreviver atu o final no caso suo 25 equipes de 4 jogadores distribuudas em um mapa absurdamente grande com o passar do tempo o mapa vai se afunilando forcando o encontro entre as equipes mesmo que sobre apenas 1 integrante se este 1 sobreviver em relacuo u todos os outros players aquela equipe ganhou\\nvocu comeca a partida sem nenhum equipamento corre para a primeira casa que estiver mais perto pega o que tiver lu se esconde atu o mapa te forcar a se mover ocasionalmente encontra um ou outro inimigo no caminho\\nno caso do pioreirismo pubg foi o primeiro jogo dedicado exclusivamente a essa modalidade de parida antes dele ju existiam modos de jogos que eram chamados de o ultimo homem em pu em que cada jogador tinha um numero x de vidas e o ultimo a sobreviver ganhava vocu encontra essa modalidade em jogos como cold winter de ps2 a diferenca entre pubg e esses modos u que o mapa do pubg u maior e cada possui apenas uma vida\\nnuo recomendo o jogo porque a novidade nuo u lu tuo grande assim e hoje hu vurios outros jogos battle royales como ring of elysium e fortnite que oferecem a mesma experiuncia ou experiuncias muito semelhantes e suo de graca a vantagem do pubg u o alto numero de players o que torna fucil encontrar uma partida mas mesmo outros battle royales possuem um numero de jogadores suficiente para encontrar fucil partidascant believe ive waited 7 years for this lesson learned never trust the devs please do not waste your money in this garbageentendi merda nenhuma ainda bem que peguei na promocuo kkkkkkkkpior jogo q ja joguei na minha vida mel dels\\ndificuldadde para fazer login plataforma extremamente bugada e comunidade toxicanem joguei direito e ju estou enjoado de fazer sempre a mesma coisauma bosta de jogo q atualiza todo diajogo cheio de bug e mal acabadomuit mal otimizado se vc nao tem 16 gb de ram vc nao joga e acredite com um ryzen 3 e rx 571 e 8gbde ram ele poe pra tu jogar no low ridiculojogo desgracado que o hitbox u muito bosta mas u bomo jogo não funciona battalion 1944 u um jogo que su funciona online e que a empresa nuo fornece nenhum servidor pra vc jogar a iduia u ser igual cs com ranked unranked e servs privados sem limite de player nuo custom etc o sistema de servidores privados nuo funciona direito pois nuo hu como buscar e nem adicionar filtros u busca no lancamento nuo existia servidor para a amurica do sul que era prometido mas anunciaram que resolveriam isso em 2 dias atu hj nuo tem servidor\\n\\na jogabilidade u divertida lembra cod 2 e um pouco de mohaa os mapas atualmente suo fracos pequenos e sem graca tanto no tema quanto no design o jogo demora no munimo 4 minutos para abrir e os loads suo sofruveis se vc nuo instalar o jogo em um ssd\\n\\no jogo nuo vale a pena no estado em que se encontra pelo simples fato de ser impossuvel jogar se ele sobreviver esse early access que mais parece um alpha e a empresa perceber que o mercado sulamericano tem algum valor e que vale a pena disponibilizar servidores pra jogarem ele passa a ser compruveljogo base vem todo capado um lixonossa que jogo chato mano meu deus que inferno essa carroca me mata eu quero lutar com draguo armadura bonita  mas nuo sobe a montanha e fala ai com os veio paia remaster mais ou menos nuo de verdade a planta u um pouco mais bonita mas tambum u su issonbao comprem o kjogo ele e muito ruim o final e uma princesa palhaço mo paoianao vale pena gasta seu dinheiro aindajogo bosta  lixo simulator  merdão  bosta do futuro  cada mapa u um crash  vc nuo consegue jogar esse lixo sem crashar sorte que 51gb baixei em 25 minutos e tb estu de graca para teste quem compra uma poha dessas merece tomar no rabo mesmo pq pqp q merda emcara o jogo i utimo um dos melhores mmos ju criados paricipei do beta e dei minhas contribuicues ao decorrer do desenvolvimento do game nem sequer ganhei uma key de graca\\nsu nuo recomendo pois i muito caro para que vocu usufrua de conteudo novo ou seja as dlcs suo mutha fukin extremamente carasuma bosta  de game é isso jogo lixo paguei 51 reais nesse jogo que roda menos de 61 fps com os graficos parecendo o minecraft redondo fora que quando quando eu caiu do paraquedas as casas parecem uma maquete amassada nao renderiza nada e trava impossivel de jogar fora tambem que eu tomo dano na queda sem sentido algumjogo muito enjoativo come muito o tempo para fazer 1 missuo\\nmuito desequilibrado no final\\nnuo recomendo vocu uma hora ou outra vai passar raivao melhor battle royale de toda a steam  nota 1o jogo realmente precisa ser bastante otimizado para computadores lentos tem jogos com gruficos melhores que rodam em 31 e 41 fps ju o jogo roda em 21 31 fps e quando renderiza ju estou mortono jogo provavelmente tambum acontece com outros usuurios entuo please otimizetrava muito e ta cheio de bug to com quase duas horas de jogo su na tela de loading nao da pra jogar direito ja pedi o reembolsoeh tipo o skyrim normal soh que versao especial nao recomendo porque o original eh melhor e da por varios modso jogo e bom porem o host fica com ping vermelho e quem se prejudica e o que entrou no mundo do outro fica super lagado nem da pra correr dos bixos\\nse quiser tirar o lag vai ter que ser em um servidor dedicado e da bastante trabalhoquase um ano depois de comprar finalmente resolvo jogar atu descobrir que comprei uma apresentacuo de slides\\n\\nmuito mau otimizado recomendo 16 de gb de ram para jogar mas se quiser tentar com 8 gb meu caso recomendo essa guia [url=https//steamcommunitycom/sharedfiles/filedetails/id=593351745] [/url] depois dela atu se tornou jogavel\\n\\no jogo em si u muito parecido com o just cause 2 com melhorias em mecanicas e piora em otimizacuo o wingsuit foi uma boa adicuo ao gameplay a fisica do jogo u totalmente sem logica feita pensando na diversuo nuo no realismo mas o jogo u pra para zuar pelo mapa explodindo tudo que aparece\\n\\ncomo jogo em si u bom eu ju gostava do 2 mas pela porca otimizacuo e pelo fato dele pedir constantemente para estar online sendo que o jogo u singleplayer eu negativo o jogo a historia do jogo u muito boa mas o jogo em si em questuo de mecunicas e polimento u horruvel \\n\\nnuo du pra jogar sem usar mods o combate o desenvolvimento padruo da forca do personagem e o desenvolvimento da forca dos equipamentos suo uma porcaria basicamente nuo existem elementos action pra tornar o combate divertido e as formulas de dano suo muito mal feitas fazendo que qualquer inimigo tome a mesma quantidade de dano deixando as builds de magia muito ruins de arquearia mu e as melee desbalanceadas sem contar que na dificuldade lenduria nosso dano u reduzido a 1/4 entuo nem o melhor encantamento de dano u algo tuo bom assim 11 de dano/s de fogo quando meu dano u 61 contra um inimigo com 4111 de hp surio bethesda\\n\\num sistema de stamina/vigor sem sentido que serve apenas pra correr e usar power attacks que nem precisam estar com o um munimo dela carregado e a quantidade usada nuo interfere em nada no dano final como implicito pela reclamacuo das formulas\\n\\nah e a ia dos npcs u uma porcaria tbm\\n\\nresumo jogue esperando apenas uma excelente historia o jogo em si nuo u bom compre apenas em promocuojogo e bom o ruim sao os serve ja fui banidos em varios  quando vc entra na area de captura das bandeira leva ban\\nnada haver se nao e permitido entrar na area de captura das badeira da kick e nao da ban ja me arependi de ter comprapado essaa merdauma bosta esse jogo empresa cagou tudoeu comprei mas nao da pra jogar duas pesssoas no mesmo pc e com o controle e ainda nao tive meu rembousomaluco nao compra essa porra nao kkkkkkkkkkkkkkkkkkk bugadassoporcaria de jogo anos em beta e nada de deixar o jogo descente bugs a toda hora e dificilmente se consegue jogar\\ntempo de loading absurdos ping e lag sempre altos\\n\\nsu queria dar refund esta mal otimizado e esta pesando muito joguei 21 minutos e pedi reembolso de voltamuito lag mal otimizado t3m que ter um pc da nasa pra rodar esse lixo\\ncomprei o jogo por causa do h1z1   e me decepcionei logo de cara e olha que meu pc tem uma configuracuo descente gtx 1151 2gb intel g4561  8gb ram e mesmo assim o jogo nuo roda lisoachei o h1z1 bem mais fluudo\\n\\nadoro esse estilo de jogo porem me desepcionei ao comprar little nightmares o maldito fatal error nuo me deixou testar o jogocrasha demaisnuo rederizaja travo meu pc todo9518gbssd251fx8351n da pra jogar tranquilo morto dentro da casa na redzone tem q gostar muiiiiito pra jogar isso sem tiltarmais dlcs que jogo riduculo passem longeits a fun game but it has so many bugs that ive been discouraged from playing\\nbest use of domestic animalse um jogo complexo cheio de missues chatas a pior parte pra mim u a montagem das build suo complexas foram feitas para desmotivar os jogadores \\nprus os graficos suo otimos os efeitos das magias tb\\ncontras nuo tem traducuo oficial para o portugues eu particularmente fiquei perdido em algumas missues e rodei o mapa por varias horas isso me deixou com uma leve tontura e enjou \\nsem traducuo montar as builds u muito trabalhoso\\n\\nse vc for um cara que tem muito tempo para dedicar ao jogo entuo pode comprar mas se vc n tem tempo nenhum ou u daqueles que so joga por 2 dias e enjua eu recomendo n comprar\\numa sugestuo para o jogo  automatize as missues as builds\\nqueria meu dinheiro de volta =a ideia do jogo u sensacional agora pra quem gosta de achievement u um lixo tem achievement que nuo importa o quanto vc u bom a hitbox zuada atrapalha demais alguns achievement bugam tb vc tem q fazer denovo pra conseguir a conquista steam em geral eu gosto demais de tboi  jogo a mais de 5 anos ju platinei o rebirth ai decido compra esse jogo foi uma decepcuo se vc gosta do tboi rebirth nuo compra ou jogue esse jogo  \\n \\nyou diednem a pau que recomendo esse jogo comprei ele achando que ia ser tranquilo jogo bom porum lu vem a ganuncia da empresa po vui 211 pila de dlc vcs estuo de sacanagem\\ne pior que nuo du nem pra usar os mods da oficina pq quase tudo exige dlc meu estragou o jogoexcelente vale apena cada centavo <3olha o meu jogo roda a 121 fps porum a cada 15s o fps cai para 1 fica complicado jogar assim cai no hipe da att o jogo consegue ser pior pubg em termos de bugo jogo ja foi um dia bom mais depois da atualizacuo que adicionaram o gigantossauro foram estragando ele  desisti de jogar ele apos a 1 mes que lancou a tek tier  me diverti muito com ele mesmo sendo mal otimizado  valeu cada centavo que pagei ate por que da pra ver o tanto que joguei tinha esperancla que iam arrumar  ou entao tirrar as coisas da tek tier ou melhor fazer um modo de jogo com o primitive ai ficava show foi o melhor jogo de sobrevivencia que joguei mais como o jogo esta no mmomento nao jogo mais por isso estou negativando ele uma empresa nao deveria  ter estragado essa obra de arteo jogo nao tem um bom numero de jogadores e acaba que tambem se trata de um game sem objetivo nenhum a ser seguido\\nnao comprem esse jogo por causa da falta de respeito da rockstar eu simplesmente nao consigo mais iniciar o jogo que trava pedindo usuurio para social club\\neu quero que o social club que se exploda quero jogar offline como sempre joguei e nao posso por conta de uma funcionalidade online bugada\\ne isso acontece com vurios outros jogos da rockstar simplesmente vou piratear qualquer jogo deles daqui em diante e recomendo que facam o mesmo\\nporcaria de empresajoga mal otimizado infestado de bugs e hackers a empresa simplesmente nuo tem estrutura nem experiuncia pra lidar com o sucesso que o jogo fez sucesso esse que obviamente nuo era esperado é uma empresa fraca e que mesmo tendo ganho milhues com esse jogo nuo reverteu nada dos ganhos em sua estrutura e em profissionais pra sua equipe\\nna ultima atualizacuo 19/13/2118 por exemplo o jogo simplesmente nuo abre pra millhares de jogadores ju se passaram 3 dias e nenhum patch foi lancado pra corrigir isso é um jogo fadado ao esquecimentopoxa o game i legal porem achei meio caro pelo nivel dele minha opniao /atualizado de recomendo para nuo recomendo\\n\\n\\npros\\n\\njogo bom para jogar com amigos\\nexiste uma diversidade enorme de coisas para se usar\\npossui um multiplayer divertido\\n\\ncontras\\n\\nenjoativo de mais quando u jogado sozinho\\nse vc nuo tiver tantos amigos nuo compre\\napesar de poder construir vurias coisas a maioria do jogo u bugadojoguinho mt legal de jogar com os colega mas sla uma hr ele acaba cansando mt porum u bom enqnt durajogo muito ruim nuo recomendo a ninguumfefe falo que ia joga comigo resultado 31 reais no lixo ah e o jogo u bem bosta por sinalo jogo mais lixo do mundo infestado de hackers andando pelas paredes matando instantuneamente dinheiro jogado fora su funciona se jogar entre 11 amigos com random tu verus su hackers nojentos e mesmo se tu falar e denunciar eles te banem da sala agora entendi porque esse jogo era um fracasso antes de aparecerem os streamers comunidade mais lixo do mundo que fica de boa rindo de hackersbug miseravel do cimiterio nuo leva os corposesse jogo ti condenado nuo tem mais condicues de jogar apesar de jogo ser bom esti infestado de hacks mesmo depois do update no anticheat nessa semana e u extremamente frustrante vc passar mais de meia hora looteando e se movimentando pelo mapa pra tomar um spray na cabeca de um chinus desgracado que esti do outro lado do mapa existem muitos jogos bons que foram totalmente arruinados pelos hacks e se continuar assim esse vai ser o proximo pelos dados informados pela prupria empresa mais de 1 milhuo de hacks foram banidos su no mes de janeiro desse ano 1 milhão alum do mais banir quem esti usando o hack nuo u a solucuo e sim prevenir a entrada deles antes de estragarem o jogo dos outros é de conhecimento publico que a maioria dos hacks u da china entuo seria muito interessante pensar em um region lock ping lock ou qualquer coisa que tire esses caras daqui pq o servidor deles u outro nuo vou jogar essa porcaria enquanto isso nuo for arrumado u muito estresse e frustracuo nuo u a toa que na data de hoje o fortnite passou esse jogo no numero de jogadores simultuneos  pois garanto que a maioria esti migrando por nuo ter mais paciuncia pro lixo que esse jogo virou\\n\\nedit 1 depois do lancamento do matchmaking por ping anunciado pela produtora meus problemas com hack reduziram bastante atu agora nuo tive nenhum encontro claro com algum apenas suspeitos mas tudo certo espero que continue assim o problema agora foi na ultima atualizacuo no anticheat que deu uma piorada nos frames mas creio que logo seri arrumadoprometeram e nuo cumpriram metade\\narrumaram os problemas depois que 91 da comunidade quitou\\ntupico jogo que pega seu dinheiro e fechajogo nao abre fica em loading infinitolegal\\n\\n\\n\\n\\n\\n\\nsó é muito caro meu deusssssssssssssssssssssssssssssssssssssssssssssssssssssssssssssssssssssssssssssssssssssssssssssssssssssssssssssssssssssssssssssssssssssssssssssssssssssssssssssssssssssssssssssssssssssssssssssssssssssssssssssssssssssssssssssssssssssssssssssssssssssssssssssssssssssssssssssssssssssssssssssssssssssssssssssssssssssssssssssssssssssssssssssssssssonline continua com uma estrutura horruvel em relacuo ao tempo que demora para achar/criar jogos e a queda de conexues e bugs em geralcomeco chatotentei continuar jogando mas perdi a vontadenao gostei dessa porcaria de bostañ o jogo em seu inteiro u utimo  su a necessidade de um bom sistema operacional e o preco \\n faz com q muita gente ñ possa ter acesso ao jogo fora isso o jogo u perfeito\\nestou ansioso para o gta 6ja recomendei esse jogo a um tempo atras mas atualmente nuo compensa o jogo esta infestado de hackers toda hora que vocu abre confronto com alguum pode esperar que vai aparecer no chat sopa do macaco sumio e derivados comunidade extremamente racista e mal educada nuo tem ninguum para fazer os golpes total desinteresse e na sessuo tem muito nuvel alto covarde matando nuvel baixo atu nuo querer mais muitos deles fazendo missues para ganhar dinheiro e o cara vai la e acaba com todo o esforco que o cara teve sem contar que o cuncer mk ii ta impreguinado na sessuo vocu pode pegar qual veiculo for mas o cuncer mk ii sempre vai ter vantagem sobre vocu afinal u su apertar pra atirar e esperar que o cara morre sem precisar de habilidade nenhuma enfim se deseja jogar para matar jogares porque gosta de pvp ja te aviso que nuo u uma boa experiuncia por causa dos hacks e se deseja entrar pra construir seu impurio se prepare pra passar muita raiva com gente sem nocuo e tambum com os precos cada vez mais abusivosum jogo movido a dlc e ao passar do tempo su pioro um jogo que era bom conseguiram com o tempo deixar ele um dos piores jogosa chatao de jogar solo e com amigos tbm su tem gente doida nisso░░░░░░░░░░░█▀▀░░█░░░░░░\\n░░░░░░▄▀▀▀▀░░░░░█▄▄░░░░\\n░░░░░░█░█░░░░░░░░░░▐░░░\\n░░░░░░▐▐░░░░░░░░░▄░▐░░░\\n░░░░░░█░░░░░░░░▄▀▀░▐░░░\\n░░░░▄▀░░░░░░░░▐░▄▄▀░░░░\\n░░▄▀░░░▐░░░░░█▄▀░▐░░░░░\\n░░█░░░▐░░░░░░░░▄░█░░░░░\\n░░░█▄░░▀▄░░░░▄▀▐░█░░░░░\\n░░░█▐▀▀▀░▀▀▀▀░░▐░█░░░░░\\n░░▐█▐▄░░▀░░░░░░▐░█▄▄░░░\\n░░░▀▀░▄nms▄░░░░░▐▄▄▄▀░░\\n░░░░░░░░░░░░░░░░░░░░░░░jogo roda meio pesado ainda e as atualizacues precisam ser melhores planejadas e mais leves e claro precisam destravar os itens para trocas como eram antesa proposta do jogo u utima a execucuo decepciona demais se tivesse na muo de uma desenvolvedora suria seria o melhor jogo da atualidade mas bugs e mais bugs acabam com a experiuncia do usuurioit wont open patch it up hello im trying here and it just stays loading and say it wont response i havent play it yet cmon ive waited since april to play the game it wont open why you guys put it in steam if the game isnt ready im pissed here'"
      ]
     },
     "execution_count": 12,
     "metadata": {},
     "output_type": "execute_result"
    }
   ],
   "source": [
    "#Realizando o mesmo processo:\n",
    "negativo = ''\n",
    "opiniao_negativa = dados_treinamento.loc[dados_treinamento.Target == 'Negativo', ['review']]\n",
    "for opiniao in opiniao_negativa.review:\n",
    "    negativo += opiniao + ''\n",
    "\n",
    "negativo\n"
   ]
  },
  {
   "attachments": {},
   "cell_type": "markdown",
   "metadata": {},
   "source": [
    "Faremos agora:\n",
    "1 - Guardar palavras com Pd.series\n",
    "2 - Tabelar frequências absolutas\n",
    "3 - Conjunto total de palavras"
   ]
  },
  {
   "cell_type": "code",
   "execution_count": 13,
   "metadata": {},
   "outputs": [
    {
     "data": {
      "text/plain": [
       "0      targeted\n",
       "1         ataca\n",
       "2           com\n",
       "3       numeros\n",
       "4           nuo\n",
       "5         ataca\n",
       "6           com\n",
       "7             o\n",
       "8         mouse\n",
       "9    mobilidade\n",
       "dtype: object"
      ]
     },
     "execution_count": 13,
     "metadata": {},
     "output_type": "execute_result"
    }
   ],
   "source": [
    "#Similarmente a aula 8, agora usa-se .split e .values para analisar as palavraas:\n",
    "#Isso se faz, principalmente, para ver a repetição de palavras\n",
    "tudo_ok = ok.split()\n",
    "serie_ok = pd.Series(tudo_ok)\n",
    "serie_ok.head(10)"
   ]
  },
  {
   "cell_type": "code",
   "execution_count": 14,
   "metadata": {},
   "outputs": [
    {
     "data": {
      "text/plain": [
       "0       jogo\n",
       "1        noo\n",
       "2          e\n",
       "3       ruim\n",
       "4        mas\n",
       "5         se\n",
       "6         eu\n",
       "7    pudesse\n",
       "8         eu\n",
       "9    voltava\n",
       "dtype: object"
      ]
     },
     "execution_count": 14,
     "metadata": {},
     "output_type": "execute_result"
    }
   ],
   "source": [
    "#Agora com os negativos:\n",
    "tudo_negativo = negativo.split()\n",
    "serie_negativo = pd.Series(tudo_negativo)\n",
    "serie_negativo.head(10)"
   ]
  },
  {
   "cell_type": "code",
   "execution_count": 15,
   "metadata": {},
   "outputs": [
    {
     "data": {
      "text/plain": [
       "e           357\n",
       "de          282\n",
       "o           280\n",
       "jogo        268\n",
       "que         258\n",
       "           ... \n",
       "busca         1\n",
       "onlineem      1\n",
       "partidas      1\n",
       "formula       1\n",
       "relatar       1\n",
       "Length: 2883, dtype: int64"
      ]
     },
     "execution_count": 15,
     "metadata": {},
     "output_type": "execute_result"
    }
   ],
   "source": [
    "#Tendo as palavras listadas em série, podemos, assim, usar o value_counts() para contabilizar\n",
    "#Tabela de frequência Classificação Ok\n",
    "qtd_ok = serie_ok.value_counts()\n",
    "qtd_ok"
   ]
  },
  {
   "cell_type": "code",
   "execution_count": 16,
   "metadata": {},
   "outputs": [
    {
     "data": {
      "text/plain": [
       "de             357\n",
       "o              345\n",
       "e              329\n",
       "que            304\n",
       "jogo           301\n",
       "              ... \n",
       "event            1\n",
       "participate      1\n",
       "bucks            1\n",
       "eventos          1\n",
       "pissed           1\n",
       "Length: 2979, dtype: int64"
      ]
     },
     "execution_count": 16,
     "metadata": {},
     "output_type": "execute_result"
    }
   ],
   "source": [
    "#Para os negativos:\n",
    "#Tabela de frequência Classificação Negativo\n",
    "qtd_negativo = serie_negativo.value_counts()\n",
    "qtd_negativo"
   ]
  },
  {
   "cell_type": "code",
   "execution_count": 17,
   "metadata": {},
   "outputs": [
    {
     "data": {
      "text/plain": [
       "0        targeted\n",
       "1           ataca\n",
       "2             com\n",
       "3         numeros\n",
       "4             nuo\n",
       "           ...   \n",
       "21676        isnt\n",
       "21677       ready\n",
       "21678          im\n",
       "21679      pissed\n",
       "21680        here\n",
       "Length: 21681, dtype: object"
      ]
     },
     "execution_count": 17,
     "metadata": {},
     "output_type": "execute_result"
    }
   ],
   "source": [
    "#Agora, com o objetivo de ter os dados separados da variável \"classificação ok\" e \"classificação negativo\", cria-se uma nova variável:\n",
    "#Guardando total de palavras\n",
    "todas_classificacoes = ok + negativo \n",
    "#Pensando agora na quantidade de palavras, vemos:\n",
    "palavras_todas_classificacoes = todas_classificacoes.split()\n",
    "serie_todas_classificacoes = pd.Series(palavras_todas_classificacoes)\n",
    "serie_todas_classificacoes"
   ]
  },
  {
   "cell_type": "code",
   "execution_count": 18,
   "metadata": {},
   "outputs": [],
   "source": [
    "#Similarmente ao que foi feito na aula 08 (Análise se é \"Lusíadas\" ou \"Dom Casmurro\", se da o início do cálculo de probabilidades)\n",
    "p_ok = len(tudo_ok)/len(palavras_todas_classificacoes)\n",
    "p_neg = len(tudo_negativo)/len(palavras_todas_classificacoes)"
   ]
  },
  {
   "cell_type": "code",
   "execution_count": 19,
   "metadata": {},
   "outputs": [
    {
     "name": "stdout",
     "output_type": "stream",
     "text": [
      "0.4825884414925511 0.5174576818412435\n"
     ]
    }
   ],
   "source": [
    "#Vendo as probabilidades das palavras:\n",
    "print(p_ok, p_neg)"
   ]
  },
  {
   "cell_type": "code",
   "execution_count": 20,
   "metadata": {},
   "outputs": [
    {
     "data": {
      "text/plain": [
       "['me',\n",
       " 'arrependo',\n",
       " 'profundamente',\n",
       " 'de',\n",
       " 'ter',\n",
       " 'platinado',\n",
       " 'essa',\n",
       " 'merda',\n",
       " 'de',\n",
       " 'jogo',\n",
       " 'de',\n",
       " 'depravado',\n",
       " 'coomer',\n",
       " 'do',\n",
       " 'krl',\n",
       " 'não',\n",
       " 'compre',\n",
       " 'a',\n",
       " 'porra',\n",
       " 'da',\n",
       " 'dlc',\n",
       " 'desse',\n",
       " 'jogo',\n",
       " 'kobra']"
      ]
     },
     "execution_count": 20,
     "metadata": {},
     "output_type": "execute_result"
    }
   ],
   "source": [
    "#Tendo isso, pode-se dar início - de fato - as contas probabilísticas.\n",
    "#Usa-se um exemplo/Frase a classificar\n",
    "#NaveBayes\n",
    "ex = dados_treinamento.review[292]\n",
    "#Separando\n",
    "ex = ex.split()\n",
    "ex"
   ]
  },
  {
   "cell_type": "code",
   "execution_count": 21,
   "metadata": {},
   "outputs": [
    {
     "name": "stdout",
     "output_type": "stream",
     "text": [
      "7.6180891573559325e-84 1.725005728874521e-77\n"
     ]
    }
   ],
   "source": [
    "#Analisando as probabilidades:\n",
    "import numpy #importando a biblioteca numpy\n",
    "probabilidade_palavra_ok = []\n",
    "for probabilidade in ex:\n",
    "    if probabilidade in qtd_ok:\n",
    "        operacao = (qtd_ok[probabilidade]+1)/(sum(qtd_ok)+len(serie_todas_classificacoes))\n",
    "        probabilidade_palavra_ok.append(operacao)\n",
    "    else:\n",
    "        operacao = (0+1)/(sum(qtd_ok)+len(serie_todas_classificacoes))\n",
    "        probabilidade_palavra_ok.append(operacao)\n",
    "\n",
    "probabilidade_palavra_negativo = []\n",
    "for probabilidade in ex:\n",
    "    if probabilidade in qtd_negativo:\n",
    "        operacao = (qtd_negativo[probabilidade]+1)/(sum(qtd_negativo)+len(serie_todas_classificacoes))\n",
    "        probabilidade_palavra_negativo.append(operacao)\n",
    "    else:\n",
    "        operacao = (0+1)/(sum(qtd_negativo)+len(serie_todas_classificacoes))\n",
    "        probabilidade_palavra_negativo.append(operacao)\n",
    "\n",
    "probabilidade_palavra_ok = numpy.prod(probabilidade_palavra_ok)\n",
    "probabilidade_palavra_negativo = numpy.prod(probabilidade_palavra_negativo)\n",
    "\n",
    "print(probabilidade_palavra_ok, probabilidade_palavra_negativo)"
   ]
  },
  {
   "attachments": {},
   "cell_type": "markdown",
   "metadata": {},
   "source": [
    "Agora, pode-se analisar as probabilidades:"
   ]
  },
  {
   "cell_type": "code",
   "execution_count": 22,
   "metadata": {},
   "outputs": [
    {
     "name": "stdout",
     "output_type": "stream",
     "text": [
      "Negativo\n"
     ]
    }
   ],
   "source": [
    "if probabilidade_palavra_ok > probabilidade_palavra_negativo:\n",
    "    print('Ok')\n",
    "else:\n",
    "    print('Negativo')"
   ]
  },
  {
   "attachments": {},
   "cell_type": "markdown",
   "metadata": {},
   "source": [
    "De fato, o review da planilha de treinamento '292' é negativo. Logo, o código - de primeira nesse teste - funciona corretamente."
   ]
  },
  {
   "cell_type": "markdown",
   "metadata": {},
   "source": [
    "___\n",
    "### Verificando a performance do Classificador\n",
    "\n",
    "Agora você deve testar o seu classificador com a base de Testes."
   ]
  },
  {
   "cell_type": "code",
   "execution_count": 27,
   "metadata": {},
   "outputs": [],
   "source": [
    "#Agora iremos refazer o processo que fizemos com a planilha de treinamento, mas, agora, na base de testes.\n",
    "#Repetindo o código:\n",
    "\n",
    "classificacoes_planilha_teste = test['review']\n",
    "testados = [] #criação de lista com opiniões variadas entre ok e negativo (testadas)\n",
    "for opiniao_teste in classificacoes_planilha_teste:\n",
    "    opiniao_teste = opiniao_teste.split()\n",
    "    probabilidade_palavra_ok = []\n",
    "    for probabilidade in opiniao_teste:\n",
    "        if probabilidade in qtd_ok:\n",
    "            operacao = (qtd_ok[probabilidade]+1)/(sum(qtd_ok)+len(serie_todas_classificacoes))\n",
    "            probabilidade_palavra_ok.append(operacao)\n",
    "        else:\n",
    "            operacao = (0+1)/(sum(qtd_ok)+len(serie_todas_classificacoes))\n",
    "            probabilidade_palavra_ok.append(operacao)\n",
    "\n",
    "    probabilidade_palavra_negativo = []\n",
    "    for probabilidade in opiniao_teste:\n",
    "        if probabilidade in qtd_negativo:\n",
    "            operacao = (qtd_negativo[probabilidade]+1)/(sum(qtd_negativo)+len(serie_todas_classificacoes))\n",
    "            probabilidade_palavra_negativo.append(operacao)\n",
    "        else:\n",
    "            operacao = (0+1)/(sum(qtd_negativo)+len(serie_todas_classificacoes))\n",
    "            probabilidade_palavra_negativo.append(operacao)\n",
    "\n",
    "    probabilidade_palavra_ok = numpy.prod(probabilidade_palavra_ok)\n",
    "    probabilidade_palavra_negativo = numpy.prod(probabilidade_palavra_negativo)\n",
    "    if probabilidade_palavra_negativo > probabilidade_palavra_ok:\n",
    "        testados.append('Ok')\n",
    "    else:\n",
    "        testados.append('Negativo')"
   ]
  },
  {
   "cell_type": "code",
   "execution_count": 29,
   "metadata": {},
   "outputs": [
    {
     "name": "stdout",
     "output_type": "stream",
     "text": [
      "['Negativo', 'Ok', 'Ok', 'Ok', 'Ok', 'Negativo', 'Negativo', 'Ok', 'Ok', 'Negativo', 'Negativo', 'Negativo', 'Negativo', 'Ok', 'Ok', 'Negativo', 'Ok', 'Negativo', 'Ok', 'Negativo', 'Ok', 'Negativo', 'Ok', 'Ok', 'Negativo', 'Ok', 'Ok', 'Ok', 'Negativo', 'Ok', 'Ok', 'Ok', 'Negativo', 'Negativo', 'Ok', 'Negativo', 'Ok', 'Ok', 'Ok', 'Ok', 'Negativo', 'Ok', 'Negativo', 'Negativo', 'Negativo', 'Negativo', 'Negativo', 'Ok', 'Ok', 'Ok', 'Negativo', 'Ok', 'Negativo', 'Negativo', 'Ok', 'Negativo', 'Ok', 'Ok', 'Ok', 'Negativo', 'Ok', 'Negativo', 'Ok', 'Ok', 'Negativo', 'Ok', 'Ok', 'Ok', 'Ok', 'Negativo', 'Negativo', 'Ok', 'Ok', 'Ok', 'Negativo', 'Ok', 'Ok', 'Negativo', 'Negativo', 'Ok', 'Negativo', 'Ok', 'Ok', 'Ok', 'Negativo', 'Ok', 'Negativo', 'Ok', 'Ok', 'Ok', 'Ok', 'Negativo', 'Negativo', 'Ok', 'Negativo', 'Ok', 'Ok', 'Ok', 'Ok', 'Ok', 'Negativo', 'Ok', 'Negativo', 'Negativo', 'Ok', 'Ok', 'Ok', 'Ok', 'Ok', 'Negativo', 'Negativo', 'Negativo', 'Ok', 'Ok', 'Ok', 'Ok', 'Ok', 'Negativo', 'Ok', 'Ok', 'Negativo', 'Ok', 'Ok', 'Negativo', 'Ok', 'Negativo', 'Negativo', 'Ok', 'Ok', 'Ok', 'Ok', 'Ok', 'Negativo', 'Ok', 'Negativo', 'Negativo', 'Negativo', 'Negativo', 'Negativo', 'Ok', 'Ok', 'Negativo', 'Negativo', 'Ok', 'Ok', 'Ok', 'Ok', 'Ok', 'Ok', 'Negativo', 'Negativo', 'Ok', 'Ok', 'Negativo', 'Negativo', 'Negativo', 'Ok', 'Negativo', 'Ok', 'Negativo', 'Ok', 'Ok', 'Ok', 'Ok', 'Ok', 'Ok', 'Negativo', 'Ok', 'Negativo', 'Ok', 'Negativo', 'Negativo', 'Ok', 'Ok', 'Negativo', 'Ok', 'Ok', 'Ok', 'Negativo', 'Ok', 'Ok', 'Negativo', 'Ok', 'Negativo', 'Negativo', 'Ok', 'Negativo', 'Ok', 'Negativo', 'Negativo', 'Negativo', 'Negativo', 'Negativo', 'Negativo', 'Negativo', 'Ok', 'Ok', 'Negativo', 'Negativo', 'Ok', 'Ok', 'Ok', 'Negativo', 'Negativo', 'Negativo', 'Ok', 'Negativo', 'Ok', 'Negativo', 'Ok', 'Ok', 'Ok', 'Negativo', 'Negativo', 'Ok', 'Ok', 'Negativo', 'Ok', 'Ok', 'Negativo', 'Negativo', 'Negativo', 'Negativo', 'Ok', 'Negativo', 'Negativo', 'Ok', 'Ok', 'Ok', 'Negativo', 'Ok', 'Ok', 'Ok', 'Ok', 'Ok', 'Ok', 'Negativo', 'Negativo', 'Ok', 'Ok', 'Negativo', 'Ok', 'Ok', 'Negativo', 'Ok', 'Negativo', 'Negativo', 'Ok', 'Ok', 'Negativo', 'Ok', 'Ok', 'Ok', 'Negativo', 'Negativo', 'Ok', 'Negativo', 'Ok', 'Ok', 'Negativo', 'Ok', 'Negativo', 'Negativo', 'Negativo', 'Negativo', 'Ok', 'Ok', 'Ok', 'Negativo', 'Negativo', 'Negativo', 'Negativo', 'Negativo', 'Ok', 'Negativo', 'Negativo', 'Ok', 'Ok', 'Negativo', 'Negativo', 'Negativo', 'Negativo', 'Ok', 'Ok', 'Negativo', 'Ok', 'Ok', 'Negativo', 'Negativo', 'Negativo', 'Ok', 'Negativo', 'Negativo', 'Ok', 'Negativo', 'Negativo', 'Ok', 'Negativo', 'Ok', 'Negativo', 'Negativo', 'Negativo', 'Ok', 'Ok', 'Negativo', 'Ok', 'Negativo', 'Ok', 'Ok', 'Negativo', 'Negativo', 'Ok', 'Ok', 'Negativo', 'Ok', 'Ok', 'Ok', 'Negativo', 'Negativo', 'Ok', 'Ok']\n"
     ]
    }
   ],
   "source": [
    "#Vendo, agora, a lista \"Testados\":\n",
    "print(testados)"
   ]
  },
  {
   "attachments": {},
   "cell_type": "markdown",
   "metadata": {},
   "source": [
    "Agora, analisamos a nossa avaliação manual do target e, em seguida, fazemos nosso classificador:\n"
   ]
  },
  {
   "cell_type": "code",
   "execution_count": 30,
   "metadata": {},
   "outputs": [
    {
     "name": "stdout",
     "output_type": "stream",
     "text": [
      "[1, 1, 2, 1, 2, 1, 2, 2, 2, 1, 2, 2, 1, 2, 2, 1, 1, 1, 2, 2, 2, 1, 1, 2, 1, 2, 2, 2, 1, 2, 2, 2, 2, 2, 1, 1, 1, 2, 2, 2, 1, 2, 1, 1, 1, 1, 2, 2, 2, 1, 1, 2, 1, 2, 1, 2, 2, 2, 2, 2, 2, 1, 1, 1, 2, 1, 1, 2, 2, 2, 1, 2, 1, 2, 1, 2, 2, 1, 1, 1, 1, 2, 1, 2, 1, 1, 1, 2, 2, 1, 2, 1, 1, 2, 1, 1, 2, 1, 1, 1, 2, 1, 1, 1, 2, 2, 1, 2, 1, 1, 2, 1, 1, 1, 2, 2, 2, 1, 2, 2, 1, 2, 2, 1, 1, 1, 1, 2, 2, 2, 2, 2, 2, 1, 1, 1, 2, 1, 2, 2, 2, 1, 2, 1, 2, 2, 2, 1, 2, 2, 1, 2, 1, 1, 1, 1, 1, 1, 2, 1, 2, 2, 2, 2, 1, 1, 1, 1, 1, 2, 1, 1, 2, 2, 1, 1, 2, 2, 1, 2, 2, 1, 2, 1, 2, 2, 1, 1, 2, 2, 1, 1, 2, 1, 1, 2, 1, 1, 1, 1, 2, 1, 1, 1, 1, 2, 1, 2, 2, 2, 2, 1, 1, 1, 2, 2, 1, 1, 2, 1, 2, 2, 2, 2, 1, 1, 2, 1, 1, 1, 1, 1, 1, 2, 1, 1, 1, 1, 1, 2, 2, 1, 2, 2, 1, 1, 1, 2, 2, 1, 2, 1, 1, 2, 2, 2, 1, 2, 2, 1, 2, 1, 1, 2, 2, 2, 1, 2, 1, 1, 1, 1, 1, 2, 2, 1, 1, 1, 1, 1, 1, 1, 2, 1, 2, 2, 1, 2, 1, 2, 2, 1, 1, 2, 2, 1, 2, 1, 1, 1, 1, 1, 1, 2, 1, 1, 1, 2, 2, 1, 2, 1, 1, 1, 2, 2, 2, 2, 1, 1, 2]\n"
     ]
    }
   ],
   "source": [
    "target_avaliado = [] #criação de uma lista da avaliação\n",
    "for i in test['Target']:\n",
    "    target_avaliado.append(i)\n",
    "print(target_avaliado)"
   ]
  },
  {
   "cell_type": "code",
   "execution_count": null,
   "metadata": {},
   "outputs": [],
   "source": [
    "#Classificador\n"
   ]
  },
  {
   "cell_type": "markdown",
   "metadata": {},
   "source": [
    "___\n",
    "### Concluindo"
   ]
  },
  {
   "cell_type": "code",
   "execution_count": null,
   "metadata": {},
   "outputs": [],
   "source": []
  },
  {
   "cell_type": "code",
   "execution_count": null,
   "metadata": {},
   "outputs": [],
   "source": []
  },
  {
   "cell_type": "code",
   "execution_count": null,
   "metadata": {},
   "outputs": [],
   "source": []
  },
  {
   "cell_type": "markdown",
   "metadata": {},
   "source": [
    "___\n",
    "### Qualidade do Classificador a partir de novas separações dos tweets entre Treinamento e Teste\n",
    "\n",
    "Caso for fazer esse item do Projeto"
   ]
  },
  {
   "cell_type": "code",
   "execution_count": null,
   "metadata": {},
   "outputs": [],
   "source": []
  },
  {
   "cell_type": "code",
   "execution_count": null,
   "metadata": {},
   "outputs": [],
   "source": []
  },
  {
   "cell_type": "code",
   "execution_count": null,
   "metadata": {},
   "outputs": [],
   "source": []
  },
  {
   "cell_type": "markdown",
   "metadata": {},
   "source": [
    "___\n",
    "## Aperfeiçoamento:\n",
    "\n",
    "Trabalhos que conseguirem pelo menos conceito B vão evoluir em conceito dependendo da quantidade de itens avançados:\n",
    "\n",
    "* IMPLEMENTOU outras limpezas e transformações que não afetem a qualidade da informação contida nos tweets. Ex: stemming, lemmatization, stopwords\n",
    "* CONSIDEROU mais de duas categorias na variável Target e INCREMENTOU a quantidade de notícias, mantendo pelo menos 250 notícias por categoria (OBRIGATÓRIO PARA TRIOS, sem contar como item avançado)\n",
    "* Para Target com duas categorias: CRIOU pelo menos quatro categorias intermediárias de relevância baseadas na probabilidade: ex.: muito relevante, relevante, neutro, irrelevante, muito irrelevante\n",
    "* EXPLICOU porquê não pode usar o próprio classificador para gerar mais amostras de treinamento\n",
    "* PROPÔS diferentes cenários para Naïve Bayes fora do contexto do projeto (pelo menos dois cenários, exceto aqueles já apresentados em sala pelos professores: por exemplo, filtro de spam)\n",
    "* SUGERIU e EXPLICOU melhorias reais com indicações concretas de como implementar (indicar como fazer e indicar material de pesquisa)\n",
    "* FEZ o item Qualidade do Classificador a partir de novas separações das Notícias entre Treinamento e Teste descrito no enunciado do projeto (OBRIGATÓRIO para conceitos A ou A+)"
   ]
  },
  {
   "cell_type": "markdown",
   "metadata": {},
   "source": [
    "___\n",
    "## Referências"
   ]
  },
  {
   "cell_type": "markdown",
   "metadata": {},
   "source": [
    "[Naive Bayes and Text Classification](https://arxiv.org/pdf/1410.5329.pdf)  **Mais completo**\n",
    "\n",
    "[A practical explanation of a Naive Bayes Classifier](https://monkeylearn.com/blog/practical-explanation-naive-bayes-classifier/) **Mais simples**"
   ]
  },
  {
   "cell_type": "code",
   "execution_count": null,
   "metadata": {},
   "outputs": [],
   "source": []
  }
 ],
 "metadata": {
  "kernelspec": {
   "display_name": "Python 3 (ipykernel)",
   "language": "python",
   "name": "python3"
  },
  "language_info": {
   "codemirror_mode": {
    "name": "ipython",
    "version": 3
   },
   "file_extension": ".py",
   "mimetype": "text/x-python",
   "name": "python",
   "nbconvert_exporter": "python",
   "pygments_lexer": "ipython3",
   "version": "3.9.12"
  }
 },
 "nbformat": 4,
 "nbformat_minor": 4
}
