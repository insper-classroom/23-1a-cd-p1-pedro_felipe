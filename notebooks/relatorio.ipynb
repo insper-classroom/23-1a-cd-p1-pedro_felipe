{
 "cells": [
  {
   "cell_type": "markdown",
   "metadata": {},
   "source": [
    "# Projeto 1 - Ciência dos Dados"
   ]
  },
  {
   "attachments": {},
   "cell_type": "markdown",
   "metadata": {},
   "source": [
    "Nome: Pedro Henrique Almeida Vidal  \n",
    "\n",
    "Nome: Felipe Assed Carvalho"
   ]
  },
  {
   "cell_type": "markdown",
   "metadata": {},
   "source": [
    "Atenção: Serão permitidos grupos de três pessoas, mas com uma rubrica mais exigente. Grupos deste tamanho precisarão fazer um questionário de avaliação de trabalho em equipe"
   ]
  },
  {
   "cell_type": "markdown",
   "metadata": {},
   "source": [
    "___\n",
    "Carregando algumas bibliotecas:"
   ]
  },
  {
   "cell_type": "code",
   "execution_count": 162,
   "metadata": {},
   "outputs": [],
   "source": [
    "%matplotlib inline\n",
    "import pandas as pd\n",
    "import matplotlib.pyplot as plt\n",
    "import numpy as np\n",
    "import os"
   ]
  },
  {
   "cell_type": "code",
   "execution_count": 163,
   "metadata": {
    "scrolled": false
   },
   "outputs": [
    {
     "name": "stdout",
     "output_type": "stream",
     "text": [
      "Esperamos trabalhar no diretório\n",
      "c:\\Users\\Pedro Vidal\\Desktop\\P1_Cdados_Pedro_Felipe\\23-1a-cd-p1-pedro_felipe\\notebooks\n"
     ]
    }
   ],
   "source": [
    "print('Esperamos trabalhar no diretório')\n",
    "print(os.getcwd())"
   ]
  },
  {
   "cell_type": "markdown",
   "metadata": {},
   "source": [
    "Carregando a base de dados com os tweets classificados manualmente:"
   ]
  },
  {
   "cell_type": "code",
   "execution_count": 164,
   "metadata": {},
   "outputs": [],
   "source": [
    "filename = '../data/dados.xls'"
   ]
  },
  {
   "cell_type": "code",
   "execution_count": 165,
   "metadata": {},
   "outputs": [
    {
     "data": {
      "text/html": [
       "<div>\n",
       "<style scoped>\n",
       "    .dataframe tbody tr th:only-of-type {\n",
       "        vertical-align: middle;\n",
       "    }\n",
       "\n",
       "    .dataframe tbody tr th {\n",
       "        vertical-align: top;\n",
       "    }\n",
       "\n",
       "    .dataframe thead th {\n",
       "        text-align: right;\n",
       "    }\n",
       "</style>\n",
       "<table border=\"1\" class=\"dataframe\">\n",
       "  <thead>\n",
       "    <tr style=\"text-align: right;\">\n",
       "      <th></th>\n",
       "      <th>app_name</th>\n",
       "      <th>review</th>\n",
       "      <th>Target</th>\n",
       "    </tr>\n",
       "  </thead>\n",
       "  <tbody>\n",
       "    <tr>\n",
       "      <th>0</th>\n",
       "      <td>Warhammer: Vermintide 2</td>\n",
       "      <td>jogo não é ruim, mas se eu pudesse eu voltava ...</td>\n",
       "      <td>2.0</td>\n",
       "    </tr>\n",
       "    <tr>\n",
       "      <th>1</th>\n",
       "      <td>No Man's Sky</td>\n",
       "      <td>Não posso avaliar, porque NÃO CONSIGO JOGAR!\\n...</td>\n",
       "      <td>2.0</td>\n",
       "    </tr>\n",
       "    <tr>\n",
       "      <th>2</th>\n",
       "      <td>The Binding of Isaac</td>\n",
       "      <td>UPDATE: Dei outra chance, comprei o Rebirth e ...</td>\n",
       "      <td>2.0</td>\n",
       "    </tr>\n",
       "    <tr>\n",
       "      <th>3</th>\n",
       "      <td>Among Us</td>\n",
       "      <td>Parabens aos desenvolvedores desse jogo, muito...</td>\n",
       "      <td>2.0</td>\n",
       "    </tr>\n",
       "    <tr>\n",
       "      <th>4</th>\n",
       "      <td>The Elder Scrolls Online</td>\n",
       "      <td>É feio\\nNão tem akele girocóptero em camera le...</td>\n",
       "      <td>2.0</td>\n",
       "    </tr>\n",
       "  </tbody>\n",
       "</table>\n",
       "</div>"
      ],
      "text/plain": [
       "                   app_name  \\\n",
       "0   Warhammer: Vermintide 2   \n",
       "1              No Man's Sky   \n",
       "2      The Binding of Isaac   \n",
       "3                  Among Us   \n",
       "4  The Elder Scrolls Online   \n",
       "\n",
       "                                              review  Target  \n",
       "0  jogo não é ruim, mas se eu pudesse eu voltava ...     2.0  \n",
       "1  Não posso avaliar, porque NÃO CONSIGO JOGAR!\\n...     2.0  \n",
       "2  UPDATE: Dei outra chance, comprei o Rebirth e ...     2.0  \n",
       "3  Parabens aos desenvolvedores desse jogo, muito...     2.0  \n",
       "4  É feio\\nNão tem akele girocóptero em camera le...     2.0  "
      ]
     },
     "execution_count": 165,
     "metadata": {},
     "output_type": "execute_result"
    }
   ],
   "source": [
    "train = pd.read_excel(filename)\n",
    "train.head(5)"
   ]
  },
  {
   "cell_type": "code",
   "execution_count": 166,
   "metadata": {},
   "outputs": [
    {
     "data": {
      "text/html": [
       "<div>\n",
       "<style scoped>\n",
       "    .dataframe tbody tr th:only-of-type {\n",
       "        vertical-align: middle;\n",
       "    }\n",
       "\n",
       "    .dataframe tbody tr th {\n",
       "        vertical-align: top;\n",
       "    }\n",
       "\n",
       "    .dataframe thead th {\n",
       "        text-align: right;\n",
       "    }\n",
       "</style>\n",
       "<table border=\"1\" class=\"dataframe\">\n",
       "  <thead>\n",
       "    <tr style=\"text-align: right;\">\n",
       "      <th></th>\n",
       "      <th>app_name</th>\n",
       "      <th>review</th>\n",
       "      <th>Target</th>\n",
       "    </tr>\n",
       "  </thead>\n",
       "  <tbody>\n",
       "    <tr>\n",
       "      <th>0</th>\n",
       "      <td>Warhammer: Vermintide 2</td>\n",
       "      <td>jogo não é ruim, mas se eu pudesse eu voltava ...</td>\n",
       "      <td>2.0</td>\n",
       "    </tr>\n",
       "    <tr>\n",
       "      <th>1</th>\n",
       "      <td>No Man's Sky</td>\n",
       "      <td>Não posso avaliar, porque NÃO CONSIGO JOGAR!\\n...</td>\n",
       "      <td>2.0</td>\n",
       "    </tr>\n",
       "    <tr>\n",
       "      <th>2</th>\n",
       "      <td>The Binding of Isaac</td>\n",
       "      <td>UPDATE: Dei outra chance, comprei o Rebirth e ...</td>\n",
       "      <td>2.0</td>\n",
       "    </tr>\n",
       "    <tr>\n",
       "      <th>3</th>\n",
       "      <td>Among Us</td>\n",
       "      <td>Parabens aos desenvolvedores desse jogo, muito...</td>\n",
       "      <td>2.0</td>\n",
       "    </tr>\n",
       "    <tr>\n",
       "      <th>4</th>\n",
       "      <td>The Elder Scrolls Online</td>\n",
       "      <td>É feio\\nNão tem akele girocóptero em camera le...</td>\n",
       "      <td>2.0</td>\n",
       "    </tr>\n",
       "  </tbody>\n",
       "</table>\n",
       "</div>"
      ],
      "text/plain": [
       "                   app_name  \\\n",
       "0   Warhammer: Vermintide 2   \n",
       "1              No Man's Sky   \n",
       "2      The Binding of Isaac   \n",
       "3                  Among Us   \n",
       "4  The Elder Scrolls Online   \n",
       "\n",
       "                                              review  Target  \n",
       "0  jogo não é ruim, mas se eu pudesse eu voltava ...     2.0  \n",
       "1  Não posso avaliar, porque NÃO CONSIGO JOGAR!\\n...     2.0  \n",
       "2  UPDATE: Dei outra chance, comprei o Rebirth e ...     2.0  \n",
       "3  Parabens aos desenvolvedores desse jogo, muito...     2.0  \n",
       "4  É feio\\nNão tem akele girocóptero em camera le...     2.0  "
      ]
     },
     "execution_count": 166,
     "metadata": {},
     "output_type": "execute_result"
    }
   ],
   "source": [
    "train = pd.read_excel(filename, sheet_name = 'Treinamento')\n",
    "train.head(5)"
   ]
  },
  {
   "cell_type": "code",
   "execution_count": 167,
   "metadata": {},
   "outputs": [
    {
     "data": {
      "text/html": [
       "<div>\n",
       "<style scoped>\n",
       "    .dataframe tbody tr th:only-of-type {\n",
       "        vertical-align: middle;\n",
       "    }\n",
       "\n",
       "    .dataframe tbody tr th {\n",
       "        vertical-align: top;\n",
       "    }\n",
       "\n",
       "    .dataframe thead th {\n",
       "        text-align: right;\n",
       "    }\n",
       "</style>\n",
       "<table border=\"1\" class=\"dataframe\">\n",
       "  <thead>\n",
       "    <tr style=\"text-align: right;\">\n",
       "      <th></th>\n",
       "      <th>app_name</th>\n",
       "      <th>review</th>\n",
       "      <th>Target</th>\n",
       "    </tr>\n",
       "  </thead>\n",
       "  <tbody>\n",
       "    <tr>\n",
       "      <th>0</th>\n",
       "      <td>Mount &amp; Blade: Warband</td>\n",
       "      <td>Mano, mt bom, bora pro mount and blade 2 banne...</td>\n",
       "      <td>1</td>\n",
       "    </tr>\n",
       "    <tr>\n",
       "      <th>1</th>\n",
       "      <td>The Witcher 3: Wild Hunt</td>\n",
       "      <td>Melhor jogo ever do mundo, compra logo isso!</td>\n",
       "      <td>1</td>\n",
       "    </tr>\n",
       "    <tr>\n",
       "      <th>2</th>\n",
       "      <td>Rocket League</td>\n",
       "      <td>Esse Purgatório em forma de jogo, não me troux...</td>\n",
       "      <td>2</td>\n",
       "    </tr>\n",
       "    <tr>\n",
       "      <th>3</th>\n",
       "      <td>Grand Theft Auto V</td>\n",
       "      <td>Não precisa nem comentar né, afinal de contas ...</td>\n",
       "      <td>1</td>\n",
       "    </tr>\n",
       "    <tr>\n",
       "      <th>4</th>\n",
       "      <td>PLAYERUNKNOWN'S BATTLEGROUNDS</td>\n",
       "      <td>O jogo é muito bom, muito bom mesmo, mas infel...</td>\n",
       "      <td>2</td>\n",
       "    </tr>\n",
       "  </tbody>\n",
       "</table>\n",
       "</div>"
      ],
      "text/plain": [
       "                        app_name  \\\n",
       "0         Mount & Blade: Warband   \n",
       "1       The Witcher 3: Wild Hunt   \n",
       "2                  Rocket League   \n",
       "3             Grand Theft Auto V   \n",
       "4  PLAYERUNKNOWN'S BATTLEGROUNDS   \n",
       "\n",
       "                                              review  Target  \n",
       "0  Mano, mt bom, bora pro mount and blade 2 banne...       1  \n",
       "1       Melhor jogo ever do mundo, compra logo isso!       1  \n",
       "2  Esse Purgatório em forma de jogo, não me troux...       2  \n",
       "3  Não precisa nem comentar né, afinal de contas ...       1  \n",
       "4  O jogo é muito bom, muito bom mesmo, mas infel...       2  "
      ]
     },
     "execution_count": 167,
     "metadata": {},
     "output_type": "execute_result"
    }
   ],
   "source": [
    "test = pd.read_excel(filename, sheet_name = 'Teste')\n",
    "test.head(5)"
   ]
  },
  {
   "cell_type": "markdown",
   "metadata": {},
   "source": [
    "___\n",
    "## Classificador automático\n"
   ]
  },
  {
   "attachments": {},
   "cell_type": "markdown",
   "metadata": {},
   "source": [
    "Faça aqui uma descrição do seu assunto e o que considerou como relevante ou não relevante na classificação dos tweets (Target).\n",
    "\n",
    "Tendo como assunto reviews de jogos na plataforma \"Steam\", fizemos a seguinte triagem:\n",
    "1 - Opiniões sem teor julgador negativo\n",
    "2 - Opiniões anti-recomendativas"
   ]
  },
  {
   "cell_type": "markdown",
   "metadata": {},
   "source": [
    "___\n",
    "### Montando um Classificador Naive-Bayes\n",
    "\n",
    "Considerando apenas as mensagens da planilha Treinamento, ensine  seu classificador."
   ]
  },
  {
   "cell_type": "code",
   "execution_count": 168,
   "metadata": {},
   "outputs": [],
   "source": [
    "#De início, faz-se a limpeza. Para isso, define-se a função cleanup (apresentada na aula 08 - Lusíadas e Dom Casmurro) para que ocorram mudanças de sinais para strings vazias. \n",
    "import re\n",
    "def cleanup(text):\n",
    "    \"\"\"\n",
    "        Função de limpeza muito simples que troca alguns sinais básicos por espaços\n",
    "    \"\"\"\n",
    "    #import string\n",
    "    punctuation = '[´\"!-.:?;$'']' # Note que os sinais [] são delimitadores de um conjunto.\n",
    "    pattern = re.compile(punctuation)\n",
    "    text_subbed = re.sub(pattern, '', text)\n",
    "    return text_subbed\n",
    "#Em seguida, pensando nos caracteres especiais, realiza-se a seguinte sequência de códigos para que sejam removidos:\n",
    "def acentos_especiais (texto):\n",
    "    lista_acentos = ['ã', 'á', 'à', 'â', 'ô', 'õ', 'ó', 'ò', 'ê','è', 'é', 'í', 'ì', 'ú', 'ù']\n",
    "    vogais = ['a', 'o', 'e', 'i', 'u']\n",
    "    for caractere in lista_acentos:\n",
    "        if caractere in texto:\n",
    "            indexx = texto.index(caractere)\n",
    "            if indexx <= 3:\n",
    "                texto = texto.replace(caractere, vogais[0])\n",
    "            elif indexx > 3 and indexx <= 7:\n",
    "                texto = texto.replace(caractere, vogais[1])\n",
    "            elif indexx > 7 and indexx <= 10:\n",
    "                texto = texto.replace(caractere, vogais[2])\n",
    "            elif indexx > 10 and indexx <= 12:\n",
    "                texto = texto.replace(caractere, vogais[3])\n",
    "            else:\n",
    "                texto = texto.replace(caractere, vogais[4])\n",
    "    texto = texto.replace(u'\\xa0', '')\n",
    "    texto = texto.replace(u'\\u200b', '')\n",
    "    texto = texto.replace(u'\\\\', '')\n",
    "    texto = texto.replace(u'\\u200b', '')\n",
    "    texto = texto.replace('ç', 'c')\n",
    "    texto = texto.replace(u'\\u2019', '')\n",
    "    texto = texto.replace(u'\\u201D', '')\n",
    "    texto = texto.replace(u'\\u201C', '')\n",
    "    return texto"
   ]
  },
  {
   "cell_type": "code",
   "execution_count": 169,
   "metadata": {},
   "outputs": [
    {
     "ename": "TypeError",
     "evalue": "expected string or bytes-like object",
     "output_type": "error",
     "traceback": [
      "\u001b[1;31m---------------------------------------------------------------------------\u001b[0m",
      "\u001b[1;31mTypeError\u001b[0m                                 Traceback (most recent call last)",
      "\u001b[1;32mc:\\Users\\Pedro Vidal\\Desktop\\P1_Cdados_Pedro_Felipe\\23-1a-cd-p1-pedro_felipe\\notebooks\\relatorio.ipynb Cell 16\u001b[0m in \u001b[0;36m<cell line: 3>\u001b[1;34m()\u001b[0m\n\u001b[0;32m      <a href='vscode-notebook-cell:/c%3A/Users/Pedro%20Vidal/Desktop/P1_Cdados_Pedro_Felipe/23-1a-cd-p1-pedro_felipe/notebooks/relatorio.ipynb#X45sZmlsZQ%3D%3D?line=0'>1</a>\u001b[0m \u001b[39m#Agora aplica-se ambas funções acima e a função .lower visando a facilitar o manuseio das probabilidades\u001b[39;00m\n\u001b[0;32m      <a href='vscode-notebook-cell:/c%3A/Users/Pedro%20Vidal/Desktop/P1_Cdados_Pedro_Felipe/23-1a-cd-p1-pedro_felipe/notebooks/relatorio.ipynb#X45sZmlsZQ%3D%3D?line=1'>2</a>\u001b[0m dados_treinamento \u001b[39m=\u001b[39m train\n\u001b[1;32m----> <a href='vscode-notebook-cell:/c%3A/Users/Pedro%20Vidal/Desktop/P1_Cdados_Pedro_Felipe/23-1a-cd-p1-pedro_felipe/notebooks/relatorio.ipynb#X45sZmlsZQ%3D%3D?line=2'>3</a>\u001b[0m dados_treinamento\u001b[39m.\u001b[39mreview \u001b[39m=\u001b[39m dados_treinamento\u001b[39m.\u001b[39;49mreview\u001b[39m.\u001b[39;49mapply(cleanup)\n\u001b[0;32m      <a href='vscode-notebook-cell:/c%3A/Users/Pedro%20Vidal/Desktop/P1_Cdados_Pedro_Felipe/23-1a-cd-p1-pedro_felipe/notebooks/relatorio.ipynb#X45sZmlsZQ%3D%3D?line=3'>4</a>\u001b[0m dados_treinamento\u001b[39m.\u001b[39mreview \u001b[39m=\u001b[39m dados_treinamento\u001b[39m.\u001b[39mreview\u001b[39m.\u001b[39mapply(acentos_especiais)\n\u001b[0;32m      <a href='vscode-notebook-cell:/c%3A/Users/Pedro%20Vidal/Desktop/P1_Cdados_Pedro_Felipe/23-1a-cd-p1-pedro_felipe/notebooks/relatorio.ipynb#X45sZmlsZQ%3D%3D?line=4'>5</a>\u001b[0m dados_treinamento\u001b[39m.\u001b[39mreview \u001b[39m=\u001b[39m dados_treinamento\u001b[39m.\u001b[39mreview\u001b[39m.\u001b[39mapply(\u001b[39mstr\u001b[39m\u001b[39m.\u001b[39mlower)\n",
      "File \u001b[1;32mc:\\Users\\Pedro Vidal\\anaconda3\\lib\\site-packages\\pandas\\core\\series.py:4433\u001b[0m, in \u001b[0;36mSeries.apply\u001b[1;34m(self, func, convert_dtype, args, **kwargs)\u001b[0m\n\u001b[0;32m   4323\u001b[0m \u001b[39mdef\u001b[39;00m \u001b[39mapply\u001b[39m(\n\u001b[0;32m   4324\u001b[0m     \u001b[39mself\u001b[39m,\n\u001b[0;32m   4325\u001b[0m     func: AggFuncType,\n\u001b[1;32m   (...)\u001b[0m\n\u001b[0;32m   4328\u001b[0m     \u001b[39m*\u001b[39m\u001b[39m*\u001b[39mkwargs,\n\u001b[0;32m   4329\u001b[0m ) \u001b[39m-\u001b[39m\u001b[39m>\u001b[39m DataFrame \u001b[39m|\u001b[39m Series:\n\u001b[0;32m   4330\u001b[0m     \u001b[39m\"\"\"\u001b[39;00m\n\u001b[0;32m   4331\u001b[0m \u001b[39m    Invoke function on values of Series.\u001b[39;00m\n\u001b[0;32m   4332\u001b[0m \n\u001b[1;32m   (...)\u001b[0m\n\u001b[0;32m   4431\u001b[0m \u001b[39m    dtype: float64\u001b[39;00m\n\u001b[0;32m   4432\u001b[0m \u001b[39m    \"\"\"\u001b[39;00m\n\u001b[1;32m-> 4433\u001b[0m     \u001b[39mreturn\u001b[39;00m SeriesApply(\u001b[39mself\u001b[39;49m, func, convert_dtype, args, kwargs)\u001b[39m.\u001b[39;49mapply()\n",
      "File \u001b[1;32mc:\\Users\\Pedro Vidal\\anaconda3\\lib\\site-packages\\pandas\\core\\apply.py:1082\u001b[0m, in \u001b[0;36mSeriesApply.apply\u001b[1;34m(self)\u001b[0m\n\u001b[0;32m   1078\u001b[0m \u001b[39mif\u001b[39;00m \u001b[39misinstance\u001b[39m(\u001b[39mself\u001b[39m\u001b[39m.\u001b[39mf, \u001b[39mstr\u001b[39m):\n\u001b[0;32m   1079\u001b[0m     \u001b[39m# if we are a string, try to dispatch\u001b[39;00m\n\u001b[0;32m   1080\u001b[0m     \u001b[39mreturn\u001b[39;00m \u001b[39mself\u001b[39m\u001b[39m.\u001b[39mapply_str()\n\u001b[1;32m-> 1082\u001b[0m \u001b[39mreturn\u001b[39;00m \u001b[39mself\u001b[39;49m\u001b[39m.\u001b[39;49mapply_standard()\n",
      "File \u001b[1;32mc:\\Users\\Pedro Vidal\\anaconda3\\lib\\site-packages\\pandas\\core\\apply.py:1137\u001b[0m, in \u001b[0;36mSeriesApply.apply_standard\u001b[1;34m(self)\u001b[0m\n\u001b[0;32m   1131\u001b[0m         values \u001b[39m=\u001b[39m obj\u001b[39m.\u001b[39mastype(\u001b[39mobject\u001b[39m)\u001b[39m.\u001b[39m_values\n\u001b[0;32m   1132\u001b[0m         \u001b[39m# error: Argument 2 to \"map_infer\" has incompatible type\u001b[39;00m\n\u001b[0;32m   1133\u001b[0m         \u001b[39m# \"Union[Callable[..., Any], str, List[Union[Callable[..., Any], str]],\u001b[39;00m\n\u001b[0;32m   1134\u001b[0m         \u001b[39m# Dict[Hashable, Union[Union[Callable[..., Any], str],\u001b[39;00m\n\u001b[0;32m   1135\u001b[0m         \u001b[39m# List[Union[Callable[..., Any], str]]]]]\"; expected\u001b[39;00m\n\u001b[0;32m   1136\u001b[0m         \u001b[39m# \"Callable[[Any], Any]\"\u001b[39;00m\n\u001b[1;32m-> 1137\u001b[0m         mapped \u001b[39m=\u001b[39m lib\u001b[39m.\u001b[39;49mmap_infer(\n\u001b[0;32m   1138\u001b[0m             values,\n\u001b[0;32m   1139\u001b[0m             f,  \u001b[39m# type: ignore[arg-type]\u001b[39;49;00m\n\u001b[0;32m   1140\u001b[0m             convert\u001b[39m=\u001b[39;49m\u001b[39mself\u001b[39;49m\u001b[39m.\u001b[39;49mconvert_dtype,\n\u001b[0;32m   1141\u001b[0m         )\n\u001b[0;32m   1143\u001b[0m \u001b[39mif\u001b[39;00m \u001b[39mlen\u001b[39m(mapped) \u001b[39mand\u001b[39;00m \u001b[39misinstance\u001b[39m(mapped[\u001b[39m0\u001b[39m], ABCSeries):\n\u001b[0;32m   1144\u001b[0m     \u001b[39m# GH#43986 Need to do list(mapped) in order to get treated as nested\u001b[39;00m\n\u001b[0;32m   1145\u001b[0m     \u001b[39m#  See also GH#25959 regarding EA support\u001b[39;00m\n\u001b[0;32m   1146\u001b[0m     \u001b[39mreturn\u001b[39;00m obj\u001b[39m.\u001b[39m_constructor_expanddim(\u001b[39mlist\u001b[39m(mapped), index\u001b[39m=\u001b[39mobj\u001b[39m.\u001b[39mindex)\n",
      "File \u001b[1;32mc:\\Users\\Pedro Vidal\\anaconda3\\lib\\site-packages\\pandas\\_libs\\lib.pyx:2870\u001b[0m, in \u001b[0;36mpandas._libs.lib.map_infer\u001b[1;34m()\u001b[0m\n",
      "\u001b[1;32mc:\\Users\\Pedro Vidal\\Desktop\\P1_Cdados_Pedro_Felipe\\23-1a-cd-p1-pedro_felipe\\notebooks\\relatorio.ipynb Cell 16\u001b[0m in \u001b[0;36mcleanup\u001b[1;34m(text)\u001b[0m\n\u001b[0;32m      <a href='vscode-notebook-cell:/c%3A/Users/Pedro%20Vidal/Desktop/P1_Cdados_Pedro_Felipe/23-1a-cd-p1-pedro_felipe/notebooks/relatorio.ipynb#X45sZmlsZQ%3D%3D?line=7'>8</a>\u001b[0m punctuation \u001b[39m=\u001b[39m \u001b[39m'\u001b[39m\u001b[39m[´\u001b[39m\u001b[39m\"\u001b[39m\u001b[39m!-.:?;$\u001b[39m\u001b[39m'\u001b[39m\u001b[39m'\u001b[39m\u001b[39m]\u001b[39m\u001b[39m'\u001b[39m \u001b[39m# Note que os sinais [] são delimitadores de um conjunto.\u001b[39;00m\n\u001b[0;32m      <a href='vscode-notebook-cell:/c%3A/Users/Pedro%20Vidal/Desktop/P1_Cdados_Pedro_Felipe/23-1a-cd-p1-pedro_felipe/notebooks/relatorio.ipynb#X45sZmlsZQ%3D%3D?line=8'>9</a>\u001b[0m pattern \u001b[39m=\u001b[39m re\u001b[39m.\u001b[39mcompile(punctuation)\n\u001b[1;32m---> <a href='vscode-notebook-cell:/c%3A/Users/Pedro%20Vidal/Desktop/P1_Cdados_Pedro_Felipe/23-1a-cd-p1-pedro_felipe/notebooks/relatorio.ipynb#X45sZmlsZQ%3D%3D?line=9'>10</a>\u001b[0m text_subbed \u001b[39m=\u001b[39m re\u001b[39m.\u001b[39;49msub(pattern, \u001b[39m'\u001b[39;49m\u001b[39m'\u001b[39;49m, text)\n\u001b[0;32m     <a href='vscode-notebook-cell:/c%3A/Users/Pedro%20Vidal/Desktop/P1_Cdados_Pedro_Felipe/23-1a-cd-p1-pedro_felipe/notebooks/relatorio.ipynb#X45sZmlsZQ%3D%3D?line=10'>11</a>\u001b[0m \u001b[39mreturn\u001b[39;00m text_subbed\n",
      "File \u001b[1;32mc:\\Users\\Pedro Vidal\\anaconda3\\lib\\re.py:210\u001b[0m, in \u001b[0;36msub\u001b[1;34m(pattern, repl, string, count, flags)\u001b[0m\n\u001b[0;32m    203\u001b[0m \u001b[39mdef\u001b[39;00m \u001b[39msub\u001b[39m(pattern, repl, string, count\u001b[39m=\u001b[39m\u001b[39m0\u001b[39m, flags\u001b[39m=\u001b[39m\u001b[39m0\u001b[39m):\n\u001b[0;32m    204\u001b[0m     \u001b[39m\"\"\"Return the string obtained by replacing the leftmost\u001b[39;00m\n\u001b[0;32m    205\u001b[0m \u001b[39m    non-overlapping occurrences of the pattern in string by the\u001b[39;00m\n\u001b[0;32m    206\u001b[0m \u001b[39m    replacement repl.  repl can be either a string or a callable;\u001b[39;00m\n\u001b[0;32m    207\u001b[0m \u001b[39m    if a string, backslash escapes in it are processed.  If it is\u001b[39;00m\n\u001b[0;32m    208\u001b[0m \u001b[39m    a callable, it's passed the Match object and must return\u001b[39;00m\n\u001b[0;32m    209\u001b[0m \u001b[39m    a replacement string to be used.\"\"\"\u001b[39;00m\n\u001b[1;32m--> 210\u001b[0m     \u001b[39mreturn\u001b[39;00m _compile(pattern, flags)\u001b[39m.\u001b[39;49msub(repl, string, count)\n",
      "\u001b[1;31mTypeError\u001b[0m: expected string or bytes-like object"
     ]
    }
   ],
   "source": [
    "#Agora aplica-se ambas funções acima e a função .lower visando a facilitar o manuseio das probabilidades\n",
    "dados_treinamento = train\n",
    "dados_treinamento.review = dados_treinamento.review.apply(cleanup)\n",
    "dados_treinamento.review = dados_treinamento.review.apply(acentos_especiais)\n",
    "dados_treinamento.review = dados_treinamento.review.apply(str.lower)\n",
    "dados_treinamento"
   ]
  },
  {
   "cell_type": "code",
   "execution_count": null,
   "metadata": {},
   "outputs": [
    {
     "ename": "AttributeError",
     "evalue": "'DataFrame' object has no attribute 'Descrição'",
     "output_type": "error",
     "traceback": [
      "\u001b[1;31m---------------------------------------------------------------------------\u001b[0m",
      "\u001b[1;31mAttributeError\u001b[0m                            Traceback (most recent call last)",
      "\u001b[1;32mc:\\Users\\Pedro Vidal\\Desktop\\P1_Cdados_Pedro_Felipe\\23-1a-cd-p1-pedro_felipe\\notebooks\\relatorio.ipynb Cell 16\u001b[0m in \u001b[0;36m<cell line: 5>\u001b[1;34m()\u001b[0m\n\u001b[0;32m      <a href='vscode-notebook-cell:/c%3A/Users/Pedro%20Vidal/Desktop/P1_Cdados_Pedro_Felipe/23-1a-cd-p1-pedro_felipe/notebooks/relatorio.ipynb#X20sZmlsZQ%3D%3D?line=2'>3</a>\u001b[0m nao_recomenda \u001b[39m=\u001b[39m []\n\u001b[0;32m      <a href='vscode-notebook-cell:/c%3A/Users/Pedro%20Vidal/Desktop/P1_Cdados_Pedro_Felipe/23-1a-cd-p1-pedro_felipe/notebooks/relatorio.ipynb#X20sZmlsZQ%3D%3D?line=3'>4</a>\u001b[0m \u001b[39m#Criando variável opiniao\u001b[39;00m\n\u001b[1;32m----> <a href='vscode-notebook-cell:/c%3A/Users/Pedro%20Vidal/Desktop/P1_Cdados_Pedro_Felipe/23-1a-cd-p1-pedro_felipe/notebooks/relatorio.ipynb#X20sZmlsZQ%3D%3D?line=4'>5</a>\u001b[0m opiniao \u001b[39m=\u001b[39m cleanup(train\u001b[39m.\u001b[39;49mDescrição[i])\u001b[39m.\u001b[39mlower()\u001b[39m.\u001b[39msplit()\n\u001b[0;32m      <a href='vscode-notebook-cell:/c%3A/Users/Pedro%20Vidal/Desktop/P1_Cdados_Pedro_Felipe/23-1a-cd-p1-pedro_felipe/notebooks/relatorio.ipynb#X20sZmlsZQ%3D%3D?line=5'>6</a>\u001b[0m \u001b[39m#Analisando na planilha treinamento\u001b[39;00m\n\u001b[0;32m      <a href='vscode-notebook-cell:/c%3A/Users/Pedro%20Vidal/Desktop/P1_Cdados_Pedro_Felipe/23-1a-cd-p1-pedro_felipe/notebooks/relatorio.ipynb#X20sZmlsZQ%3D%3D?line=6'>7</a>\u001b[0m \u001b[39mif\u001b[39;00m train\u001b[39m.\u001b[39miloc[\u001b[39m1\u001b[39m,\u001b[39m5\u001b[39m] \u001b[39m==\u001b[39m \u001b[39m1\u001b[39m:\n",
      "File \u001b[1;32mc:\\Users\\Pedro Vidal\\anaconda3\\lib\\site-packages\\pandas\\core\\generic.py:5575\u001b[0m, in \u001b[0;36mNDFrame.__getattr__\u001b[1;34m(self, name)\u001b[0m\n\u001b[0;32m   5568\u001b[0m \u001b[39mif\u001b[39;00m (\n\u001b[0;32m   5569\u001b[0m     name \u001b[39mnot\u001b[39;00m \u001b[39min\u001b[39;00m \u001b[39mself\u001b[39m\u001b[39m.\u001b[39m_internal_names_set\n\u001b[0;32m   5570\u001b[0m     \u001b[39mand\u001b[39;00m name \u001b[39mnot\u001b[39;00m \u001b[39min\u001b[39;00m \u001b[39mself\u001b[39m\u001b[39m.\u001b[39m_metadata\n\u001b[0;32m   5571\u001b[0m     \u001b[39mand\u001b[39;00m name \u001b[39mnot\u001b[39;00m \u001b[39min\u001b[39;00m \u001b[39mself\u001b[39m\u001b[39m.\u001b[39m_accessors\n\u001b[0;32m   5572\u001b[0m     \u001b[39mand\u001b[39;00m \u001b[39mself\u001b[39m\u001b[39m.\u001b[39m_info_axis\u001b[39m.\u001b[39m_can_hold_identifiers_and_holds_name(name)\n\u001b[0;32m   5573\u001b[0m ):\n\u001b[0;32m   5574\u001b[0m     \u001b[39mreturn\u001b[39;00m \u001b[39mself\u001b[39m[name]\n\u001b[1;32m-> 5575\u001b[0m \u001b[39mreturn\u001b[39;00m \u001b[39mobject\u001b[39;49m\u001b[39m.\u001b[39;49m\u001b[39m__getattribute__\u001b[39;49m(\u001b[39mself\u001b[39;49m, name)\n",
      "\u001b[1;31mAttributeError\u001b[0m: 'DataFrame' object has no attribute 'Descrição'"
     ]
    }
   ],
   "source": []
  },
  {
   "cell_type": "code",
   "execution_count": null,
   "metadata": {},
   "outputs": [],
   "source": []
  },
  {
   "cell_type": "markdown",
   "metadata": {},
   "source": [
    "___\n",
    "### Verificando a performance do Classificador\n",
    "\n",
    "Agora você deve testar o seu classificador com a base de Testes."
   ]
  },
  {
   "cell_type": "code",
   "execution_count": null,
   "metadata": {},
   "outputs": [],
   "source": []
  },
  {
   "cell_type": "code",
   "execution_count": null,
   "metadata": {},
   "outputs": [],
   "source": []
  },
  {
   "cell_type": "code",
   "execution_count": null,
   "metadata": {},
   "outputs": [],
   "source": []
  },
  {
   "cell_type": "markdown",
   "metadata": {},
   "source": [
    "___\n",
    "### Concluindo"
   ]
  },
  {
   "cell_type": "code",
   "execution_count": null,
   "metadata": {},
   "outputs": [],
   "source": []
  },
  {
   "cell_type": "code",
   "execution_count": null,
   "metadata": {},
   "outputs": [],
   "source": []
  },
  {
   "cell_type": "code",
   "execution_count": null,
   "metadata": {},
   "outputs": [],
   "source": []
  },
  {
   "cell_type": "markdown",
   "metadata": {},
   "source": [
    "___\n",
    "### Qualidade do Classificador a partir de novas separações dos tweets entre Treinamento e Teste\n",
    "\n",
    "Caso for fazer esse item do Projeto"
   ]
  },
  {
   "cell_type": "code",
   "execution_count": null,
   "metadata": {},
   "outputs": [],
   "source": []
  },
  {
   "cell_type": "code",
   "execution_count": null,
   "metadata": {},
   "outputs": [],
   "source": []
  },
  {
   "cell_type": "code",
   "execution_count": null,
   "metadata": {},
   "outputs": [],
   "source": []
  },
  {
   "cell_type": "markdown",
   "metadata": {},
   "source": [
    "___\n",
    "## Aperfeiçoamento:\n",
    "\n",
    "Trabalhos que conseguirem pelo menos conceito B vão evoluir em conceito dependendo da quantidade de itens avançados:\n",
    "\n",
    "* IMPLEMENTOU outras limpezas e transformações que não afetem a qualidade da informação contida nos tweets. Ex: stemming, lemmatization, stopwords\n",
    "* CONSIDEROU mais de duas categorias na variável Target e INCREMENTOU a quantidade de notícias, mantendo pelo menos 250 notícias por categoria (OBRIGATÓRIO PARA TRIOS, sem contar como item avançado)\n",
    "* Para Target com duas categorias: CRIOU pelo menos quatro categorias intermediárias de relevância baseadas na probabilidade: ex.: muito relevante, relevante, neutro, irrelevante, muito irrelevante\n",
    "* EXPLICOU porquê não pode usar o próprio classificador para gerar mais amostras de treinamento\n",
    "* PROPÔS diferentes cenários para Naïve Bayes fora do contexto do projeto (pelo menos dois cenários, exceto aqueles já apresentados em sala pelos professores: por exemplo, filtro de spam)\n",
    "* SUGERIU e EXPLICOU melhorias reais com indicações concretas de como implementar (indicar como fazer e indicar material de pesquisa)\n",
    "* FEZ o item Qualidade do Classificador a partir de novas separações das Notícias entre Treinamento e Teste descrito no enunciado do projeto (OBRIGATÓRIO para conceitos A ou A+)"
   ]
  },
  {
   "cell_type": "markdown",
   "metadata": {},
   "source": [
    "___\n",
    "## Referências"
   ]
  },
  {
   "cell_type": "markdown",
   "metadata": {},
   "source": [
    "[Naive Bayes and Text Classification](https://arxiv.org/pdf/1410.5329.pdf)  **Mais completo**\n",
    "\n",
    "[A practical explanation of a Naive Bayes Classifier](https://monkeylearn.com/blog/practical-explanation-naive-bayes-classifier/) **Mais simples**"
   ]
  },
  {
   "cell_type": "code",
   "execution_count": null,
   "metadata": {},
   "outputs": [],
   "source": []
  }
 ],
 "metadata": {
  "kernelspec": {
   "display_name": "Python 3 (ipykernel)",
   "language": "python",
   "name": "python3"
  },
  "language_info": {
   "codemirror_mode": {
    "name": "ipython",
    "version": 3
   },
   "file_extension": ".py",
   "mimetype": "text/x-python",
   "name": "python",
   "nbconvert_exporter": "python",
   "pygments_lexer": "ipython3",
   "version": "3.9.12"
  }
 },
 "nbformat": 4,
 "nbformat_minor": 4
}
