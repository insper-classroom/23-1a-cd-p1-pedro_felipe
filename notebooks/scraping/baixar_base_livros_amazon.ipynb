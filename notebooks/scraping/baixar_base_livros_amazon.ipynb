{
 "cells": [
  {
   "cell_type": "markdown",
   "id": "675a8ca7",
   "metadata": {},
   "source": [
    "___\n",
    "# Insper - Ciência dos Dados - Projeto 1\n",
    "\n",
    "# Obtenção das avaliações\n",
    "\n",
    "Utilize este notebook para **baixar avaliações de livros**.\n",
    "\n",
    "O código abaixo irá automativamente baixar um conjunto de avaliações reais de livros submetidas por usuários da Amazon.\n",
    "\n",
    "Será gerado um arquivo `dados.xlsx` contendo as informações disponíveis para o projeto.\n",
    "\n",
    "## Preparação do ambiente no jupyter\n",
    "\n",
    "Vamos importar algumas bibliotecas e definir algumas funções úteis!"
   ]
  },
  {
   "cell_type": "code",
   "execution_count": 1,
   "id": "7db82b9b",
   "metadata": {},
   "outputs": [
    {
     "name": "stdout",
     "output_type": "stream",
     "text": [
      "Requirement already satisfied: urllib3 in /usr/local/Cellar/jupyterlab/3.1.7/libexec/lib/python3.9/site-packages (1.26.6)\n",
      "\n",
      "\u001b[1m[\u001b[0m\u001b[34;49mnotice\u001b[0m\u001b[1;39;49m]\u001b[0m\u001b[39;49m A new release of pip available: \u001b[0m\u001b[31;49m22.2.2\u001b[0m\u001b[39;49m -> \u001b[0m\u001b[32;49m23.0.1\u001b[0m\n",
      "\u001b[1m[\u001b[0m\u001b[34;49mnotice\u001b[0m\u001b[1;39;49m]\u001b[0m\u001b[39;49m To update, run: \u001b[0m\u001b[32;49mpython3.9 -m pip install --upgrade pip\u001b[0m\n",
      "Note: you may need to restart the kernel to use updated packages.\n"
     ]
    }
   ],
   "source": [
    "pip install urllib3"
   ]
  },
  {
   "cell_type": "code",
   "execution_count": 2,
   "id": "3f50afd8",
   "metadata": {},
   "outputs": [],
   "source": [
    "import pandas as pd\n",
    "import numpy as np\n",
    "import hashlib\n",
    "from sklearn.utils import shuffle\n",
    "import os.path\n",
    "import urllib.request"
   ]
  },
  {
   "cell_type": "code",
   "execution_count": 21,
   "id": "c0881a0c",
   "metadata": {},
   "outputs": [],
   "source": [
    "def decode(byt):\n",
    "    mask = b'dataset'\n",
    "    lmask = len(mask)\n",
    "    return bytes(c ^ mask[i % lmask] for i, c in enumerate(byt))\n",
    "\n",
    "def get_data(usuario=\"user\", avaliacoes=500):\n",
    "    file_path = '../../data/dados.xlsx'\n",
    "    if not os.path.isfile(file_path):\n",
    "\n",
    "        print(f'Ok! Vou baixar avaliações de livros da Amazon!')\n",
    "        print('\\nAguarde... Este processo pode demorar alguns minutos!')\n",
    "\n",
    "        target = decode(b'\\x0c\\x15\\x00\\x11\\x00_[K\\x13\\x15\\x16]\\x02\\x1d\\x10\\t\\x01\\x03\\x06\\x16\\x11\\x16\\x02\\x1b\\x0f\\x07\\x00\\x1a\\x10O\\x17\\x0e\\x1eJ\\x18\\x05\\x13\\x1d\\x07\\x16\\t\\x1d\\x07\\x08\\x15\\x0f\\x12J\\x16\\x0b\\x0e\\x1f\\x12^\\x17\\x11\\x12\\x08\\x11\\x16\\x00H\\x04\\x0b\\x13\\x00\\x14\\x14\\x10\\x11\\x17\\x04[\\x0c\\x12\\x16\\x00\\x01\\x13[\\x03\\x1c\\n\\x1f\\x17>\\x04\\x15,\\x0b\\x11\\x03').decode('ascii')\n",
    "        resource = urllib.request.urlopen(target)\n",
    "        content =  resource.read().decode(resource.headers.get_content_charset())\n",
    "        llines = content.split(\"\\r\\n\")\n",
    "\n",
    "        target = decode(b'\\x0c\\x15\\x00\\x11\\x00_[K\\x13\\x15\\x16]\\x02\\x1d\\x10\\t\\x01\\x03\\x06\\x16\\x11\\x16\\x02\\x1b\\x0f\\x07\\x00\\x1a\\x10O\\x17\\x0e\\x1eJ\\x18\\x05\\x13\\x1d\\x07\\x16\\t\\x1d\\x07\\x08\\x15\\x0f\\x12J\\x16\\x0b\\x0e\\x1f\\x12^\\x17\\x11\\x12\\x08\\x11\\x16\\x00H\\x04\\x0b\\x13\\x00\\x14\\x14\\x10\\x11\\x17\\x04[\\x0c\\x12\\x16\\x00\\x01\\x13[\\x03\\x1c\\n\\x1f\\x17>\\x04\\x15,\\x15\\x1b\\x17').decode('ascii')\n",
    "        resource = urllib.request.urlopen(target)\n",
    "        content =  resource.read().decode(resource.headers.get_content_charset())\n",
    "        rlines = content.split(\"\\r\\n\")\n",
    "\n",
    "        seed = abs(hash(usuario)) % (10 ** 8)\n",
    "        np.random.seed(seed)\n",
    "        perc = np.random.uniform(0.4,0.6)\n",
    "        left = np.ceil(perc * avaliacoes)\n",
    "        lser = pd.Series(np.random.choice(llines,int(left),replace=False))\n",
    "        right= avaliacoes-left\n",
    "        rser = pd.Series(np.random.choice(rlines,int(right),replace=False))\n",
    "        perc_train=0.6\n",
    "\n",
    "        l_treino = int(np.floor(left * perc_train))\n",
    "        r_treino = int(np.floor(right * perc_train))\n",
    "\n",
    "        ltrain = lser.iloc[:l_treino]\n",
    "        ltest = lser.iloc[l_treino:]\n",
    "        rtrain = rser.iloc[:r_treino]\n",
    "        rtest = rser.iloc[r_treino:]\n",
    "\n",
    "        train = ltrain.append(rtrain,ignore_index = True)\n",
    "        test = ltest.append(rtest,ignore_index = True)\n",
    "\n",
    "        train = shuffle(train).reset_index(drop=True)\n",
    "        test = shuffle(test).reset_index(drop=True)\n",
    "\n",
    "        writer = pd.ExcelWriter(file_path)\n",
    "        \n",
    "        dft = pd.DataFrame({'Avaliacao' : train})\n",
    "\n",
    "        dft.to_excel(excel_writer = writer, sheet_name = 'Treinamento', index = False)\n",
    "        \n",
    "        dfc = pd.DataFrame({'Avaliacao' : test})\n",
    "\n",
    "        dfc.to_excel(excel_writer = writer, sheet_name = 'Teste', index = False)\n",
    "\n",
    "        writer.save()\n",
    "\n",
    "        print('Processo finalizado!')\n",
    "        print('\\nGeramos um arquivo chamado dados.xlsx na pasta data, confira!')\n",
    "\n",
    "    else:\n",
    "\n",
    "        raise Exception('Arquivo dados.xlsx já existe na pasta data! Apague o arquivo caso queira gerar novamente!')\n"
   ]
  },
  {
   "cell_type": "markdown",
   "id": "f255716b",
   "metadata": {},
   "source": [
    "## Insira seu usuário Insper"
   ]
  },
  {
   "cell_type": "code",
   "execution_count": 22,
   "id": "94397a46",
   "metadata": {},
   "outputs": [],
   "source": [
    "nome_usuario=\"\""
   ]
  },
  {
   "cell_type": "code",
   "execution_count": 23,
   "id": "671674ab",
   "metadata": {},
   "outputs": [],
   "source": [
    "nome_usuario = nome_usuario.strip()\n",
    "if len(nome_usuario) == 0:\n",
    "    raise Exception('Você precisa inserir seu nome de usuário na variável usuario!')"
   ]
  },
  {
   "cell_type": "markdown",
   "id": "c4436ec4",
   "metadata": {},
   "source": [
    "## Defina a quantidade de avaliações\n",
    "\n",
    "Defina a quantidade de avaliações a serem baixadas. Lembre-se que a quantidade mínima de avaliações depende da quantidade de categorias que serão avaliadas."
   ]
  },
  {
   "cell_type": "code",
   "execution_count": 24,
   "id": "04db8ec8",
   "metadata": {},
   "outputs": [],
   "source": [
    "qtde_avaliacoes = 0"
   ]
  },
  {
   "cell_type": "code",
   "execution_count": 25,
   "id": "1cb7187e",
   "metadata": {},
   "outputs": [],
   "source": [
    "if qtde_avaliacoes <= 0:\n",
    "    raise Exception('Você precisa definir a quantidade de avaliações!')"
   ]
  },
  {
   "cell_type": "markdown",
   "id": "845f8ab3",
   "metadata": {},
   "source": [
    "## Obtenção das avaliações\n",
    "\n",
    "Execute a próxima célula. Ela irá construir uma base de dados personalizada de avaliações.\n",
    "\n",
    "Este processo poderá demorar alguns minutos. Quando ele finalizar, será gerado um arquivo `dados.xlsx` com as avaliações!\n",
    "\n",
    "Pontos de atenção:\n",
    "- Confira se a quantidade de avaliações foi suficiente (conforme enunciado)"
   ]
  },
  {
   "cell_type": "code",
   "execution_count": 26,
   "id": "393d46e9",
   "metadata": {},
   "outputs": [
    {
     "name": "stdout",
     "output_type": "stream",
     "text": [
      "Ok! Vou baixar avaliações de livros da Amazon!\n",
      "\n",
      "Aguarde... Este processo pode demorar alguns minutos!\n",
      "Processo finalizado!\n",
      "\n",
      "Geramos um arquivo chamado dados.xlsx na pasta data, confira!\n"
     ]
    }
   ],
   "source": [
    "get_data(nome_usuario,qtde_avaliacoes)"
   ]
  }
 ],
 "metadata": {
  "kernelspec": {
   "display_name": "Python 3 (ipykernel)",
   "language": "python",
   "name": "python3"
  },
  "language_info": {
   "codemirror_mode": {
    "name": "ipython",
    "version": 3
   },
   "file_extension": ".py",
   "mimetype": "text/x-python",
   "name": "python",
   "nbconvert_exporter": "python",
   "pygments_lexer": "ipython3",
   "version": "3.9.6"
  }
 },
 "nbformat": 4,
 "nbformat_minor": 5
}
